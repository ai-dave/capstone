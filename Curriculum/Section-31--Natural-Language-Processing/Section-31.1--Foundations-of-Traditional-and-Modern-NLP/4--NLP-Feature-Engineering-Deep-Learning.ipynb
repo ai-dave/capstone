{
 "cells": [
  {
   "cell_type": "markdown",
   "id": "482c1d8b",
   "metadata": {},
   "source": [
    "* https://www.springboard.com/workshops/ucsd-machine-learning-engineering-bootcamp/learn#/curriculum/26454\n",
    "* https://towardsdatascience.com/understanding-feature-engineering-part-4-deep-learning-methods-for-text-data-96c44370bbfahttps://github.com/dipanjanS/practical-machine-learning-with-python/tree/master/bonus%20content/feature%20engineering%20text%20data\n",
    "* https://github.com/dipanjanS/practical-machine-learning-with-python/tree/master/bonus%20content/feature%20engineering%20text%20data"
   ]
  },
  {
   "cell_type": "markdown",
   "id": "45888fc3",
   "metadata": {},
   "source": [
    "## A hands-on intuitive approach to Deep Learning Methods for Text Data — Word2Vec, GloVe and FastText\n",
    "\n",
    "### Newer, advanced strategies for taming unstructured, textual data\n",
    "\n",
    "We will be looking at more advanced feature engineering strategies which often leverage deep learning models:\n",
    "* Word2Vec\n",
    "* GloVe\n",
    "* FastText"
   ]
  },
  {
   "cell_type": "markdown",
   "id": "a5a14a60",
   "metadata": {},
   "source": [
    "### Shortcomings of traditional models\n",
    "Traditional (count-based) feature engineering strategies for textual data involve models belonging to a family of models popularly known as the Bag of Words model. This includes term frequencies, TF-IDF (term frequency-inverse document frequency), N-grams and so on. While they are effective methods for extracting features from text, due to the inherent nature of the model being just a bag of unstructured words, we lose additional information like the semantics, structure, sequence and context around nearby words in each text document. This forms as enough motivation for us to explore more sophisticated models which can capture this information and give us features which are vector representation of words, popularly known as embeddings."
   ]
  },
  {
   "cell_type": "markdown",
   "id": "5472892f",
   "metadata": {},
   "source": [
    "### The need for word embeddings\n",
    "While this does make some sense, why should we be motivated enough to learn and build these word embeddings? With regard to speech or image recognition systems, all the information is already present in the form of rich dense feature vectors embedded in high-dimensional datasets like audio spectrograms and image pixel intensities.\n",
    "\n",
    "However when it comes to raw text data, especially count based models like Bag of Words, we are dealing with individual words which may have their own identifiers and do not capture the semantic relationship amongst words.\n",
    "\n",
    "This leads to huge sparse word vectors for textual data and thus if we do not have enough data, we may end up getting poor models or even overfitting the data due to the curse of dimensionality.\n",
    "___\n",
    "\n",
    "To overcome the shortcomings of losing out semantics and feature sparsity in bag of words model based features, we need to make use of **Vector Space Models (VSMs)** in such a way that we can **embed word vectors in this continuous vector space** based on semantic and contextual similarity.\n",
    "\n",
    "The distributional hypothesis in the field of distributional semantics tells us that words which occur and are used in the same context, are semantically similar to one another and have similar meanings.\n",
    "\n",
    "In simple terms, *‘a word is characterized by the company it keeps’*.\n",
    "\n",
    "One of the famous papers talking about these semantic word vectors and various types in detail is *‘Don’t count, predict! A systematic comparison of context-counting vs. context-predicting semantic vectors’* by Baroni et al.\n",
    "\n",
    "In short, there are two main types of methods for contextual word vectors:\n",
    "* **Count-based methods** like Latent Semantic Analysis (LSA) which can be used to compute some statistical measures of how often words occur with their neighboring words in a corpus and then building out dense word vectors for each word from these measures. \n",
    "* **Predictive methods** like Neural Network based language models try to predict words from its neighboring words looking at word sequences in the corpus and in the process it learns distributed representations giving us dense word embeddings.\n",
    "\n",
    "### **We will be focusing on these *predictive methods* in this article.**"
   ]
  },
  {
   "cell_type": "markdown",
   "id": "e4794075",
   "metadata": {},
   "source": [
    "### Feature Engineering Strategies\n",
    "\n",
    "Let’s look at some of these advanced strategies for handling text data and extracting meaningful features from the same, which can be used in downstream machine learning systems.\n",
    "\n",
    "We’ll start by loading up some basic dependencies and settings:"
   ]
  },
  {
   "cell_type": "code",
   "execution_count": 1,
   "id": "20ab8091",
   "metadata": {},
   "outputs": [],
   "source": [
    "import pandas as pd\n",
    "import numpy as np\n",
    "import re\n",
    "import nltk\n",
    "import matplotlib.pyplot as plt\n",
    "pd.options.display.max_colwidth = 200\n",
    "%matplotlib inline"
   ]
  },
  {
   "cell_type": "markdown",
   "id": "b49d1ad3",
   "metadata": {},
   "source": [
    "We will now take a few corpora of documents on which we will perform all our analyses. \n",
    "\n",
    "For one of the corpora, we will reuse our corpus from our previous article, [Part-3: Traditional Methods for Text Data](https://towardsdatascience.com/understanding-feature-engineering-part-3-traditional-methods-for-text-data-f6f7d70acd41)."
   ]
  },
  {
   "cell_type": "code",
   "execution_count": 2,
   "id": "11a3405f",
   "metadata": {},
   "outputs": [
    {
     "data": {
      "text/html": [
       "<div>\n",
       "<style scoped>\n",
       "    .dataframe tbody tr th:only-of-type {\n",
       "        vertical-align: middle;\n",
       "    }\n",
       "\n",
       "    .dataframe tbody tr th {\n",
       "        vertical-align: top;\n",
       "    }\n",
       "\n",
       "    .dataframe thead th {\n",
       "        text-align: right;\n",
       "    }\n",
       "</style>\n",
       "<table border=\"1\" class=\"dataframe\">\n",
       "  <thead>\n",
       "    <tr style=\"text-align: right;\">\n",
       "      <th></th>\n",
       "      <th>Document</th>\n",
       "      <th>Category</th>\n",
       "    </tr>\n",
       "  </thead>\n",
       "  <tbody>\n",
       "    <tr>\n",
       "      <th>0</th>\n",
       "      <td>The sky is blue and beautiful.</td>\n",
       "      <td>weather</td>\n",
       "    </tr>\n",
       "    <tr>\n",
       "      <th>1</th>\n",
       "      <td>Love this blue and beautiful sky!</td>\n",
       "      <td>weather</td>\n",
       "    </tr>\n",
       "    <tr>\n",
       "      <th>2</th>\n",
       "      <td>The quick brown fox jumps over the lazy dog.</td>\n",
       "      <td>animals</td>\n",
       "    </tr>\n",
       "    <tr>\n",
       "      <th>3</th>\n",
       "      <td>A king's breakfast has sausages, ham, bacon, eggs, toast and beans</td>\n",
       "      <td>food</td>\n",
       "    </tr>\n",
       "    <tr>\n",
       "      <th>4</th>\n",
       "      <td>I love green eggs, ham, sausages and bacon!</td>\n",
       "      <td>food</td>\n",
       "    </tr>\n",
       "    <tr>\n",
       "      <th>5</th>\n",
       "      <td>The brown fox is quick and the blue dog is lazy!</td>\n",
       "      <td>animals</td>\n",
       "    </tr>\n",
       "    <tr>\n",
       "      <th>6</th>\n",
       "      <td>The sky is very blue and the sky is very beautiful today</td>\n",
       "      <td>weather</td>\n",
       "    </tr>\n",
       "    <tr>\n",
       "      <th>7</th>\n",
       "      <td>The dog is lazy but the brown fox is quick!</td>\n",
       "      <td>animals</td>\n",
       "    </tr>\n",
       "  </tbody>\n",
       "</table>\n",
       "</div>"
      ],
      "text/plain": [
       "                                                             Document Category\n",
       "0                                      The sky is blue and beautiful.  weather\n",
       "1                                   Love this blue and beautiful sky!  weather\n",
       "2                        The quick brown fox jumps over the lazy dog.  animals\n",
       "3  A king's breakfast has sausages, ham, bacon, eggs, toast and beans     food\n",
       "4                         I love green eggs, ham, sausages and bacon!     food\n",
       "5                    The brown fox is quick and the blue dog is lazy!  animals\n",
       "6            The sky is very blue and the sky is very beautiful today  weather\n",
       "7                         The dog is lazy but the brown fox is quick!  animals"
      ]
     },
     "execution_count": 2,
     "metadata": {},
     "output_type": "execute_result"
    }
   ],
   "source": [
    "corpus = ['The sky is blue and beautiful.',\n",
    "          'Love this blue and beautiful sky!',\n",
    "          'The quick brown fox jumps over the lazy dog.',\n",
    "          \"A king's breakfast has sausages, ham, bacon, eggs, toast and beans\",\n",
    "          'I love green eggs, ham, sausages and bacon!',\n",
    "          'The brown fox is quick and the blue dog is lazy!',\n",
    "          'The sky is very blue and the sky is very beautiful today',\n",
    "          'The dog is lazy but the brown fox is quick!'    \n",
    "]\n",
    "labels = ['weather', 'weather', 'animals', 'food', 'food', 'animals', 'weather', 'animals']\n",
    "\n",
    "corpus = np.array(corpus)\n",
    "corpus_df = pd.DataFrame({'Document': corpus, \n",
    "                          'Category': labels})\n",
    "corpus_df = corpus_df[['Document', 'Category']]\n",
    "corpus_df"
   ]
  },
  {
   "cell_type": "markdown",
   "id": "88325439",
   "metadata": {},
   "source": [
    "Our toy corpus consists of documents belonging to several categories.\n",
    "\n",
    "Another corpus we will use in this article is the [The King James Version of the Bible](https://www.gutenberg.org/files/10/10-h/10-h.htm) available freely from [Project Gutenberg](https://www.gutenberg.org/) through the `corpus` module in `nltk`.\n",
    "\n",
    "We will load this up shortly, in the next section. Before we talk about feature engineering, we need to pre-process and normalize this text."
   ]
  },
  {
   "cell_type": "markdown",
   "id": "2576a9c6",
   "metadata": {},
   "source": [
    "### Text pre-processing\n",
    "There can be multiple ways of cleaning and pre-processing textual data. The most important techniques which are used heavily in Natural Language Processing (NLP) pipelines have been highlighted in detail in the ***‘Text pre-processing’*** section in [Part 3 of this series](https://towardsdatascience.com/understanding-feature-engineering-part-3-traditional-methods-for-text-data-f6f7d70acd41).\n",
    "\n",
    "Since the focus of this article is on feature engineering, just like our previous article, we will re-use our simple text pre-processor which focuses on removing special characters, extra whitespaces, digits, stopwords and lower casing the text corpus."
   ]
  },
  {
   "cell_type": "code",
   "execution_count": 3,
   "id": "d91a9228",
   "metadata": {},
   "outputs": [],
   "source": [
    "wpt = nltk.WordPunctTokenizer()\n",
    "stop_words = nltk.corpus.stopwords.words('english')\n",
    "\n",
    "def normalize_document(doc):\n",
    "    # lower case and remove special characters\\whitespaces\n",
    "    doc = re.sub(r'[^a-zA-Z\\s]', '', doc, re.I|re.A)\n",
    "    doc = doc.lower()\n",
    "    doc = doc.strip()\n",
    "    # tokenize document\n",
    "    tokens = wpt.tokenize(doc)\n",
    "    # filter stopwords out of document\n",
    "    filtered_tokens = [token for token in tokens if token not in stop_words]\n",
    "    # re-create document from filtered tokens\n",
    "    doc = ' '.join(filtered_tokens)\n",
    "    return doc\n",
    "\n",
    "normalize_corpus = np.vectorize(normalize_document)"
   ]
  },
  {
   "cell_type": "markdown",
   "id": "43e81920",
   "metadata": {},
   "source": [
    "Once we have our basic pre-processing pipeline ready, let’s first apply the same to our toy corpus:"
   ]
  },
  {
   "cell_type": "code",
   "execution_count": 4,
   "id": "963a9c8f",
   "metadata": {},
   "outputs": [
    {
     "data": {
      "text/plain": [
       "array(['sky blue beautiful', 'love blue beautiful sky',\n",
       "       'quick brown fox jumps lazy dog',\n",
       "       'kings breakfast sausages ham bacon eggs toast beans',\n",
       "       'love green eggs ham sausages bacon',\n",
       "       'brown fox quick blue dog lazy', 'sky blue sky beautiful today',\n",
       "       'dog lazy brown fox quick'], dtype='<U51')"
      ]
     },
     "execution_count": 4,
     "metadata": {},
     "output_type": "execute_result"
    }
   ],
   "source": [
    "norm_corpus = normalize_corpus(corpus)\n",
    "norm_corpus\n"
   ]
  },
  {
   "cell_type": "markdown",
   "id": "0c9f7895",
   "metadata": {},
   "source": [
    "Let’s now load up our other corpus based on [The King James Version of the Bible](https://www.gutenberg.org/files/10/10-h/10-h.htm) using `nltk` and pre-process the text:"
   ]
  },
  {
   "cell_type": "code",
   "execution_count": 5,
   "id": "ff89d0e1",
   "metadata": {},
   "outputs": [
    {
     "name": "stdout",
     "output_type": "stream",
     "text": [
      "Total lines: 30103\n",
      "\n",
      "Sample line: ['1', ':', '6', 'And', 'God', 'said', ',', 'Let', 'there', 'be', 'a', 'firmament', 'in', 'the', 'midst', 'of', 'the', 'waters', ',', 'and', 'let', 'it', 'divide', 'the', 'waters', 'from', 'the', 'waters', '.']\n",
      "\n",
      "Processed line: god said let firmament midst waters let divide waters waters\n"
     ]
    }
   ],
   "source": [
    "from nltk.corpus import gutenberg\n",
    "from string import punctuation\n",
    "\n",
    "bible = gutenberg.sents('bible-kjv.txt') \n",
    "remove_terms = punctuation + '0123456789'\n",
    "\n",
    "norm_bible = [[word.lower() for word in sent if word not in remove_terms] for sent in bible]\n",
    "norm_bible = [' '.join(tok_sent) for tok_sent in norm_bible]\n",
    "norm_bible = filter(None, normalize_corpus(norm_bible))\n",
    "norm_bible = [tok_sent for tok_sent in norm_bible if len(tok_sent.split()) > 2]\n",
    "\n",
    "print('Total lines:', len(bible))\n",
    "print('\\nSample line:', bible[10])\n",
    "print('\\nProcessed line:', norm_bible[10])"
   ]
  },
  {
   "cell_type": "markdown",
   "id": "62c9a2a9",
   "metadata": {},
   "source": [
    "## Let’s look at some of the popular word embedding models now and engineering features from our corpora"
   ]
  },
  {
   "cell_type": "markdown",
   "id": "aaca7439",
   "metadata": {},
   "source": [
    "### The Word2Vec Model\n",
    "This model was created by Google in 2013 and is a **predictive deep learning based model** to compute and generate high quality, distributed and continuous dense vector representations of words, which capture contextual and semantic similarity.\n",
    "\n",
    "Essentially these are **unsupervised models** which can take in massive textual corpora, create a vocabulary of possible words and generate dense word embeddings for each word in the vector space representing that vocabulary.\n",
    "\n",
    "Usually you can specify the **size of the word embedding vectors** and the **total number of vectors** are essentially the **size of the vocabulary**.\n",
    "\n",
    "This makes the dimensionality of this dense vector space much lower than the high-dimensional sparse vector space built using traditional Bag of Words models."
   ]
  },
  {
   "cell_type": "markdown",
   "id": "1bb0e945",
   "metadata": {},
   "source": [
    "There are two different model architectures which can be leveraged by Word2Vec to create these word embedding representations. These include:\n",
    "* The Continuous Bag of Words (CBOW) Model\n",
    "* The Skip-gram Model"
   ]
  },
  {
   "attachments": {
    "image.png": {
     "image/png": "[encoded data removed]"
    }
   },
   "cell_type": "markdown",
   "id": "5b4251e0",
   "metadata": {},
   "source": [
    "### The Continuous Bag of Words (CBOW) Model\n",
    "The CBOW model architecture tries to predict the current target word (the center word) based on the source context words (surrounding words).\n",
    "\n",
    "Considering a simple sentence, ***“the quick brown fox jumps over the lazy dog”***, this can be pairs of ***(context_window, target_word)*** where if we consider a context window of size 2, we have examples like ***([quick, fox], brown)***, ***([the, brown], quick)***, ***([the, dog], lazy)*** and so on.\n",
    "\n",
    "Thus the model tries to predict the target_word based on the context_window words.\n",
    "![image.png](attachment:image.png)\n",
    "`The CBOW model architecture (Source: https://arxiv.org/pdf/1301.3781.pdf Mikolov el al.)`\n",
    "\n",
    "The Word2Vec family of models are **unsupervised**, meaning that you can just give it a corpus without additional labels or information and it can construct dense word embeddings from the corpus.\n",
    "\n",
    "But you will still need to leverage a **supervised, classification methodology** once you have this corpus to get to these embeddings.\n",
    "\n",
    "We will do that from within the corpus itself, without any auxiliary information.\n",
    "\n",
    "We can model this **CBOW** architecture now as a deep learning classification model such that we take in the context words as our input, X and try to predict the target word, Y.\n",
    "\n",
    "In fact building this architecture is simpler than the skip-gram model where we try to predict a whole bunch of context words from a source target word."
   ]
  },
  {
   "cell_type": "markdown",
   "id": "449f5c29",
   "metadata": {},
   "source": [
    "## Implementing the Continuous Bag of Words (CBOW) Model\n",
    "While it’s excellent to use robust frameworks which have the Word2Vec model like gensim, let’s try and **implement this from scratch** to gain some perspective on how things really work behind the scenes.\n",
    "\n",
    "We will leverage our Bible corpus contained in the norm_bible variable for training our model.\n",
    "\n",
    "The implementation will focus on four parts:\n",
    "* Build the corpus vocabulary\n",
    "* Build a CBOW (context, target) generator\n",
    "* Build the CBOW model architecture\n",
    "* Train the Model\n",
    "* Get Word Embeddings"
   ]
  },
  {
   "cell_type": "markdown",
   "id": "6e4506b0",
   "metadata": {},
   "source": [
    "### Build the corpus vocabulary\n",
    "To start off, we will first build our corpus vocabulary where we extract out each unique word from our vocabulary and map a unique numeric identifier to it."
   ]
  },
  {
   "cell_type": "code",
   "execution_count": 6,
   "id": "e949bd3e",
   "metadata": {},
   "outputs": [
    {
     "name": "stdout",
     "output_type": "stream",
     "text": [
      "Vocabulary Size: 12425\n",
      "Vocabulary Sample: [('shall', 1), ('unto', 2), ('lord', 3), ('thou', 4), ('thy', 5), ('god', 6), ('ye', 7), ('said', 8), ('thee', 9), ('upon', 10)]\n"
     ]
    }
   ],
   "source": [
    "from silence_tensorflow import silence_tensorflow\n",
    "silence_tensorflow()\n",
    "from keras.preprocessing import text\n",
    "from keras.utils import np_utils\n",
    "from keras.preprocessing import sequence\n",
    "\n",
    "tokenizer = text.Tokenizer()\n",
    "tokenizer.fit_on_texts(norm_bible)\n",
    "word2id = tokenizer.word_index\n",
    "\n",
    "# build vocabulary of unique words\n",
    "word2id['PAD'] = 0\n",
    "id2word = {v:k for k, v in word2id.items()}\n",
    "wids = [[word2id[w] for w in text.text_to_word_sequence(doc)] for doc in norm_bible]\n",
    "\n",
    "vocab_size = len(word2id)\n",
    "embed_size = 100\n",
    "window_size = 2 # context window size\n",
    "\n",
    "print('Vocabulary Size:', vocab_size)\n",
    "print('Vocabulary Sample:', list(word2id.items())[:10])\n"
   ]
  },
  {
   "cell_type": "markdown",
   "id": "c7ee66d8",
   "metadata": {},
   "source": [
    "You can see that we have created a vocabulary of unique words in our corpus and also ways to map a word to its unique identifier and vice versa.\n",
    "\n",
    "The `PAD` term is typically used to pad context words to a fixed length if needed."
   ]
  },
  {
   "cell_type": "markdown",
   "id": "03ca70be",
   "metadata": {},
   "source": [
    "### Build a CBOW (context, target) generator\n",
    "We need pairs which consist of a target centre word and surround context words.\n",
    "\n",
    "In our implementation, a ***target word*** is of length `1` and ***surrounding context*** is of length `2 x window_size` where we take `window_size` words before and after the target word in our corpus.\n",
    "\n",
    "This will become clearer with the following example:"
   ]
  },
  {
   "cell_type": "code",
   "execution_count": 7,
   "id": "b494343a",
   "metadata": {},
   "outputs": [
    {
     "name": "stdout",
     "output_type": "stream",
     "text": [
      "Context (X): ['old', 'testament', 'james', 'bible'] -> Target (Y): king\n",
      "Context (X): ['first', 'book', 'called', 'genesis'] -> Target (Y): moses\n",
      "Context (X): ['beginning', 'god', 'heaven', 'earth'] -> Target (Y): created\n",
      "Context (X): ['earth', 'without', 'void', 'darkness'] -> Target (Y): form\n",
      "Context (X): ['without', 'form', 'darkness', 'upon'] -> Target (Y): void\n",
      "Context (X): ['form', 'void', 'upon', 'face'] -> Target (Y): darkness\n",
      "Context (X): ['void', 'darkness', 'face', 'deep'] -> Target (Y): upon\n",
      "Context (X): ['spirit', 'god', 'upon', 'face'] -> Target (Y): moved\n",
      "Context (X): ['god', 'moved', 'face', 'waters'] -> Target (Y): upon\n",
      "Context (X): ['god', 'said', 'light', 'light'] -> Target (Y): let\n",
      "Context (X): ['god', 'saw', 'good', 'god'] -> Target (Y): light\n"
     ]
    }
   ],
   "source": [
    "def generate_context_word_pairs(corpus, window_size, vocab_size):\n",
    "    context_length = window_size*2\n",
    "    for words in corpus:\n",
    "        sentence_length = len(words)\n",
    "        for index, word in enumerate(words):\n",
    "            context_words = []\n",
    "            label_word   = []            \n",
    "            start = index - window_size\n",
    "            end = index + window_size + 1\n",
    "            \n",
    "            context_words.append([words[i] \n",
    "                                 for i in range(start, end) \n",
    "                                 if 0 <= i < sentence_length \n",
    "                                 and i != index])\n",
    "            label_word.append(word)\n",
    "\n",
    "            x = sequence.pad_sequences(context_words, maxlen=context_length)\n",
    "            y = np_utils.to_categorical(label_word, vocab_size)\n",
    "            yield (x, y)\n",
    "            \n",
    "            \n",
    "# Test this out for some samples\n",
    "i = 0\n",
    "for x, y in generate_context_word_pairs(corpus=wids, window_size=window_size, vocab_size=vocab_size):\n",
    "    if 0 not in x[0]:\n",
    "        print('Context (X):', [id2word[w] for w in x[0]], '-> Target (Y):', id2word[np.argwhere(y[0])[0][0]])\n",
    "    \n",
    "        if i == 10:\n",
    "            break\n",
    "        i += 1"
   ]
  },
  {
   "cell_type": "markdown",
   "id": "45063ec0",
   "metadata": {},
   "source": [
    "The preceding output should give you some more perspective of how ***X*** forms our context words and we are trying to predict the target center word ***Y*** based on this context.\n",
    "\n",
    "For example, if the original text was *‘in the beginning god **created** heaven and earth’* which after pre-processing and removal of stopwords became *‘beginning god created heaven earth’* and for us, that is what we are trying to achieve.\n",
    "\n",
    "Given *[beginning, god, heaven, earth]* as the context, what the target center word is, which is ***‘created’*** in this case."
   ]
  },
  {
   "cell_type": "markdown",
   "id": "d5be02bc",
   "metadata": {},
   "source": [
    "### Build the CBOW model architecture\n",
    "We now leverage `keras` on top of `tensorflow` to build our deep learning architecture for the CBOW model.\n",
    "\n",
    "For this our inputs will be our context words which are passed to an embedding layer (initialized with random weights)\n",
    "\n",
    "The word embeddings are propagated to a lambda layer where we average out the word embeddings ***(hence called CBOW because we don’t really consider the order or sequence in the context words when averaged)*** and then we pass this averaged context embedding to a dense softmax layer which predicts our target word.\n",
    "\n",
    "We match this with the actual target word, compute the loss by leveraging the `categorical_crossentropy` loss and perform backpropagation with each epoch to update the embedding layer in the process.\n",
    "\n",
    "Following code shows us our model architecture:"
   ]
  },
  {
   "cell_type": "code",
   "execution_count": 8,
   "id": "bcac4c0e",
   "metadata": {},
   "outputs": [
    {
     "name": "stdout",
     "output_type": "stream",
     "text": [
      "Model: \"sequential\"\n",
      "_________________________________________________________________\n",
      " Layer (type)                Output Shape              Param #   \n",
      "=================================================================\n",
      " embedding (Embedding)       (None, 4, 100)            1242500   \n",
      "                                                                 \n",
      " lambda (Lambda)             (None, 100)               0         \n",
      "                                                                 \n",
      " dense (Dense)               (None, 12425)             1254925   \n",
      "                                                                 \n",
      "=================================================================\n",
      "Total params: 2,497,425\n",
      "Trainable params: 2,497,425\n",
      "Non-trainable params: 0\n",
      "_________________________________________________________________\n",
      "None\n"
     ]
    },
    {
     "data": {
      "image/svg+xml": [
       "<svg xmlns=\"http://www.w3.org/2000/svg\" xmlns:xlink=\"http://www.w3.org/1999/xlink\" width=\"391pt\" height=\"405pt\" viewBox=\"0.00 0.00 293.00 304.00\">\n",
       "<g id=\"graph0\" class=\"graph\" transform=\"scale(0.75 0.75) rotate(0) translate(4 300)\">\n",
       "<title>G</title>\n",
       "<polygon fill=\"white\" stroke=\"transparent\" points=\"-4,4 -4,-300 289,-300 289,4 -4,4\"/>\n",
       "<!-- 140354928752912 -->\n",
       "<g id=\"node1\" class=\"node\">\n",
       "<title>140354928752912</title>\n",
       "<polygon fill=\"none\" stroke=\"black\" points=\"14.5,-249.5 14.5,-295.5 270.5,-295.5 270.5,-249.5 14.5,-249.5\"/>\n",
       "<text text-anchor=\"middle\" x=\"62\" y=\"-268.8\" font-family=\"Times,serif\" font-size=\"14.00\">InputLayer</text>\n",
       "<polyline fill=\"none\" stroke=\"black\" points=\"109.5,-249.5 109.5,-295.5 \"/>\n",
       "<text text-anchor=\"middle\" x=\"143.5\" y=\"-280.3\" font-family=\"Times,serif\" font-size=\"14.00\">input:</text>\n",
       "<polyline fill=\"none\" stroke=\"black\" points=\"109.5,-272.5 177.5,-272.5 \"/>\n",
       "<text text-anchor=\"middle\" x=\"143.5\" y=\"-257.3\" font-family=\"Times,serif\" font-size=\"14.00\">output:</text>\n",
       "<polyline fill=\"none\" stroke=\"black\" points=\"177.5,-249.5 177.5,-295.5 \"/>\n",
       "<text text-anchor=\"middle\" x=\"224\" y=\"-280.3\" font-family=\"Times,serif\" font-size=\"14.00\">[(None, 4)]</text>\n",
       "<polyline fill=\"none\" stroke=\"black\" points=\"177.5,-272.5 270.5,-272.5 \"/>\n",
       "<text text-anchor=\"middle\" x=\"224\" y=\"-257.3\" font-family=\"Times,serif\" font-size=\"14.00\">[(None, 4)]</text>\n",
       "</g>\n",
       "<!-- 140354921628528 -->\n",
       "<g id=\"node2\" class=\"node\">\n",
       "<title>140354921628528</title>\n",
       "<polygon fill=\"none\" stroke=\"black\" points=\"0,-166.5 0,-212.5 285,-212.5 285,-166.5 0,-166.5\"/>\n",
       "<text text-anchor=\"middle\" x=\"49\" y=\"-185.8\" font-family=\"Times,serif\" font-size=\"14.00\">Embedding</text>\n",
       "<polyline fill=\"none\" stroke=\"black\" points=\"98,-166.5 98,-212.5 \"/>\n",
       "<text text-anchor=\"middle\" x=\"132\" y=\"-197.3\" font-family=\"Times,serif\" font-size=\"14.00\">input:</text>\n",
       "<polyline fill=\"none\" stroke=\"black\" points=\"98,-189.5 166,-189.5 \"/>\n",
       "<text text-anchor=\"middle\" x=\"132\" y=\"-174.3\" font-family=\"Times,serif\" font-size=\"14.00\">output:</text>\n",
       "<polyline fill=\"none\" stroke=\"black\" points=\"166,-166.5 166,-212.5 \"/>\n",
       "<text text-anchor=\"middle\" x=\"225.5\" y=\"-197.3\" font-family=\"Times,serif\" font-size=\"14.00\">(None, 4)</text>\n",
       "<polyline fill=\"none\" stroke=\"black\" points=\"166,-189.5 285,-189.5 \"/>\n",
       "<text text-anchor=\"middle\" x=\"225.5\" y=\"-174.3\" font-family=\"Times,serif\" font-size=\"14.00\">(None, 4, 100)</text>\n",
       "</g>\n",
       "<!-- 140354928752912&#45;&gt;140354921628528 -->\n",
       "<g id=\"edge1\" class=\"edge\">\n",
       "<title>140354928752912-&gt;140354921628528</title>\n",
       "<path fill=\"none\" stroke=\"black\" d=\"M142.5,-249.37C142.5,-241.15 142.5,-231.66 142.5,-222.73\"/>\n",
       "<polygon fill=\"black\" stroke=\"black\" points=\"146,-222.61 142.5,-212.61 139,-222.61 146,-222.61\"/>\n",
       "</g>\n",
       "<!-- 140354928753968 -->\n",
       "<g id=\"node3\" class=\"node\">\n",
       "<title>140354928753968</title>\n",
       "<polygon fill=\"none\" stroke=\"black\" points=\"12,-83.5 12,-129.5 273,-129.5 273,-83.5 12,-83.5\"/>\n",
       "<text text-anchor=\"middle\" x=\"49\" y=\"-102.8\" font-family=\"Times,serif\" font-size=\"14.00\">Lambda</text>\n",
       "<polyline fill=\"none\" stroke=\"black\" points=\"86,-83.5 86,-129.5 \"/>\n",
       "<text text-anchor=\"middle\" x=\"120\" y=\"-114.3\" font-family=\"Times,serif\" font-size=\"14.00\">input:</text>\n",
       "<polyline fill=\"none\" stroke=\"black\" points=\"86,-106.5 154,-106.5 \"/>\n",
       "<text text-anchor=\"middle\" x=\"120\" y=\"-91.3\" font-family=\"Times,serif\" font-size=\"14.00\">output:</text>\n",
       "<polyline fill=\"none\" stroke=\"black\" points=\"154,-83.5 154,-129.5 \"/>\n",
       "<text text-anchor=\"middle\" x=\"213.5\" y=\"-114.3\" font-family=\"Times,serif\" font-size=\"14.00\">(None, 4, 100)</text>\n",
       "<polyline fill=\"none\" stroke=\"black\" points=\"154,-106.5 273,-106.5 \"/>\n",
       "<text text-anchor=\"middle\" x=\"213.5\" y=\"-91.3\" font-family=\"Times,serif\" font-size=\"14.00\">(None, 100)</text>\n",
       "</g>\n",
       "<!-- 140354921628528&#45;&gt;140354928753968 -->\n",
       "<g id=\"edge2\" class=\"edge\">\n",
       "<title>140354921628528-&gt;140354928753968</title>\n",
       "<path fill=\"none\" stroke=\"black\" d=\"M142.5,-166.37C142.5,-158.15 142.5,-148.66 142.5,-139.73\"/>\n",
       "<polygon fill=\"black\" stroke=\"black\" points=\"146,-139.61 142.5,-129.61 139,-139.61 146,-139.61\"/>\n",
       "</g>\n",
       "<!-- 140354921634000 -->\n",
       "<g id=\"node4\" class=\"node\">\n",
       "<title>140354921634000</title>\n",
       "<polygon fill=\"none\" stroke=\"black\" points=\"18.5,-0.5 18.5,-46.5 266.5,-46.5 266.5,-0.5 18.5,-0.5\"/>\n",
       "<text text-anchor=\"middle\" x=\"49\" y=\"-19.8\" font-family=\"Times,serif\" font-size=\"14.00\">Dense</text>\n",
       "<polyline fill=\"none\" stroke=\"black\" points=\"79.5,-0.5 79.5,-46.5 \"/>\n",
       "<text text-anchor=\"middle\" x=\"113.5\" y=\"-31.3\" font-family=\"Times,serif\" font-size=\"14.00\">input:</text>\n",
       "<polyline fill=\"none\" stroke=\"black\" points=\"79.5,-23.5 147.5,-23.5 \"/>\n",
       "<text text-anchor=\"middle\" x=\"113.5\" y=\"-8.3\" font-family=\"Times,serif\" font-size=\"14.00\">output:</text>\n",
       "<polyline fill=\"none\" stroke=\"black\" points=\"147.5,-0.5 147.5,-46.5 \"/>\n",
       "<text text-anchor=\"middle\" x=\"207\" y=\"-31.3\" font-family=\"Times,serif\" font-size=\"14.00\">(None, 100)</text>\n",
       "<polyline fill=\"none\" stroke=\"black\" points=\"147.5,-23.5 266.5,-23.5 \"/>\n",
       "<text text-anchor=\"middle\" x=\"207\" y=\"-8.3\" font-family=\"Times,serif\" font-size=\"14.00\">(None, 12425)</text>\n",
       "</g>\n",
       "<!-- 140354928753968&#45;&gt;140354921634000 -->\n",
       "<g id=\"edge3\" class=\"edge\">\n",
       "<title>140354928753968-&gt;140354921634000</title>\n",
       "<path fill=\"none\" stroke=\"black\" d=\"M142.5,-83.37C142.5,-75.15 142.5,-65.66 142.5,-56.73\"/>\n",
       "<polygon fill=\"black\" stroke=\"black\" points=\"146,-56.61 142.5,-46.61 139,-56.61 146,-56.61\"/>\n",
       "</g>\n",
       "</g>\n",
       "</svg>"
      ],
      "text/plain": [
       "<IPython.core.display.SVG object>"
      ]
     },
     "execution_count": 8,
     "metadata": {},
     "output_type": "execute_result"
    }
   ],
   "source": [
    "import logging\n",
    "logging.getLogger('tensorflow').disabled = True\n",
    "import keras.backend as K\n",
    "from keras.models import Sequential\n",
    "from keras.layers import Dense, Embedding, Lambda\n",
    "\n",
    "# build CBOW architecture\n",
    "cbow = Sequential()\n",
    "cbow.add(Embedding(input_dim=vocab_size, output_dim=embed_size, input_length=window_size*2))\n",
    "cbow.add(Lambda(lambda x: K.mean(x, axis=1), output_shape=(embed_size,)))\n",
    "cbow.add(Dense(vocab_size, activation='softmax'))\n",
    "cbow.compile(loss='categorical_crossentropy', optimizer='rmsprop')\n",
    "\n",
    "# view model summary\n",
    "print(cbow.summary())\n",
    "\n",
    "# visualize model structure\n",
    "from IPython.display import SVG\n",
    "from keras.utils.vis_utils import model_to_dot\n",
    "\n",
    "SVG(model_to_dot(cbow, show_shapes=True, show_layer_names=False, \n",
    "                 rankdir='TB').create(prog='dot', format='svg'))"
   ]
  },
  {
   "attachments": {
    "image.png": {
     "image/png": "[encoded data removed]"
    }
   },
   "cell_type": "markdown",
   "id": "8b1d1b78",
   "metadata": {},
   "source": [
    "We have ***input context words*** of dimensions `(2 x window_size)`, we will pass them to an ***embedding layer** of size `(vocab_size x embed_size)` which will give us dense ***word embeddings*** for each of these context words `(1 x embed_size for each word)`.\n",
    "\n",
    "Next up we use a ***lambda layer*** to average out these embeddings and get an ***average dense embedding*** `(1 x embed_size)` which is sent to the ***dense softmax layer*** which outputs the most likely target word.\n",
    "\n",
    "We compare this with the actual target word, compute the loss, backpropagate the errors to adjust the weights (in the embedding layer) and repeat this process for all (*context, target*) pairs for multiple epochs.\n",
    "\n",
    "The following figure tries to explain the same:\n",
    "![image.png](attachment:image.png)\n",
    "`Visual depiction of the CBOW deep learning model`\n",
    "\n",
    "We are now ready to train this model on our corpus using our data generator to feed in (*context, target_word*) pairs."
   ]
  },
  {
   "cell_type": "markdown",
   "id": "2a3c29f7",
   "metadata": {},
   "source": [
    "### Train the Model\n",
    "Running the model on our complete corpus takes a fair bit of time, so I just ran it for 5 epochs. You can leverage the following code and increase it for more epochs if necessary."
   ]
  },
  {
   "cell_type": "code",
   "execution_count": null,
   "id": "1d640be3",
   "metadata": {},
   "outputs": [
    {
     "name": "stdout",
     "output_type": "stream",
     "text": [
      "Processed 100000 (context, word) pairs\n",
      "Processed 200000 (context, word) pairs\n",
      "Processed 300000 (context, word) pairs\n",
      "Epoch: 1 \tLoss: 4302361.874420295\n",
      "\n",
      "Processed 100000 (context, word) pairs\n",
      "Processed 200000 (context, word) pairs\n",
      "Processed 300000 (context, word) pairs\n",
      "Epoch: 2 \tLoss: 5500023.541309938\n",
      "\n"
     ]
    }
   ],
   "source": [
    "for epoch in range(1, 6):\n",
    "    loss = 0.\n",
    "    i = 0\n",
    "    for x, y in generate_context_word_pairs(corpus=wids, window_size=window_size, vocab_size=vocab_size):\n",
    "        i += 1\n",
    "        loss += cbow.train_on_batch(x, y)\n",
    "        if i % 100000 == 0:\n",
    "            print('Processed {} (context, word) pairs'.format(i))\n",
    "\n",
    "    print('Epoch:', epoch, '\\tLoss:', loss)\n",
    "    print()"
   ]
  },
  {
   "cell_type": "code",
   "execution_count": null,
   "id": "7ed8f59f",
   "metadata": {},
   "outputs": [],
   "source": []
  },
  {
   "cell_type": "code",
   "execution_count": null,
   "id": "d5faef45",
   "metadata": {},
   "outputs": [],
   "source": []
  },
  {
   "cell_type": "code",
   "execution_count": null,
   "id": "88da4953",
   "metadata": {},
   "outputs": [],
   "source": []
  },
  {
   "cell_type": "code",
   "execution_count": null,
   "id": "8969eaa6",
   "metadata": {},
   "outputs": [],
   "source": []
  },
  {
   "cell_type": "code",
   "execution_count": null,
   "id": "1cfd3cdf",
   "metadata": {},
   "outputs": [],
   "source": []
  },
  {
   "cell_type": "code",
   "execution_count": null,
   "id": "f401fdfc",
   "metadata": {},
   "outputs": [],
   "source": []
  }
 ],
 "metadata": {
  "kernelspec": {
   "display_name": "Python 3 (ipykernel)",
   "language": "python",
   "name": "python3"
  },
  "language_info": {
   "codemirror_mode": {
    "name": "ipython",
    "version": 3
   },
   "file_extension": ".py",
   "mimetype": "text/x-python",
   "name": "python",
   "nbconvert_exporter": "python",
   "pygments_lexer": "ipython3",
   "version": "3.10.5"
  }
 },
 "nbformat": 4,
 "nbformat_minor": 5
}
