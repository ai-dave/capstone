{
 "cells": [
  {
   "cell_type": "markdown",
   "id": "ed76d9de",
   "metadata": {},
   "source": [
    "* https://www.springboard.com/workshops/ucsd-machine-learning-engineering-bootcamp/learn#/curriculum/26454\n",
    "* https://towardsdatascience.com/understanding-feature-engineering-part-4-deep-learning-methods-for-text-data-96c44370bbfahttps://github.com/dipanjanS/practical-machine-learning-with-python/tree/master/bonus%20content/feature%20engineering%20text%20data\n",
    "* https://github.com/dipanjanS/practical-machine-learning-with-python/tree/master/bonus%20content/feature%20engineering%20text%20data"
   ]
  },
  {
   "cell_type": "markdown",
   "id": "2616f875",
   "metadata": {},
   "source": [
    "## A hands-on intuitive approach to Deep Learning Methods for Text Data — Word2Vec, GloVe and FastText\n",
    "\n",
    "### Newer, advanced strategies for taming unstructured, textual data\n",
    "\n",
    "We will be looking at more advanced feature engineering strategies which often leverage deep learning models:\n",
    "* Word2Vec\n",
    "* GloVe\n",
    "* FastText"
   ]
  },
  {
   "cell_type": "markdown",
   "id": "94ac5404",
   "metadata": {},
   "source": [
    "### Shortcomings of traditional models\n",
    "Traditional (count-based) feature engineering strategies for textual data involve models belonging to a family of models popularly known as the Bag of Words model. This includes term frequencies, TF-IDF (term frequency-inverse document frequency), N-grams and so on. While they are effective methods for extracting features from text, due to the inherent nature of the model being just a bag of unstructured words, we lose additional information like the semantics, structure, sequence and context around nearby words in each text document. This forms as enough motivation for us to explore more sophisticated models which can capture this information and give us features which are vector representation of words, popularly known as embeddings."
   ]
  },
  {
   "cell_type": "markdown",
   "id": "069c8cce",
   "metadata": {},
   "source": [
    "### The need for word embeddings\n",
    "While this does make some sense, why should we be motivated enough to learn and build these word embeddings? With regard to speech or image recognition systems, all the information is already present in the form of rich dense feature vectors embedded in high-dimensional datasets like audio spectrograms and image pixel intensities.\n",
    "\n",
    "However when it comes to raw text data, especially count based models like Bag of Words, we are dealing with individual words which may have their own identifiers and do not capture the semantic relationship amongst words.\n",
    "\n",
    "This leads to huge sparse word vectors for textual data and thus if we do not have enough data, we may end up getting poor models or even overfitting the data due to the curse of dimensionality.\n",
    "___\n",
    "\n",
    "To overcome the shortcomings of losing out semantics and feature sparsity in bag of words model based features, we need to make use of **Vector Space Models (VSMs)** in such a way that we can **embed word vectors in this continuous vector space** based on semantic and contextual similarity.\n",
    "\n",
    "The distributional hypothesis in the field of distributional semantics tells us that words which occur and are used in the same context, are semantically similar to one another and have similar meanings.\n",
    "\n",
    "In simple terms, *‘a word is characterized by the company it keeps’*.\n",
    "\n",
    "One of the famous papers talking about these semantic word vectors and various types in detail is *‘Don’t count, predict! A systematic comparison of context-counting vs. context-predicting semantic vectors’* by Baroni et al.\n",
    "\n",
    "In short, there are two main types of methods for contextual word vectors:\n",
    "* **Count-based methods** like Latent Semantic Analysis (LSA) which can be used to compute some statistical measures of how often words occur with their neighboring words in a corpus and then building out dense word vectors for each word from these measures. \n",
    "* **Predictive methods** like Neural Network based language models try to predict words from its neighboring words looking at word sequences in the corpus and in the process it learns distributed representations giving us dense word embeddings.\n",
    "\n",
    "### **We will be focusing on these *predictive methods* in this article.**"
   ]
  },
  {
   "cell_type": "markdown",
   "id": "994b4ad4",
   "metadata": {},
   "source": [
    "### Feature Engineering Strategies\n",
    "\n",
    "Let’s look at some of these advanced strategies for handling text data and extracting meaningful features from the same, which can be used in downstream machine learning systems.\n",
    "\n",
    "We’ll start by loading up some basic dependencies and settings:"
   ]
  },
  {
   "cell_type": "code",
   "execution_count": 1,
   "id": "d1cb3543",
   "metadata": {},
   "outputs": [],
   "source": [
    "import pandas as pd\n",
    "import numpy as np\n",
    "import re\n",
    "import nltk\n",
    "import matplotlib.pyplot as plt\n",
    "pd.options.display.max_colwidth = 200\n",
    "%matplotlib inline"
   ]
  },
  {
   "cell_type": "markdown",
   "id": "53b13e56",
   "metadata": {},
   "source": [
    "We will now take a few corpora of documents on which we will perform all our analyses. \n",
    "\n",
    "For one of the corpora, we will reuse our corpus from our previous article, [Part-3: Traditional Methods for Text Data](https://towardsdatascience.com/understanding-feature-engineering-part-3-traditional-methods-for-text-data-f6f7d70acd41)."
   ]
  },
  {
   "cell_type": "code",
   "execution_count": 2,
   "id": "3208efaf",
   "metadata": {},
   "outputs": [
    {
     "data": {
      "text/html": [
       "<div>\n",
       "<style scoped>\n",
       "    .dataframe tbody tr th:only-of-type {\n",
       "        vertical-align: middle;\n",
       "    }\n",
       "\n",
       "    .dataframe tbody tr th {\n",
       "        vertical-align: top;\n",
       "    }\n",
       "\n",
       "    .dataframe thead th {\n",
       "        text-align: right;\n",
       "    }\n",
       "</style>\n",
       "<table border=\"1\" class=\"dataframe\">\n",
       "  <thead>\n",
       "    <tr style=\"text-align: right;\">\n",
       "      <th></th>\n",
       "      <th>Document</th>\n",
       "      <th>Category</th>\n",
       "    </tr>\n",
       "  </thead>\n",
       "  <tbody>\n",
       "    <tr>\n",
       "      <th>0</th>\n",
       "      <td>The sky is blue and beautiful.</td>\n",
       "      <td>weather</td>\n",
       "    </tr>\n",
       "    <tr>\n",
       "      <th>1</th>\n",
       "      <td>Love this blue and beautiful sky!</td>\n",
       "      <td>weather</td>\n",
       "    </tr>\n",
       "    <tr>\n",
       "      <th>2</th>\n",
       "      <td>The quick brown fox jumps over the lazy dog.</td>\n",
       "      <td>animals</td>\n",
       "    </tr>\n",
       "    <tr>\n",
       "      <th>3</th>\n",
       "      <td>A king's breakfast has sausages, ham, bacon, eggs, toast and beans</td>\n",
       "      <td>food</td>\n",
       "    </tr>\n",
       "    <tr>\n",
       "      <th>4</th>\n",
       "      <td>I love green eggs, ham, sausages and bacon!</td>\n",
       "      <td>food</td>\n",
       "    </tr>\n",
       "    <tr>\n",
       "      <th>5</th>\n",
       "      <td>The brown fox is quick and the blue dog is lazy!</td>\n",
       "      <td>animals</td>\n",
       "    </tr>\n",
       "    <tr>\n",
       "      <th>6</th>\n",
       "      <td>The sky is very blue and the sky is very beautiful today</td>\n",
       "      <td>weather</td>\n",
       "    </tr>\n",
       "    <tr>\n",
       "      <th>7</th>\n",
       "      <td>The dog is lazy but the brown fox is quick!</td>\n",
       "      <td>animals</td>\n",
       "    </tr>\n",
       "  </tbody>\n",
       "</table>\n",
       "</div>"
      ],
      "text/plain": [
       "                                                             Document Category\n",
       "0                                      The sky is blue and beautiful.  weather\n",
       "1                                   Love this blue and beautiful sky!  weather\n",
       "2                        The quick brown fox jumps over the lazy dog.  animals\n",
       "3  A king's breakfast has sausages, ham, bacon, eggs, toast and beans     food\n",
       "4                         I love green eggs, ham, sausages and bacon!     food\n",
       "5                    The brown fox is quick and the blue dog is lazy!  animals\n",
       "6            The sky is very blue and the sky is very beautiful today  weather\n",
       "7                         The dog is lazy but the brown fox is quick!  animals"
      ]
     },
     "execution_count": 2,
     "metadata": {},
     "output_type": "execute_result"
    }
   ],
   "source": [
    "corpus = ['The sky is blue and beautiful.',\n",
    "          'Love this blue and beautiful sky!',\n",
    "          'The quick brown fox jumps over the lazy dog.',\n",
    "          \"A king's breakfast has sausages, ham, bacon, eggs, toast and beans\",\n",
    "          'I love green eggs, ham, sausages and bacon!',\n",
    "          'The brown fox is quick and the blue dog is lazy!',\n",
    "          'The sky is very blue and the sky is very beautiful today',\n",
    "          'The dog is lazy but the brown fox is quick!'    \n",
    "]\n",
    "labels = ['weather', 'weather', 'animals', 'food', 'food', 'animals', 'weather', 'animals']\n",
    "\n",
    "corpus = np.array(corpus)\n",
    "corpus_df = pd.DataFrame({'Document': corpus, \n",
    "                          'Category': labels})\n",
    "corpus_df = corpus_df[['Document', 'Category']]\n",
    "corpus_df"
   ]
  },
  {
   "cell_type": "markdown",
   "id": "7e702988",
   "metadata": {},
   "source": [
    "Our toy corpus consists of documents belonging to several categories.\n",
    "\n",
    "Another corpus we will use in this article is the [The King James Version of the Bible](https://www.gutenberg.org/files/10/10-h/10-h.htm) available freely from [Project Gutenberg](https://www.gutenberg.org/) through the `corpus` module in `nltk`.\n",
    "\n",
    "We will load this up shortly, in the next section. Before we talk about feature engineering, we need to pre-process and normalize this text."
   ]
  },
  {
   "cell_type": "markdown",
   "id": "0fbfd5ce",
   "metadata": {},
   "source": [
    "### Text pre-processing\n",
    "There can be multiple ways of cleaning and pre-processing textual data. The most important techniques which are used heavily in Natural Language Processing (NLP) pipelines have been highlighted in detail in the ***‘Text pre-processing’*** section in [Part 3 of this series](https://towardsdatascience.com/understanding-feature-engineering-part-3-traditional-methods-for-text-data-f6f7d70acd41).\n",
    "\n",
    "Since the focus of this article is on feature engineering, just like our previous article, we will re-use our simple text pre-processor which focuses on removing special characters, extra whitespaces, digits, stopwords and lower casing the text corpus."
   ]
  },
  {
   "cell_type": "code",
   "execution_count": 3,
   "id": "a26ee058",
   "metadata": {},
   "outputs": [],
   "source": [
    "wpt = nltk.WordPunctTokenizer()\n",
    "stop_words = nltk.corpus.stopwords.words('english')\n",
    "\n",
    "def normalize_document(doc):\n",
    "    # lower case and remove special characters\\whitespaces\n",
    "    doc = re.sub(r'[^a-zA-Z\\s]', '', doc, re.I|re.A)\n",
    "    doc = doc.lower()\n",
    "    doc = doc.strip()\n",
    "    # tokenize document\n",
    "    tokens = wpt.tokenize(doc)\n",
    "    # filter stopwords out of document\n",
    "    filtered_tokens = [token for token in tokens if token not in stop_words]\n",
    "    # re-create document from filtered tokens\n",
    "    doc = ' '.join(filtered_tokens)\n",
    "    return doc\n",
    "\n",
    "normalize_corpus = np.vectorize(normalize_document)"
   ]
  },
  {
   "cell_type": "markdown",
   "id": "bc3faa62",
   "metadata": {},
   "source": [
    "Once we have our basic pre-processing pipeline ready, let’s first apply the same to our toy corpus:"
   ]
  },
  {
   "cell_type": "code",
   "execution_count": 4,
   "id": "0c96ea46",
   "metadata": {},
   "outputs": [
    {
     "data": {
      "text/plain": [
       "array(['sky blue beautiful', 'love blue beautiful sky',\n",
       "       'quick brown fox jumps lazy dog',\n",
       "       'kings breakfast sausages ham bacon eggs toast beans',\n",
       "       'love green eggs ham sausages bacon',\n",
       "       'brown fox quick blue dog lazy', 'sky blue sky beautiful today',\n",
       "       'dog lazy brown fox quick'], dtype='<U51')"
      ]
     },
     "execution_count": 4,
     "metadata": {},
     "output_type": "execute_result"
    }
   ],
   "source": [
    "norm_corpus = normalize_corpus(corpus)\n",
    "norm_corpus\n"
   ]
  },
  {
   "cell_type": "markdown",
   "id": "7907b4c8",
   "metadata": {},
   "source": [
    "Let’s now load up our other corpus based on [The King James Version of the Bible](https://www.gutenberg.org/files/10/10-h/10-h.htm) using `nltk` and pre-process the text:"
   ]
  },
  {
   "cell_type": "code",
   "execution_count": 5,
   "id": "3f33b6be",
   "metadata": {},
   "outputs": [
    {
     "name": "stdout",
     "output_type": "stream",
     "text": [
      "Total lines: 30103\n",
      "\n",
      "Sample line: ['1', ':', '6', 'And', 'God', 'said', ',', 'Let', 'there', 'be', 'a', 'firmament', 'in', 'the', 'midst', 'of', 'the', 'waters', ',', 'and', 'let', 'it', 'divide', 'the', 'waters', 'from', 'the', 'waters', '.']\n",
      "\n",
      "Processed line: god said let firmament midst waters let divide waters waters\n"
     ]
    }
   ],
   "source": [
    "from nltk.corpus import gutenberg\n",
    "from string import punctuation\n",
    "\n",
    "bible = gutenberg.sents('bible-kjv.txt') \n",
    "remove_terms = punctuation + '0123456789'\n",
    "\n",
    "norm_bible = [[word.lower() for word in sent if word not in remove_terms] for sent in bible]\n",
    "norm_bible = [' '.join(tok_sent) for tok_sent in norm_bible]\n",
    "norm_bible = filter(None, normalize_corpus(norm_bible))\n",
    "norm_bible = [tok_sent for tok_sent in norm_bible if len(tok_sent.split()) > 2]\n",
    "\n",
    "print('Total lines:', len(bible))\n",
    "print('\\nSample line:', bible[10])\n",
    "print('\\nProcessed line:', norm_bible[10])"
   ]
  },
  {
   "cell_type": "markdown",
   "id": "7d23194d",
   "metadata": {},
   "source": [
    "## Let’s look at some of the popular word embedding models now and engineering features from our corpora"
   ]
  },
  {
   "cell_type": "markdown",
   "id": "7fcb4d28",
   "metadata": {},
   "source": [
    "### The Word2Vec Model\n",
    "This model was created by Google in 2013 and is a **predictive deep learning based model** to compute and generate high quality, distributed and continuous dense vector representations of words, which capture contextual and semantic similarity.\n",
    "\n",
    "Essentially these are **unsupervised models** which can take in massive textual corpora, create a vocabulary of possible words and generate dense word embeddings for each word in the vector space representing that vocabulary.\n",
    "\n",
    "Usually you can specify the **size of the word embedding vectors** and the **total number of vectors** are essentially the **size of the vocabulary**.\n",
    "\n",
    "This makes the dimensionality of this dense vector space much lower than the high-dimensional sparse vector space built using traditional Bag of Words models."
   ]
  },
  {
   "cell_type": "markdown",
   "id": "45d7115d",
   "metadata": {},
   "source": [
    "There are two different model architectures which can be leveraged by Word2Vec to create these word embedding representations. These include:\n",
    "* The Continuous Bag of Words (CBOW) Model\n",
    "* The Skip-gram Model"
   ]
  },
  {
   "attachments": {
    "image.png": {
     "image/png": "[encoded data removed]"
    }
   },
   "cell_type": "markdown",
   "id": "4b8db0d9",
   "metadata": {},
   "source": [
    "### The Continuous Bag of Words (CBOW) Model\n",
    "The CBOW model architecture tries to predict the current target word (the center word) based on the source context words (surrounding words).\n",
    "\n",
    "Considering a simple sentence, ***“the quick brown fox jumps over the lazy dog”***, this can be pairs of ***(context_window, target_word)*** where if we consider a context window of size 2, we have examples like ***([quick, fox], brown)***, ***([the, brown], quick)***, ***([the, dog], lazy)*** and so on.\n",
    "\n",
    "Thus the model tries to predict the target_word based on the context_window words.\n",
    "![image.png](attachment:image.png)\n",
    "`The CBOW model architecture (Source: https://arxiv.org/pdf/1301.3781.pdf Mikolov el al.)`\n",
    "\n",
    "The Word2Vec family of models are **unsupervised**, meaning that you can just give it a corpus without additional labels or information and it can construct dense word embeddings from the corpus.\n",
    "\n",
    "But you will still need to leverage a **supervised, classification methodology** once you have this corpus to get to these embeddings.\n",
    "\n",
    "We will do that from within the corpus itself, without any auxiliary information.\n",
    "\n",
    "We can model this **CBOW** architecture now as a deep learning classification model such that we take in the context words as our input, X and try to predict the target word, Y.\n",
    "\n",
    "In fact building this architecture is simpler than the skip-gram model where we try to predict a whole bunch of context words from a source target word."
   ]
  },
  {
   "cell_type": "markdown",
   "id": "32336adb",
   "metadata": {},
   "source": [
    "## Implementing the Continuous Bag of Words (CBOW) Model\n",
    "While it’s excellent to use robust frameworks which have the Word2Vec model like gensim, let’s try and **implement this from scratch** to gain some perspective on how things really work behind the scenes.\n",
    "\n",
    "We will leverage our Bible corpus contained in the norm_bible variable for training our model.\n",
    "\n",
    "The implementation will focus on four parts:\n",
    "* Build the corpus vocabulary\n",
    "* Build a CBOW (context, target) generator\n",
    "* Build the CBOW model architecture\n",
    "* Train the Model\n",
    "* Get Word Embeddings"
   ]
  },
  {
   "cell_type": "markdown",
   "id": "1180ee6e",
   "metadata": {},
   "source": [
    "### Build the corpus vocabulary\n",
    "To start off, we will first build our corpus vocabulary where we extract out each unique word from our vocabulary and map a unique numeric identifier to it."
   ]
  },
  {
   "cell_type": "code",
   "execution_count": 6,
   "id": "71293b94",
   "metadata": {},
   "outputs": [
    {
     "name": "stdout",
     "output_type": "stream",
     "text": [
      "Vocabulary Size: 12425\n",
      "Vocabulary Sample: [('shall', 1), ('unto', 2), ('lord', 3), ('thou', 4), ('thy', 5), ('god', 6), ('ye', 7), ('said', 8), ('thee', 9), ('upon', 10)]\n"
     ]
    }
   ],
   "source": [
    "from silence_tensorflow import silence_tensorflow\n",
    "silence_tensorflow()\n",
    "from keras.preprocessing import text\n",
    "from keras.utils import np_utils\n",
    "from keras.preprocessing import sequence\n",
    "\n",
    "tokenizer = text.Tokenizer()\n",
    "tokenizer.fit_on_texts(norm_bible)\n",
    "word2id = tokenizer.word_index\n",
    "\n",
    "# build vocabulary of unique words\n",
    "word2id['PAD'] = 0\n",
    "id2word = {v:k for k, v in word2id.items()}\n",
    "wids = [[word2id[w] for w in text.text_to_word_sequence(doc)] for doc in norm_bible]\n",
    "\n",
    "vocab_size = len(word2id)\n",
    "embed_size = 100\n",
    "window_size = 2 # context window size\n",
    "\n",
    "print('Vocabulary Size:', vocab_size)\n",
    "print('Vocabulary Sample:', list(word2id.items())[:10])\n"
   ]
  },
  {
   "cell_type": "markdown",
   "id": "133530d3",
   "metadata": {},
   "source": [
    "You can see that we have created a vocabulary of unique words in our corpus and also ways to map a word to its unique identifier and vice versa.\n",
    "\n",
    "The `PAD` term is typically used to pad context words to a fixed length if needed."
   ]
  },
  {
   "cell_type": "markdown",
   "id": "a4caac32",
   "metadata": {},
   "source": [
    "### Build a CBOW (context, target) generator\n",
    "We need pairs which consist of a target centre word and surround context words.\n",
    "\n",
    "In our implementation, a ***target word*** is of length `1` and ***surrounding context*** is of length `2 x window_size` where we take `window_size` words before and after the target word in our corpus.\n",
    "\n",
    "This will become clearer with the following example:"
   ]
  },
  {
   "cell_type": "code",
   "execution_count": 7,
   "id": "2fffaa19",
   "metadata": {},
   "outputs": [
    {
     "name": "stdout",
     "output_type": "stream",
     "text": [
      "Context (X): ['old', 'testament', 'james', 'bible'] -> Target (Y): king\n",
      "Context (X): ['first', 'book', 'called', 'genesis'] -> Target (Y): moses\n",
      "Context (X): ['beginning', 'god', 'heaven', 'earth'] -> Target (Y): created\n",
      "Context (X): ['earth', 'without', 'void', 'darkness'] -> Target (Y): form\n",
      "Context (X): ['without', 'form', 'darkness', 'upon'] -> Target (Y): void\n",
      "Context (X): ['form', 'void', 'upon', 'face'] -> Target (Y): darkness\n",
      "Context (X): ['void', 'darkness', 'face', 'deep'] -> Target (Y): upon\n",
      "Context (X): ['spirit', 'god', 'upon', 'face'] -> Target (Y): moved\n",
      "Context (X): ['god', 'moved', 'face', 'waters'] -> Target (Y): upon\n",
      "Context (X): ['god', 'said', 'light', 'light'] -> Target (Y): let\n",
      "Context (X): ['god', 'saw', 'good', 'god'] -> Target (Y): light\n"
     ]
    }
   ],
   "source": [
    "def generate_context_word_pairs(corpus, window_size, vocab_size):\n",
    "    context_length = window_size*2\n",
    "    for words in corpus:\n",
    "        sentence_length = len(words)\n",
    "        for index, word in enumerate(words):\n",
    "            context_words = []\n",
    "            label_word   = []            \n",
    "            start = index - window_size\n",
    "            end = index + window_size + 1\n",
    "            \n",
    "            context_words.append([words[i] \n",
    "                                 for i in range(start, end) \n",
    "                                 if 0 <= i < sentence_length \n",
    "                                 and i != index])\n",
    "            label_word.append(word)\n",
    "\n",
    "            x = sequence.pad_sequences(context_words, maxlen=context_length)\n",
    "            y = np_utils.to_categorical(label_word, vocab_size)\n",
    "            yield (x, y)\n",
    "            \n",
    "            \n",
    "# Test this out for some samples\n",
    "i = 0\n",
    "for x, y in generate_context_word_pairs(corpus=wids, window_size=window_size, vocab_size=vocab_size):\n",
    "    if 0 not in x[0]:\n",
    "        print('Context (X):', [id2word[w] for w in x[0]], '-> Target (Y):', id2word[np.argwhere(y[0])[0][0]])\n",
    "    \n",
    "        if i == 10:\n",
    "            break\n",
    "        i += 1"
   ]
  },
  {
   "cell_type": "markdown",
   "id": "eba934f9",
   "metadata": {},
   "source": [
    "The preceding output should give you some more perspective of how ***X*** forms our context words and we are trying to predict the target center word ***Y*** based on this context.\n",
    "\n",
    "For example, if the original text was *‘in the beginning god **created** heaven and earth’* which after pre-processing and removal of stopwords became *‘beginning god created heaven earth’* and for us, that is what we are trying to achieve.\n",
    "\n",
    "Given *[beginning, god, heaven, earth]* as the context, what the target center word is, which is ***‘created’*** in this case."
   ]
  },
  {
   "cell_type": "markdown",
   "id": "3b315d06",
   "metadata": {},
   "source": [
    "### Build the CBOW model architecture\n",
    "We now leverage `keras` on top of `tensorflow` to build our deep learning architecture for the CBOW model.\n",
    "\n",
    "For this our inputs will be our context words which are passed to an embedding layer (initialized with random weights)\n",
    "\n",
    "The word embeddings are propagated to a lambda layer where we average out the word embeddings ***(hence called CBOW because we don’t really consider the order or sequence in the context words when averaged)*** and then we pass this averaged context embedding to a dense softmax layer which predicts our target word.\n",
    "\n",
    "We match this with the actual target word, compute the loss by leveraging the `categorical_crossentropy` loss and perform backpropagation with each epoch to update the embedding layer in the process.\n",
    "\n",
    "Following code shows us our model architecture:"
   ]
  },
  {
   "cell_type": "code",
   "execution_count": 8,
   "id": "d3519b12",
   "metadata": {},
   "outputs": [
    {
     "name": "stdout",
     "output_type": "stream",
     "text": [
      "Model: \"sequential\"\n",
      "_________________________________________________________________\n",
      " Layer (type)                Output Shape              Param #   \n",
      "=================================================================\n",
      " embedding (Embedding)       (None, 4, 100)            1242500   \n",
      "                                                                 \n",
      " lambda (Lambda)             (None, 100)               0         \n",
      "                                                                 \n",
      " dense (Dense)               (None, 12425)             1254925   \n",
      "                                                                 \n",
      "=================================================================\n",
      "Total params: 2,497,425\n",
      "Trainable params: 2,497,425\n",
      "Non-trainable params: 0\n",
      "_________________________________________________________________\n",
      "None\n"
     ]
    },
    {
     "data": {
      "image/svg+xml": [
       "<svg xmlns=\"http://www.w3.org/2000/svg\" xmlns:xlink=\"http://www.w3.org/1999/xlink\" width=\"391pt\" height=\"405pt\" viewBox=\"0.00 0.00 293.00 304.00\">\n",
       "<g id=\"graph0\" class=\"graph\" transform=\"scale(0.75 0.75) rotate(0) translate(4 300)\">\n",
       "<title>G</title>\n",
       "<polygon fill=\"white\" stroke=\"transparent\" points=\"-4,4 -4,-300 289,-300 289,4 -4,4\"/>\n",
       "<!-- 140354928752912 -->\n",
       "<g id=\"node1\" class=\"node\">\n",
       "<title>140354928752912</title>\n",
       "<polygon fill=\"none\" stroke=\"black\" points=\"14.5,-249.5 14.5,-295.5 270.5,-295.5 270.5,-249.5 14.5,-249.5\"/>\n",
       "<text text-anchor=\"middle\" x=\"62\" y=\"-268.8\" font-family=\"Times,serif\" font-size=\"14.00\">InputLayer</text>\n",
       "<polyline fill=\"none\" stroke=\"black\" points=\"109.5,-249.5 109.5,-295.5 \"/>\n",
       "<text text-anchor=\"middle\" x=\"143.5\" y=\"-280.3\" font-family=\"Times,serif\" font-size=\"14.00\">input:</text>\n",
       "<polyline fill=\"none\" stroke=\"black\" points=\"109.5,-272.5 177.5,-272.5 \"/>\n",
       "<text text-anchor=\"middle\" x=\"143.5\" y=\"-257.3\" font-family=\"Times,serif\" font-size=\"14.00\">output:</text>\n",
       "<polyline fill=\"none\" stroke=\"black\" points=\"177.5,-249.5 177.5,-295.5 \"/>\n",
       "<text text-anchor=\"middle\" x=\"224\" y=\"-280.3\" font-family=\"Times,serif\" font-size=\"14.00\">[(None, 4)]</text>\n",
       "<polyline fill=\"none\" stroke=\"black\" points=\"177.5,-272.5 270.5,-272.5 \"/>\n",
       "<text text-anchor=\"middle\" x=\"224\" y=\"-257.3\" font-family=\"Times,serif\" font-size=\"14.00\">[(None, 4)]</text>\n",
       "</g>\n",
       "<!-- 140354921628528 -->\n",
       "<g id=\"node2\" class=\"node\">\n",
       "<title>140354921628528</title>\n",
       "<polygon fill=\"none\" stroke=\"black\" points=\"0,-166.5 0,-212.5 285,-212.5 285,-166.5 0,-166.5\"/>\n",
       "<text text-anchor=\"middle\" x=\"49\" y=\"-185.8\" font-family=\"Times,serif\" font-size=\"14.00\">Embedding</text>\n",
       "<polyline fill=\"none\" stroke=\"black\" points=\"98,-166.5 98,-212.5 \"/>\n",
       "<text text-anchor=\"middle\" x=\"132\" y=\"-197.3\" font-family=\"Times,serif\" font-size=\"14.00\">input:</text>\n",
       "<polyline fill=\"none\" stroke=\"black\" points=\"98,-189.5 166,-189.5 \"/>\n",
       "<text text-anchor=\"middle\" x=\"132\" y=\"-174.3\" font-family=\"Times,serif\" font-size=\"14.00\">output:</text>\n",
       "<polyline fill=\"none\" stroke=\"black\" points=\"166,-166.5 166,-212.5 \"/>\n",
       "<text text-anchor=\"middle\" x=\"225.5\" y=\"-197.3\" font-family=\"Times,serif\" font-size=\"14.00\">(None, 4)</text>\n",
       "<polyline fill=\"none\" stroke=\"black\" points=\"166,-189.5 285,-189.5 \"/>\n",
       "<text text-anchor=\"middle\" x=\"225.5\" y=\"-174.3\" font-family=\"Times,serif\" font-size=\"14.00\">(None, 4, 100)</text>\n",
       "</g>\n",
       "<!-- 140354928752912&#45;&gt;140354921628528 -->\n",
       "<g id=\"edge1\" class=\"edge\">\n",
       "<title>140354928752912-&gt;140354921628528</title>\n",
       "<path fill=\"none\" stroke=\"black\" d=\"M142.5,-249.37C142.5,-241.15 142.5,-231.66 142.5,-222.73\"/>\n",
       "<polygon fill=\"black\" stroke=\"black\" points=\"146,-222.61 142.5,-212.61 139,-222.61 146,-222.61\"/>\n",
       "</g>\n",
       "<!-- 140354928753968 -->\n",
       "<g id=\"node3\" class=\"node\">\n",
       "<title>140354928753968</title>\n",
       "<polygon fill=\"none\" stroke=\"black\" points=\"12,-83.5 12,-129.5 273,-129.5 273,-83.5 12,-83.5\"/>\n",
       "<text text-anchor=\"middle\" x=\"49\" y=\"-102.8\" font-family=\"Times,serif\" font-size=\"14.00\">Lambda</text>\n",
       "<polyline fill=\"none\" stroke=\"black\" points=\"86,-83.5 86,-129.5 \"/>\n",
       "<text text-anchor=\"middle\" x=\"120\" y=\"-114.3\" font-family=\"Times,serif\" font-size=\"14.00\">input:</text>\n",
       "<polyline fill=\"none\" stroke=\"black\" points=\"86,-106.5 154,-106.5 \"/>\n",
       "<text text-anchor=\"middle\" x=\"120\" y=\"-91.3\" font-family=\"Times,serif\" font-size=\"14.00\">output:</text>\n",
       "<polyline fill=\"none\" stroke=\"black\" points=\"154,-83.5 154,-129.5 \"/>\n",
       "<text text-anchor=\"middle\" x=\"213.5\" y=\"-114.3\" font-family=\"Times,serif\" font-size=\"14.00\">(None, 4, 100)</text>\n",
       "<polyline fill=\"none\" stroke=\"black\" points=\"154,-106.5 273,-106.5 \"/>\n",
       "<text text-anchor=\"middle\" x=\"213.5\" y=\"-91.3\" font-family=\"Times,serif\" font-size=\"14.00\">(None, 100)</text>\n",
       "</g>\n",
       "<!-- 140354921628528&#45;&gt;140354928753968 -->\n",
       "<g id=\"edge2\" class=\"edge\">\n",
       "<title>140354921628528-&gt;140354928753968</title>\n",
       "<path fill=\"none\" stroke=\"black\" d=\"M142.5,-166.37C142.5,-158.15 142.5,-148.66 142.5,-139.73\"/>\n",
       "<polygon fill=\"black\" stroke=\"black\" points=\"146,-139.61 142.5,-129.61 139,-139.61 146,-139.61\"/>\n",
       "</g>\n",
       "<!-- 140354921634000 -->\n",
       "<g id=\"node4\" class=\"node\">\n",
       "<title>140354921634000</title>\n",
       "<polygon fill=\"none\" stroke=\"black\" points=\"18.5,-0.5 18.5,-46.5 266.5,-46.5 266.5,-0.5 18.5,-0.5\"/>\n",
       "<text text-anchor=\"middle\" x=\"49\" y=\"-19.8\" font-family=\"Times,serif\" font-size=\"14.00\">Dense</text>\n",
       "<polyline fill=\"none\" stroke=\"black\" points=\"79.5,-0.5 79.5,-46.5 \"/>\n",
       "<text text-anchor=\"middle\" x=\"113.5\" y=\"-31.3\" font-family=\"Times,serif\" font-size=\"14.00\">input:</text>\n",
       "<polyline fill=\"none\" stroke=\"black\" points=\"79.5,-23.5 147.5,-23.5 \"/>\n",
       "<text text-anchor=\"middle\" x=\"113.5\" y=\"-8.3\" font-family=\"Times,serif\" font-size=\"14.00\">output:</text>\n",
       "<polyline fill=\"none\" stroke=\"black\" points=\"147.5,-0.5 147.5,-46.5 \"/>\n",
       "<text text-anchor=\"middle\" x=\"207\" y=\"-31.3\" font-family=\"Times,serif\" font-size=\"14.00\">(None, 100)</text>\n",
       "<polyline fill=\"none\" stroke=\"black\" points=\"147.5,-23.5 266.5,-23.5 \"/>\n",
       "<text text-anchor=\"middle\" x=\"207\" y=\"-8.3\" font-family=\"Times,serif\" font-size=\"14.00\">(None, 12425)</text>\n",
       "</g>\n",
       "<!-- 140354928753968&#45;&gt;140354921634000 -->\n",
       "<g id=\"edge3\" class=\"edge\">\n",
       "<title>140354928753968-&gt;140354921634000</title>\n",
       "<path fill=\"none\" stroke=\"black\" d=\"M142.5,-83.37C142.5,-75.15 142.5,-65.66 142.5,-56.73\"/>\n",
       "<polygon fill=\"black\" stroke=\"black\" points=\"146,-56.61 142.5,-46.61 139,-56.61 146,-56.61\"/>\n",
       "</g>\n",
       "</g>\n",
       "</svg>"
      ],
      "text/plain": [
       "<IPython.core.display.SVG object>"
      ]
     },
     "execution_count": 8,
     "metadata": {},
     "output_type": "execute_result"
    }
   ],
   "source": [
    "import logging\n",
    "logging.getLogger('tensorflow').disabled = True\n",
    "import keras.backend as K\n",
    "from keras.models import Sequential\n",
    "from keras.layers import Dense, Embedding, Lambda\n",
    "\n",
    "# build CBOW architecture\n",
    "cbow = Sequential()\n",
    "cbow.add(Embedding(input_dim=vocab_size, output_dim=embed_size, input_length=window_size*2))\n",
    "cbow.add(Lambda(lambda x: K.mean(x, axis=1), output_shape=(embed_size,)))\n",
    "cbow.add(Dense(vocab_size, activation='softmax'))\n",
    "cbow.compile(loss='categorical_crossentropy', optimizer='rmsprop')\n",
    "\n",
    "# view model summary\n",
    "print(cbow.summary())\n",
    "\n",
    "# visualize model structure\n",
    "from IPython.display import SVG\n",
    "from keras.utils.vis_utils import model_to_dot\n",
    "\n",
    "SVG(model_to_dot(cbow, show_shapes=True, show_layer_names=False, \n",
    "                 rankdir='TB').create(prog='dot', format='svg'))"
   ]
  },
  {
   "attachments": {
    "image.png": {
     "image/png": "[encoded data removed]"
    }
   },
   "cell_type": "markdown",
   "id": "4ae288b8",
   "metadata": {},
   "source": [
    "We have ***input context words*** of dimensions `(2 x window_size)`, we will pass them to an ***embedding layer** of size `(vocab_size x embed_size)` which will give us dense ***word embeddings*** for each of these context words `(1 x embed_size for each word)`.\n",
    "\n",
    "Next up we use a ***lambda layer*** to average out these embeddings and get an ***average dense embedding*** `(1 x embed_size)` which is sent to the ***dense softmax layer*** which outputs the most likely target word.\n",
    "\n",
    "We compare this with the actual target word, compute the loss, backpropagate the errors to adjust the weights (in the embedding layer) and repeat this process for all (*context, target*) pairs for multiple epochs.\n",
    "\n",
    "The following figure tries to explain the same:\n",
    "![image.png](attachment:image.png)\n",
    "`Visual depiction of the CBOW deep learning model`\n",
    "\n",
    "We are now ready to train this model on our corpus using our data generator to feed in (*context, target_word*) pairs."
   ]
  },
  {
   "cell_type": "markdown",
   "id": "dd824eff",
   "metadata": {},
   "source": [
    "### Train the Model\n",
    "Running the model on our complete corpus takes a fair bit of time, so I just ran it for 5 epochs. You can leverage the following code and increase it for more epochs if necessary."
   ]
  },
  {
   "cell_type": "code",
   "execution_count": 9,
   "id": "a55821f6",
   "metadata": {},
   "outputs": [
    {
     "name": "stdout",
     "output_type": "stream",
     "text": [
      "Processed 100000 (context, word) pairs\n",
      "Processed 200000 (context, word) pairs\n",
      "Processed 300000 (context, word) pairs\n",
      "Epoch: 1 \tLoss: 4302361.874420295\n",
      "\n",
      "Processed 100000 (context, word) pairs\n",
      "Processed 200000 (context, word) pairs\n",
      "Processed 300000 (context, word) pairs\n",
      "Epoch: 2 \tLoss: 5500023.541309938\n",
      "\n",
      "Processed 100000 (context, word) pairs\n",
      "Processed 200000 (context, word) pairs\n",
      "Processed 300000 (context, word) pairs\n",
      "Epoch: 3 \tLoss: 5530118.552502259\n",
      "\n",
      "Processed 100000 (context, word) pairs\n",
      "Processed 200000 (context, word) pairs\n",
      "Processed 300000 (context, word) pairs\n",
      "Epoch: 4 \tLoss: 5116663.223302663\n",
      "\n",
      "Processed 100000 (context, word) pairs\n",
      "Processed 200000 (context, word) pairs\n",
      "Processed 300000 (context, word) pairs\n",
      "Epoch: 5 \tLoss: 4544342.829362681\n",
      "\n"
     ]
    }
   ],
   "source": [
    "for epoch in range(1, 6):\n",
    "    loss = 0.\n",
    "    i = 0\n",
    "    for x, y in generate_context_word_pairs(corpus=wids, window_size=window_size, vocab_size=vocab_size):\n",
    "        i += 1\n",
    "        loss += cbow.train_on_batch(x, y)\n",
    "        if i % 100000 == 0:\n",
    "            print('Processed {} (context, word) pairs'.format(i))\n",
    "\n",
    "    print('Epoch:', epoch, '\\tLoss:', loss)\n",
    "    print()"
   ]
  },
  {
   "cell_type": "markdown",
   "id": "746afe92",
   "metadata": {},
   "source": [
    ">**Note:** Running this model is computationally expensive and works better if trained using a GPU. I trained this on an AWS p2.x instance with a Tesla K80 GPU and it took me close to 1.5 hours for just 5 epochs!\n",
    "\n",
    "Once this model is trained, similar words should have similar weights based off the embedding layer and we can test out the same."
   ]
  },
  {
   "cell_type": "markdown",
   "id": "c9bb49fa",
   "metadata": {},
   "source": [
    "### Get Word Embeddings\n",
    "To get word embeddings for our entire vocabulary, we can extract out the same from our embedding layer by leveraging the following code. We don’t take the embedding at position 0 since it belongs to the padding `(PAD)` term which is not really a word of interest."
   ]
  },
  {
   "cell_type": "code",
   "execution_count": 10,
   "id": "3fb61990",
   "metadata": {},
   "outputs": [
    {
     "name": "stdout",
     "output_type": "stream",
     "text": [
      "(12424, 100)\n"
     ]
    },
    {
     "data": {
      "text/html": [
       "<div>\n",
       "<style scoped>\n",
       "    .dataframe tbody tr th:only-of-type {\n",
       "        vertical-align: middle;\n",
       "    }\n",
       "\n",
       "    .dataframe tbody tr th {\n",
       "        vertical-align: top;\n",
       "    }\n",
       "\n",
       "    .dataframe thead th {\n",
       "        text-align: right;\n",
       "    }\n",
       "</style>\n",
       "<table border=\"1\" class=\"dataframe\">\n",
       "  <thead>\n",
       "    <tr style=\"text-align: right;\">\n",
       "      <th></th>\n",
       "      <th>0</th>\n",
       "      <th>1</th>\n",
       "      <th>2</th>\n",
       "      <th>3</th>\n",
       "      <th>4</th>\n",
       "      <th>5</th>\n",
       "      <th>6</th>\n",
       "      <th>7</th>\n",
       "      <th>8</th>\n",
       "      <th>9</th>\n",
       "      <th>...</th>\n",
       "      <th>90</th>\n",
       "      <th>91</th>\n",
       "      <th>92</th>\n",
       "      <th>93</th>\n",
       "      <th>94</th>\n",
       "      <th>95</th>\n",
       "      <th>96</th>\n",
       "      <th>97</th>\n",
       "      <th>98</th>\n",
       "      <th>99</th>\n",
       "    </tr>\n",
       "  </thead>\n",
       "  <tbody>\n",
       "    <tr>\n",
       "      <th>unto</th>\n",
       "      <td>-1.658113</td>\n",
       "      <td>2.092892</td>\n",
       "      <td>1.651633</td>\n",
       "      <td>2.748978</td>\n",
       "      <td>2.487044</td>\n",
       "      <td>-2.484429</td>\n",
       "      <td>2.349877</td>\n",
       "      <td>2.141736</td>\n",
       "      <td>1.684103</td>\n",
       "      <td>2.448739</td>\n",
       "      <td>...</td>\n",
       "      <td>-2.656024</td>\n",
       "      <td>-1.953369</td>\n",
       "      <td>1.864708</td>\n",
       "      <td>2.158958</td>\n",
       "      <td>-2.242337</td>\n",
       "      <td>-2.035357</td>\n",
       "      <td>2.034350</td>\n",
       "      <td>1.821860</td>\n",
       "      <td>2.063500</td>\n",
       "      <td>2.330931</td>\n",
       "    </tr>\n",
       "    <tr>\n",
       "      <th>lord</th>\n",
       "      <td>-1.992174</td>\n",
       "      <td>1.997914</td>\n",
       "      <td>2.001726</td>\n",
       "      <td>2.392572</td>\n",
       "      <td>2.289643</td>\n",
       "      <td>-2.235705</td>\n",
       "      <td>2.126675</td>\n",
       "      <td>2.250582</td>\n",
       "      <td>1.465727</td>\n",
       "      <td>2.146610</td>\n",
       "      <td>...</td>\n",
       "      <td>-2.612921</td>\n",
       "      <td>-1.302000</td>\n",
       "      <td>1.587619</td>\n",
       "      <td>2.037715</td>\n",
       "      <td>-1.653020</td>\n",
       "      <td>-2.127049</td>\n",
       "      <td>2.063193</td>\n",
       "      <td>2.005454</td>\n",
       "      <td>1.478597</td>\n",
       "      <td>2.222821</td>\n",
       "    </tr>\n",
       "    <tr>\n",
       "      <th>thou</th>\n",
       "      <td>-1.473093</td>\n",
       "      <td>1.684468</td>\n",
       "      <td>1.214930</td>\n",
       "      <td>1.798154</td>\n",
       "      <td>1.591913</td>\n",
       "      <td>-2.035939</td>\n",
       "      <td>1.463480</td>\n",
       "      <td>1.935348</td>\n",
       "      <td>1.377386</td>\n",
       "      <td>1.659830</td>\n",
       "      <td>...</td>\n",
       "      <td>-1.896454</td>\n",
       "      <td>-1.251621</td>\n",
       "      <td>1.820101</td>\n",
       "      <td>1.655717</td>\n",
       "      <td>-1.863812</td>\n",
       "      <td>-1.535613</td>\n",
       "      <td>1.452786</td>\n",
       "      <td>0.995425</td>\n",
       "      <td>1.256922</td>\n",
       "      <td>1.887710</td>\n",
       "    </tr>\n",
       "    <tr>\n",
       "      <th>thy</th>\n",
       "      <td>-1.823446</td>\n",
       "      <td>2.024173</td>\n",
       "      <td>1.667571</td>\n",
       "      <td>2.156524</td>\n",
       "      <td>1.817144</td>\n",
       "      <td>-2.651547</td>\n",
       "      <td>2.398401</td>\n",
       "      <td>2.147856</td>\n",
       "      <td>1.790020</td>\n",
       "      <td>2.055657</td>\n",
       "      <td>...</td>\n",
       "      <td>-2.525209</td>\n",
       "      <td>-1.841040</td>\n",
       "      <td>1.884705</td>\n",
       "      <td>2.324648</td>\n",
       "      <td>-1.854777</td>\n",
       "      <td>-1.949135</td>\n",
       "      <td>1.734879</td>\n",
       "      <td>1.742885</td>\n",
       "      <td>2.053027</td>\n",
       "      <td>2.190557</td>\n",
       "    </tr>\n",
       "    <tr>\n",
       "      <th>god</th>\n",
       "      <td>-1.565958</td>\n",
       "      <td>1.670241</td>\n",
       "      <td>1.679519</td>\n",
       "      <td>2.045577</td>\n",
       "      <td>1.851510</td>\n",
       "      <td>-2.210920</td>\n",
       "      <td>2.040985</td>\n",
       "      <td>2.259248</td>\n",
       "      <td>1.651888</td>\n",
       "      <td>1.584402</td>\n",
       "      <td>...</td>\n",
       "      <td>-2.295951</td>\n",
       "      <td>-1.217225</td>\n",
       "      <td>1.266874</td>\n",
       "      <td>2.070429</td>\n",
       "      <td>-1.939311</td>\n",
       "      <td>-1.834153</td>\n",
       "      <td>1.770923</td>\n",
       "      <td>1.577608</td>\n",
       "      <td>1.774021</td>\n",
       "      <td>1.726290</td>\n",
       "    </tr>\n",
       "  </tbody>\n",
       "</table>\n",
       "<p>5 rows × 100 columns</p>\n",
       "</div>"
      ],
      "text/plain": [
       "            0         1         2         3         4         5         6   \\\n",
       "unto -1.658113  2.092892  1.651633  2.748978  2.487044 -2.484429  2.349877   \n",
       "lord -1.992174  1.997914  2.001726  2.392572  2.289643 -2.235705  2.126675   \n",
       "thou -1.473093  1.684468  1.214930  1.798154  1.591913 -2.035939  1.463480   \n",
       "thy  -1.823446  2.024173  1.667571  2.156524  1.817144 -2.651547  2.398401   \n",
       "god  -1.565958  1.670241  1.679519  2.045577  1.851510 -2.210920  2.040985   \n",
       "\n",
       "            7         8         9   ...        90        91        92  \\\n",
       "unto  2.141736  1.684103  2.448739  ... -2.656024 -1.953369  1.864708   \n",
       "lord  2.250582  1.465727  2.146610  ... -2.612921 -1.302000  1.587619   \n",
       "thou  1.935348  1.377386  1.659830  ... -1.896454 -1.251621  1.820101   \n",
       "thy   2.147856  1.790020  2.055657  ... -2.525209 -1.841040  1.884705   \n",
       "god   2.259248  1.651888  1.584402  ... -2.295951 -1.217225  1.266874   \n",
       "\n",
       "            93        94        95        96        97        98        99  \n",
       "unto  2.158958 -2.242337 -2.035357  2.034350  1.821860  2.063500  2.330931  \n",
       "lord  2.037715 -1.653020 -2.127049  2.063193  2.005454  1.478597  2.222821  \n",
       "thou  1.655717 -1.863812 -1.535613  1.452786  0.995425  1.256922  1.887710  \n",
       "thy   2.324648 -1.854777 -1.949135  1.734879  1.742885  2.053027  2.190557  \n",
       "god   2.070429 -1.939311 -1.834153  1.770923  1.577608  1.774021  1.726290  \n",
       "\n",
       "[5 rows x 100 columns]"
      ]
     },
     "execution_count": 10,
     "metadata": {},
     "output_type": "execute_result"
    }
   ],
   "source": [
    "weights = cbow.get_weights()[0]\n",
    "weights = weights[1:]\n",
    "print(weights.shape)\n",
    "\n",
    "pd.DataFrame(weights, index=list(id2word.values())[1:]).head()\n",
    "\n",
    "# Word Embeddings for our vocabulary based on the CBOW model"
   ]
  },
  {
   "cell_type": "markdown",
   "id": "9f7653a7",
   "metadata": {},
   "source": [
    "Thus you can clearly see that each word has a dense embedding of size `(1x100)` as depicted in the preceding output. Let’s try and find out some contextually similar words for specific words of interest based on these embeddings. For this, we build out a pairwise distance matrix amongst all the words in our vocabulary based on the dense embedding vectors and then find out the n-nearest neighbors of each word of interest based on the shortest (euclidean) distance."
   ]
  },
  {
   "cell_type": "code",
   "execution_count": 11,
   "id": "88fc07d5",
   "metadata": {},
   "outputs": [
    {
     "name": "stdout",
     "output_type": "stream",
     "text": [
      "(12424, 12424)\n"
     ]
    },
    {
     "data": {
      "text/plain": [
       "{'god': ['ye', 'lord', 'hath', 'men', 'unto'],\n",
       " 'jesus': ['sea', 'would', 'holy', 'dead', 'thing'],\n",
       " 'noah': ['flower', 'neighbours', 'used', 'hasted', 'lusts'],\n",
       " 'egypt': ['gone', 'princes', 'poor', 'broken', 'till'],\n",
       " 'john': ['disciples', 'peter', 'entered', 'knew', 'sound'],\n",
       " 'gospel': ['hope', 'grace', 'hearts', 'must', 'saints'],\n",
       " 'moses': ['therein', 'enemies', 'kept', 'goeth', 'received'],\n",
       " 'famine': ['remained', 'fields', 'army', 'lying', 'wheat']}"
      ]
     },
     "execution_count": 11,
     "metadata": {},
     "output_type": "execute_result"
    }
   ],
   "source": [
    "from sklearn.metrics.pairwise import euclidean_distances\n",
    "\n",
    "# compute pairwise distance matrix\n",
    "distance_matrix = euclidean_distances(weights)\n",
    "print(distance_matrix.shape)\n",
    "\n",
    "# view contextually similar words\n",
    "similar_words = {search_term: [id2word[idx] for idx in distance_matrix[word2id[search_term]-1].argsort()[1:6]+1] \n",
    "                   for search_term in ['god', 'jesus', 'noah', 'egypt', 'john', 'gospel', 'moses','famine']}\n",
    "\n",
    "similar_words"
   ]
  },
  {
   "cell_type": "markdown",
   "id": "099f9d17",
   "metadata": {},
   "source": [
    "You can clearly see that some of these make sense contextually (god, heaven), (gospel, church) and so on and some may not. Training for more epochs usually ends up giving better results. We will now explore the skip-gram architecture which often gives better results as compared to CBOW."
   ]
  },
  {
   "cell_type": "code",
   "execution_count": 12,
   "id": "4d9bd432",
   "metadata": {},
   "outputs": [],
   "source": [
    "import pickle\n",
    "\n",
    "pickle.dump(cbow, open('cbow-bible-model.pkl','wb'))"
   ]
  },
  {
   "cell_type": "markdown",
   "id": "c2228d34",
   "metadata": {},
   "source": [
    "### The Skip-gram Model\n",
    "The Skip-gram model architecture usually tries to achieve the reverse of what the CBOW model does. It tries to predict the source context words (surrounding words) given a target word (the center word).\n",
    "\n",
    "Considering our simple sentence from earlier, ***“the quick brown fox jumps over the lazy dog”***. If we used the CBOW model, we get pairs of ***(context_window, target_word)*** where if we consider a context window of size 2, we have examples like ***([quick, fox], brown)***, ***([the, brown], quick)***, ***([the, dog], lazy)** and so on.\n",
    "\n",
    "Now considering that the skip-gram model’s aim is to predict the context from the target word, the model typically inverts the contexts and targets, and tries to predict each context word from its target word. Hence the task becomes to predict the context ***[quick, fox]*** given target word ***‘brown’*** or ***[the, brown]*** given target word ‘quick’ and so on.\n",
    "\n",
    "Thus the model tries to predict the context_window words based on the target_word."
   ]
  },
  {
   "attachments": {
    "image.png": {
     "image/png": "[encoded data removed]"
    }
   },
   "cell_type": "markdown",
   "id": "01be885f",
   "metadata": {},
   "source": [
    "![image.png](attachment:image.png)\n",
    "`The Skip-gram model architecture (Source: https://arxiv.org/pdf/1301.3781.pdf Mikolov el al.)`"
   ]
  },
  {
   "cell_type": "markdown",
   "id": "be4433eb",
   "metadata": {},
   "source": [
    "Just like we discussed in the CBOW model, we need to model this Skip-gram architecture now as a deep learning classification model such that we take in the target word as our input and try to predict the context words.This becomes slightly complex since we have multiple words in our context.\n",
    "\n",
    "We simplify this further by breaking down each ***(target, context_words)*** pair into ***(target, context)*** pairs such that each context consists of only one word. Hence our dataset from earlier gets transformed into pairs like ***(brown, quick)***, ***(brown, fox)***, ***(quick, the)***, ***(quick, brown)*** and so on.\n",
    "\n",
    "But how to supervise or train the model to know what is contextual and what is not?"
   ]
  },
  {
   "cell_type": "markdown",
   "id": "c14754b8",
   "metadata": {},
   "source": [
    "For this, we feed our skip-gram model pairs of ***(X, Y)*** where ***X*** is our ***input*** and ***Y*** is our ***label***. We do this by using ***[(target, context), 1]*** pairs as ***positive input*** samples where ***target*** is our word of interest and ***context*** is a context word occurring near the target word and the ***positive label 1*** indicates this is a contextually relevant pair.\n",
    "\n",
    "We also feed in ***[(target, random), 0]*** pairs as ***negative input samples*** where ***target*** is again our word of interest but ***random*** is just a randomly selected word from our vocabulary which has no context or association with our target word.\n",
    "\n",
    "Hence the ***negative label 0*** indicates this is a contextually irrelevant pair. We do this so that the model can then learn which pairs of words are contextually relevant and which are not and generate similar embeddings for semantically similar words."
   ]
  },
  {
   "cell_type": "markdown",
   "id": "f48337c1",
   "metadata": {},
   "source": [
    "## Implementing the Skip-gram Model\n",
    "\n",
    "Let’s now try and implement this model from scratch to gain some perspective on how things work behind the scenes and also so that we can compare it with our implementation of the CBOW model.\n",
    "\n",
    "We will leverage our Bible corpus as usual which is contained in the norm_bible variable for training our model. The implementation will focus on five parts:\n",
    "\n",
    "* Build the corpus vocabulary\n",
    "* Build a skip-gram [(target, context), relevancy] generator\n",
    "* Build the skip-gram model architecture\n",
    "* Train the Model\n",
    "* Get Word Embeddings\n",
    "\n",
    "Let’s build our skip-gram Word2Vec model:"
   ]
  },
  {
   "cell_type": "markdown",
   "id": "ecc8d6eb",
   "metadata": {},
   "source": [
    "### Build the corpus vocabulary\n",
    "\n",
    "To start off, we will follow the standard process of building our corpus vocabulary where we extract out each unique word from our vocabulary and assign a unique identifier, similar to what we did in the CBOW model.\n",
    "\n",
    "We also maintain mappings to transform words to their unique identifiers and vice-versa."
   ]
  },
  {
   "cell_type": "code",
   "execution_count": 13,
   "id": "b0334dae",
   "metadata": {},
   "outputs": [
    {
     "name": "stdout",
     "output_type": "stream",
     "text": [
      "Vocabulary Size: 12425\n",
      "Vocabulary Sample: [('shall', 1), ('unto', 2), ('lord', 3), ('thou', 4), ('thy', 5), ('god', 6), ('ye', 7), ('said', 8), ('thee', 9), ('upon', 10)]\n"
     ]
    }
   ],
   "source": [
    "from keras.preprocessing import text\n",
    "\n",
    "tokenizer = text.Tokenizer()\n",
    "tokenizer.fit_on_texts(norm_bible)\n",
    "\n",
    "word2id = tokenizer.word_index\n",
    "id2word = {v:k for k, v in word2id.items()}\n",
    "\n",
    "vocab_size = len(word2id) + 1 \n",
    "embed_size = 100\n",
    "\n",
    "wids = [[word2id[w] for w in text.text_to_word_sequence(doc)] for doc in norm_bible]\n",
    "print('Vocabulary Size:', vocab_size)\n",
    "print('Vocabulary Sample:', list(word2id.items())[:10])"
   ]
  },
  {
   "cell_type": "markdown",
   "id": "6541fc95",
   "metadata": {},
   "source": [
    "Just like we wanted, each unique word from the corpus is a part of our vocabulary now with a unique numeric identifier."
   ]
  },
  {
   "cell_type": "markdown",
   "id": "58d99921",
   "metadata": {},
   "source": [
    "### Build a skip-gram [(target, context), relevancy] generator\n",
    "\n",
    "It’s now time to build out our skip-gram generator which will give us pair of words and their relevance like we discussed earlier. Luckily, **keras has a nifty skipgrams utility which can be used and we don’t have to manually implement this generator like we did in CBOW**.\n",
    "\n",
    ">Note: The function skipgrams(…) is present in keras.preprocessing.sequence\n",
    "This function transforms a sequence of word indexes (list of integers) into tuples of words of the form:\n",
    "> - (word, word in the same window), with label 1 (positive samples).\n",
    "> - (word, random word from the vocabulary), with label 0 (negative samples)."
   ]
  },
  {
   "cell_type": "code",
   "execution_count": 14,
   "id": "611899c8",
   "metadata": {},
   "outputs": [
    {
     "name": "stdout",
     "output_type": "stream",
     "text": [
      "(bible (5766), shihon (9129)) -> 0\n",
      "(king (13), eber (2798)) -> 0\n",
      "(king (13), bible (5766)) -> 1\n",
      "(james (1154), wen (8744)) -> 0\n",
      "(king (13), james (1154)) -> 1\n",
      "(king (13), wanted (6530)) -> 0\n",
      "(bible (5766), james (1154)) -> 1\n",
      "(james (1154), king (13)) -> 1\n",
      "(james (1154), maleleel (11521)) -> 0\n",
      "(james (1154), bible (5766)) -> 1\n"
     ]
    }
   ],
   "source": [
    "from keras.preprocessing.sequence import skipgrams\n",
    "\n",
    "# generate skip-grams\n",
    "skip_grams = [skipgrams(wid, vocabulary_size=vocab_size, window_size=10) for wid in wids]\n",
    "\n",
    "# view sample skip-grams\n",
    "pairs, labels = skip_grams[0][0], skip_grams[0][1]\n",
    "for i in range(10):\n",
    "    print(\"({:s} ({:d}), {:s} ({:d})) -> {:d}\".format(\n",
    "          id2word[pairs[i][0]], pairs[i][0], \n",
    "          id2word[pairs[i][1]], pairs[i][1], \n",
    "          labels[i]))"
   ]
  },
  {
   "cell_type": "markdown",
   "id": "14d140c5",
   "metadata": {},
   "source": [
    "Thus you can see we have successfully generated our required skip-grams and based on the sample skip-grams in the preceding output, you can clearly see what is relevant and what is irrelevant based on the label (0 or 1)."
   ]
  },
  {
   "cell_type": "markdown",
   "id": "9bd6720a",
   "metadata": {},
   "source": [
    "### Build the skip-gram model architecture\n",
    "\n",
    "We now leverage keras on top of tensorflow to build our deep learning architecture for the skip-gram model.\n",
    "\n",
    "For this our inputs will be our target word and context or random word pair. Each of which are passed to an embedding layer (initialized with random weights) of it’s own.\n",
    "\n",
    "Once we obtain the word embeddings for the target and the context word, we pass it to a merge layer where we compute the dot product of these two vectors.\n",
    "\n",
    "Then we pass on this dot product value to a dense sigmoid layer which predicts either a 1 or a 0 depending on if the pair of words are contextually relevant or just random words ***(Y’)***.\n",
    "\n",
    "We match this with the actual relevance label ***(Y)***, compute the loss by leveraging the `mean_squared_error` loss and perform backpropagation with each epoch to update the embedding layer in the process.\n",
    "\n",
    "Following code shows us our model architecture:"
   ]
  },
  {
   "cell_type": "code",
   "execution_count": 54,
   "id": "a16d6930",
   "metadata": {
    "scrolled": true
   },
   "outputs": [
    {
     "name": "stdout",
     "output_type": "stream",
     "text": [
      "Model: \"model\"\n",
      "__________________________________________________________________________________________________\n",
      " Layer (type)                   Output Shape         Param #     Connected to                     \n",
      "==================================================================================================\n",
      " embedding_69_input (InputLayer  [(None, 1)]         0           []                               \n",
      " )                                                                                                \n",
      "                                                                                                  \n",
      " embedding_70_input (InputLayer  [(None, 1)]         0           []                               \n",
      " )                                                                                                \n",
      "                                                                                                  \n",
      " embedding_69 (Embedding)       (None, 1, 100)       1242500     ['embedding_69_input[0][0]']     \n",
      "                                                                                                  \n",
      " embedding_70 (Embedding)       (None, 1, 100)       1242500     ['embedding_70_input[0][0]']     \n",
      "                                                                                                  \n",
      " reshape_68 (Reshape)           (None, 100)          0           ['embedding_69[0][0]']           \n",
      "                                                                                                  \n",
      " reshape_69 (Reshape)           (None, 100)          0           ['embedding_70[0][0]']           \n",
      "                                                                                                  \n",
      " concatenate_20 (Concatenate)   (None, 200)          0           ['reshape_68[0][0]',             \n",
      "                                                                  'reshape_69[0][0]']             \n",
      "                                                                                                  \n",
      " dense_4 (Dense)                (None, 1)            201         ['concatenate_20[0][0]']         \n",
      "                                                                                                  \n",
      "==================================================================================================\n",
      "Total params: 2,485,201\n",
      "Trainable params: 2,485,201\n",
      "Non-trainable params: 0\n",
      "__________________________________________________________________________________________________\n",
      "None\n"
     ]
    },
    {
     "data": {
      "image/svg+xml": [
       "<svg xmlns=\"http://www.w3.org/2000/svg\" xmlns:xlink=\"http://www.w3.org/1999/xlink\" width=\"795pt\" height=\"516pt\" viewBox=\"0.00 0.00 596.00 387.00\">\n",
       "<g id=\"graph0\" class=\"graph\" transform=\"scale(0.75 0.75) rotate(0) translate(4 383)\">\n",
       "<title>G</title>\n",
       "<polygon fill=\"white\" stroke=\"transparent\" points=\"-4,4 -4,-383 592,-383 592,4 -4,4\"/>\n",
       "<!-- 140352038136288 -->\n",
       "<g id=\"node1\" class=\"node\">\n",
       "<title>140352038136288</title>\n",
       "<polygon fill=\"none\" stroke=\"black\" points=\"14.5,-332.5 14.5,-378.5 270.5,-378.5 270.5,-332.5 14.5,-332.5\"/>\n",
       "<text text-anchor=\"middle\" x=\"62\" y=\"-351.8\" font-family=\"Times,serif\" font-size=\"14.00\">InputLayer</text>\n",
       "<polyline fill=\"none\" stroke=\"black\" points=\"109.5,-332.5 109.5,-378.5 \"/>\n",
       "<text text-anchor=\"middle\" x=\"143.5\" y=\"-363.3\" font-family=\"Times,serif\" font-size=\"14.00\">input:</text>\n",
       "<polyline fill=\"none\" stroke=\"black\" points=\"109.5,-355.5 177.5,-355.5 \"/>\n",
       "<text text-anchor=\"middle\" x=\"143.5\" y=\"-340.3\" font-family=\"Times,serif\" font-size=\"14.00\">output:</text>\n",
       "<polyline fill=\"none\" stroke=\"black\" points=\"177.5,-332.5 177.5,-378.5 \"/>\n",
       "<text text-anchor=\"middle\" x=\"224\" y=\"-363.3\" font-family=\"Times,serif\" font-size=\"14.00\">[(None, 1)]</text>\n",
       "<polyline fill=\"none\" stroke=\"black\" points=\"177.5,-355.5 270.5,-355.5 \"/>\n",
       "<text text-anchor=\"middle\" x=\"224\" y=\"-340.3\" font-family=\"Times,serif\" font-size=\"14.00\">[(None, 1)]</text>\n",
       "</g>\n",
       "<!-- 140352038135520 -->\n",
       "<g id=\"node3\" class=\"node\">\n",
       "<title>140352038135520</title>\n",
       "<polygon fill=\"none\" stroke=\"black\" points=\"0,-249.5 0,-295.5 285,-295.5 285,-249.5 0,-249.5\"/>\n",
       "<text text-anchor=\"middle\" x=\"49\" y=\"-268.8\" font-family=\"Times,serif\" font-size=\"14.00\">Embedding</text>\n",
       "<polyline fill=\"none\" stroke=\"black\" points=\"98,-249.5 98,-295.5 \"/>\n",
       "<text text-anchor=\"middle\" x=\"132\" y=\"-280.3\" font-family=\"Times,serif\" font-size=\"14.00\">input:</text>\n",
       "<polyline fill=\"none\" stroke=\"black\" points=\"98,-272.5 166,-272.5 \"/>\n",
       "<text text-anchor=\"middle\" x=\"132\" y=\"-257.3\" font-family=\"Times,serif\" font-size=\"14.00\">output:</text>\n",
       "<polyline fill=\"none\" stroke=\"black\" points=\"166,-249.5 166,-295.5 \"/>\n",
       "<text text-anchor=\"middle\" x=\"225.5\" y=\"-280.3\" font-family=\"Times,serif\" font-size=\"14.00\">(None, 1)</text>\n",
       "<polyline fill=\"none\" stroke=\"black\" points=\"166,-272.5 285,-272.5 \"/>\n",
       "<text text-anchor=\"middle\" x=\"225.5\" y=\"-257.3\" font-family=\"Times,serif\" font-size=\"14.00\">(None, 1, 100)</text>\n",
       "</g>\n",
       "<!-- 140352038136288&#45;&gt;140352038135520 -->\n",
       "<g id=\"edge1\" class=\"edge\">\n",
       "<title>140352038136288-&gt;140352038135520</title>\n",
       "<path fill=\"none\" stroke=\"black\" d=\"M142.5,-332.37C142.5,-324.15 142.5,-314.66 142.5,-305.73\"/>\n",
       "<polygon fill=\"black\" stroke=\"black\" points=\"146,-305.61 142.5,-295.61 139,-305.61 146,-305.61\"/>\n",
       "</g>\n",
       "<!-- 140352059889200 -->\n",
       "<g id=\"node2\" class=\"node\">\n",
       "<title>140352059889200</title>\n",
       "<polygon fill=\"none\" stroke=\"black\" points=\"317.5,-332.5 317.5,-378.5 573.5,-378.5 573.5,-332.5 317.5,-332.5\"/>\n",
       "<text text-anchor=\"middle\" x=\"365\" y=\"-351.8\" font-family=\"Times,serif\" font-size=\"14.00\">InputLayer</text>\n",
       "<polyline fill=\"none\" stroke=\"black\" points=\"412.5,-332.5 412.5,-378.5 \"/>\n",
       "<text text-anchor=\"middle\" x=\"446.5\" y=\"-363.3\" font-family=\"Times,serif\" font-size=\"14.00\">input:</text>\n",
       "<polyline fill=\"none\" stroke=\"black\" points=\"412.5,-355.5 480.5,-355.5 \"/>\n",
       "<text text-anchor=\"middle\" x=\"446.5\" y=\"-340.3\" font-family=\"Times,serif\" font-size=\"14.00\">output:</text>\n",
       "<polyline fill=\"none\" stroke=\"black\" points=\"480.5,-332.5 480.5,-378.5 \"/>\n",
       "<text text-anchor=\"middle\" x=\"527\" y=\"-363.3\" font-family=\"Times,serif\" font-size=\"14.00\">[(None, 1)]</text>\n",
       "<polyline fill=\"none\" stroke=\"black\" points=\"480.5,-355.5 573.5,-355.5 \"/>\n",
       "<text text-anchor=\"middle\" x=\"527\" y=\"-340.3\" font-family=\"Times,serif\" font-size=\"14.00\">[(None, 1)]</text>\n",
       "</g>\n",
       "<!-- 140352039125200 -->\n",
       "<g id=\"node4\" class=\"node\">\n",
       "<title>140352039125200</title>\n",
       "<polygon fill=\"none\" stroke=\"black\" points=\"303,-249.5 303,-295.5 588,-295.5 588,-249.5 303,-249.5\"/>\n",
       "<text text-anchor=\"middle\" x=\"352\" y=\"-268.8\" font-family=\"Times,serif\" font-size=\"14.00\">Embedding</text>\n",
       "<polyline fill=\"none\" stroke=\"black\" points=\"401,-249.5 401,-295.5 \"/>\n",
       "<text text-anchor=\"middle\" x=\"435\" y=\"-280.3\" font-family=\"Times,serif\" font-size=\"14.00\">input:</text>\n",
       "<polyline fill=\"none\" stroke=\"black\" points=\"401,-272.5 469,-272.5 \"/>\n",
       "<text text-anchor=\"middle\" x=\"435\" y=\"-257.3\" font-family=\"Times,serif\" font-size=\"14.00\">output:</text>\n",
       "<polyline fill=\"none\" stroke=\"black\" points=\"469,-249.5 469,-295.5 \"/>\n",
       "<text text-anchor=\"middle\" x=\"528.5\" y=\"-280.3\" font-family=\"Times,serif\" font-size=\"14.00\">(None, 1)</text>\n",
       "<polyline fill=\"none\" stroke=\"black\" points=\"469,-272.5 588,-272.5 \"/>\n",
       "<text text-anchor=\"middle\" x=\"528.5\" y=\"-257.3\" font-family=\"Times,serif\" font-size=\"14.00\">(None, 1, 100)</text>\n",
       "</g>\n",
       "<!-- 140352059889200&#45;&gt;140352039125200 -->\n",
       "<g id=\"edge2\" class=\"edge\">\n",
       "<title>140352059889200-&gt;140352039125200</title>\n",
       "<path fill=\"none\" stroke=\"black\" d=\"M445.5,-332.37C445.5,-324.15 445.5,-314.66 445.5,-305.73\"/>\n",
       "<polygon fill=\"black\" stroke=\"black\" points=\"449,-305.61 445.5,-295.61 442,-305.61 449,-305.61\"/>\n",
       "</g>\n",
       "<!-- 140352038137824 -->\n",
       "<g id=\"node5\" class=\"node\">\n",
       "<title>140352038137824</title>\n",
       "<polygon fill=\"none\" stroke=\"black\" points=\"20.5,-166.5 20.5,-212.5 284.5,-212.5 284.5,-166.5 20.5,-166.5\"/>\n",
       "<text text-anchor=\"middle\" x=\"59\" y=\"-185.8\" font-family=\"Times,serif\" font-size=\"14.00\">Reshape</text>\n",
       "<polyline fill=\"none\" stroke=\"black\" points=\"97.5,-166.5 97.5,-212.5 \"/>\n",
       "<text text-anchor=\"middle\" x=\"131.5\" y=\"-197.3\" font-family=\"Times,serif\" font-size=\"14.00\">input:</text>\n",
       "<polyline fill=\"none\" stroke=\"black\" points=\"97.5,-189.5 165.5,-189.5 \"/>\n",
       "<text text-anchor=\"middle\" x=\"131.5\" y=\"-174.3\" font-family=\"Times,serif\" font-size=\"14.00\">output:</text>\n",
       "<polyline fill=\"none\" stroke=\"black\" points=\"165.5,-166.5 165.5,-212.5 \"/>\n",
       "<text text-anchor=\"middle\" x=\"225\" y=\"-197.3\" font-family=\"Times,serif\" font-size=\"14.00\">(None, 1, 100)</text>\n",
       "<polyline fill=\"none\" stroke=\"black\" points=\"165.5,-189.5 284.5,-189.5 \"/>\n",
       "<text text-anchor=\"middle\" x=\"225\" y=\"-174.3\" font-family=\"Times,serif\" font-size=\"14.00\">(None, 100)</text>\n",
       "</g>\n",
       "<!-- 140352038135520&#45;&gt;140352038137824 -->\n",
       "<g id=\"edge3\" class=\"edge\">\n",
       "<title>140352038135520-&gt;140352038137824</title>\n",
       "<path fill=\"none\" stroke=\"black\" d=\"M145.23,-249.37C146.25,-241.15 147.42,-231.66 148.52,-222.73\"/>\n",
       "<polygon fill=\"black\" stroke=\"black\" points=\"152.02,-222.96 149.77,-212.61 145.07,-222.1 152.02,-222.96\"/>\n",
       "</g>\n",
       "<!-- 140352038138160 -->\n",
       "<g id=\"node6\" class=\"node\">\n",
       "<title>140352038138160</title>\n",
       "<polygon fill=\"none\" stroke=\"black\" points=\"307.5,-166.5 307.5,-212.5 571.5,-212.5 571.5,-166.5 307.5,-166.5\"/>\n",
       "<text text-anchor=\"middle\" x=\"346\" y=\"-185.8\" font-family=\"Times,serif\" font-size=\"14.00\">Reshape</text>\n",
       "<polyline fill=\"none\" stroke=\"black\" points=\"384.5,-166.5 384.5,-212.5 \"/>\n",
       "<text text-anchor=\"middle\" x=\"418.5\" y=\"-197.3\" font-family=\"Times,serif\" font-size=\"14.00\">input:</text>\n",
       "<polyline fill=\"none\" stroke=\"black\" points=\"384.5,-189.5 452.5,-189.5 \"/>\n",
       "<text text-anchor=\"middle\" x=\"418.5\" y=\"-174.3\" font-family=\"Times,serif\" font-size=\"14.00\">output:</text>\n",
       "<polyline fill=\"none\" stroke=\"black\" points=\"452.5,-166.5 452.5,-212.5 \"/>\n",
       "<text text-anchor=\"middle\" x=\"512\" y=\"-197.3\" font-family=\"Times,serif\" font-size=\"14.00\">(None, 1, 100)</text>\n",
       "<polyline fill=\"none\" stroke=\"black\" points=\"452.5,-189.5 571.5,-189.5 \"/>\n",
       "<text text-anchor=\"middle\" x=\"512\" y=\"-174.3\" font-family=\"Times,serif\" font-size=\"14.00\">(None, 100)</text>\n",
       "</g>\n",
       "<!-- 140352039125200&#45;&gt;140352038138160 -->\n",
       "<g id=\"edge4\" class=\"edge\">\n",
       "<title>140352039125200-&gt;140352038138160</title>\n",
       "<path fill=\"none\" stroke=\"black\" d=\"M443.86,-249.37C443.25,-241.15 442.55,-231.66 441.89,-222.73\"/>\n",
       "<polygon fill=\"black\" stroke=\"black\" points=\"445.37,-222.32 441.14,-212.61 438.39,-222.84 445.37,-222.32\"/>\n",
       "</g>\n",
       "<!-- 140352039148352 -->\n",
       "<g id=\"node7\" class=\"node\">\n",
       "<title>140352039148352</title>\n",
       "<polygon fill=\"none\" stroke=\"black\" points=\"104.5,-83.5 104.5,-129.5 482.5,-129.5 482.5,-83.5 104.5,-83.5\"/>\n",
       "<text text-anchor=\"middle\" x=\"157.5\" y=\"-102.8\" font-family=\"Times,serif\" font-size=\"14.00\">Concatenate</text>\n",
       "<polyline fill=\"none\" stroke=\"black\" points=\"210.5,-83.5 210.5,-129.5 \"/>\n",
       "<text text-anchor=\"middle\" x=\"244.5\" y=\"-114.3\" font-family=\"Times,serif\" font-size=\"14.00\">input:</text>\n",
       "<polyline fill=\"none\" stroke=\"black\" points=\"210.5,-106.5 278.5,-106.5 \"/>\n",
       "<text text-anchor=\"middle\" x=\"244.5\" y=\"-91.3\" font-family=\"Times,serif\" font-size=\"14.00\">output:</text>\n",
       "<polyline fill=\"none\" stroke=\"black\" points=\"278.5,-83.5 278.5,-129.5 \"/>\n",
       "<text text-anchor=\"middle\" x=\"380.5\" y=\"-114.3\" font-family=\"Times,serif\" font-size=\"14.00\">[(None, 100), (None, 100)]</text>\n",
       "<polyline fill=\"none\" stroke=\"black\" points=\"278.5,-106.5 482.5,-106.5 \"/>\n",
       "<text text-anchor=\"middle\" x=\"380.5\" y=\"-91.3\" font-family=\"Times,serif\" font-size=\"14.00\">(None, 200)</text>\n",
       "</g>\n",
       "<!-- 140352038137824&#45;&gt;140352039148352 -->\n",
       "<g id=\"edge5\" class=\"edge\">\n",
       "<title>140352038137824-&gt;140352039148352</title>\n",
       "<path fill=\"none\" stroke=\"black\" d=\"M191.03,-166.37C207.97,-156.63 228.04,-145.11 245.9,-134.84\"/>\n",
       "<polygon fill=\"black\" stroke=\"black\" points=\"248.09,-137.62 255.02,-129.61 244.6,-131.55 248.09,-137.62\"/>\n",
       "</g>\n",
       "<!-- 140352038138160&#45;&gt;140352039148352 -->\n",
       "<g id=\"edge6\" class=\"edge\">\n",
       "<title>140352038138160-&gt;140352039148352</title>\n",
       "<path fill=\"none\" stroke=\"black\" d=\"M399.6,-166.37C381.9,-156.54 360.9,-144.89 342.28,-134.56\"/>\n",
       "<polygon fill=\"black\" stroke=\"black\" points=\"343.79,-131.4 333.35,-129.61 340.39,-137.52 343.79,-131.4\"/>\n",
       "</g>\n",
       "<!-- 140352039151184 -->\n",
       "<g id=\"node8\" class=\"node\">\n",
       "<title>140352039151184</title>\n",
       "<polygon fill=\"none\" stroke=\"black\" points=\"178.5,-0.5 178.5,-46.5 408.5,-46.5 408.5,-0.5 178.5,-0.5\"/>\n",
       "<text text-anchor=\"middle\" x=\"209\" y=\"-19.8\" font-family=\"Times,serif\" font-size=\"14.00\">Dense</text>\n",
       "<polyline fill=\"none\" stroke=\"black\" points=\"239.5,-0.5 239.5,-46.5 \"/>\n",
       "<text text-anchor=\"middle\" x=\"273.5\" y=\"-31.3\" font-family=\"Times,serif\" font-size=\"14.00\">input:</text>\n",
       "<polyline fill=\"none\" stroke=\"black\" points=\"239.5,-23.5 307.5,-23.5 \"/>\n",
       "<text text-anchor=\"middle\" x=\"273.5\" y=\"-8.3\" font-family=\"Times,serif\" font-size=\"14.00\">output:</text>\n",
       "<polyline fill=\"none\" stroke=\"black\" points=\"307.5,-0.5 307.5,-46.5 \"/>\n",
       "<text text-anchor=\"middle\" x=\"358\" y=\"-31.3\" font-family=\"Times,serif\" font-size=\"14.00\">(None, 200)</text>\n",
       "<polyline fill=\"none\" stroke=\"black\" points=\"307.5,-23.5 408.5,-23.5 \"/>\n",
       "<text text-anchor=\"middle\" x=\"358\" y=\"-8.3\" font-family=\"Times,serif\" font-size=\"14.00\">(None, 1)</text>\n",
       "</g>\n",
       "<!-- 140352039148352&#45;&gt;140352039151184 -->\n",
       "<g id=\"edge7\" class=\"edge\">\n",
       "<title>140352039148352-&gt;140352039151184</title>\n",
       "<path fill=\"none\" stroke=\"black\" d=\"M293.5,-83.37C293.5,-75.15 293.5,-65.66 293.5,-56.73\"/>\n",
       "<polygon fill=\"black\" stroke=\"black\" points=\"297,-56.61 293.5,-46.61 290,-56.61 297,-56.61\"/>\n",
       "</g>\n",
       "</g>\n",
       "</svg>"
      ],
      "text/plain": [
       "<IPython.core.display.SVG object>"
      ]
     },
     "execution_count": 54,
     "metadata": {},
     "output_type": "execute_result"
    }
   ],
   "source": [
    "# http://localhost:8888/notebooks/capstone/Curriculum/Section-31--Natural-Language-Processing/Section-31.1--Foundations-of-Traditional-and-Modern-NLP/sandbox.ipynb\n",
    "from keras.layers import concatenate\n",
    "from keras.layers.core import Dense, Reshape\n",
    "from keras.layers.embeddings import Embedding\n",
    "from keras.models import Sequential, Model\n",
    "\n",
    "# build skip-gram architecture\n",
    "word_model = Sequential()\n",
    "word_model.add(Embedding(vocab_size, embed_size,\n",
    "                         embeddings_initializer=\"glorot_uniform\",\n",
    "                         input_length=1))\n",
    "word_model.add(Reshape((embed_size, )))\n",
    "\n",
    "context_model = Sequential()\n",
    "context_model.add(Embedding(vocab_size, embed_size,\n",
    "                  embeddings_initializer=\"glorot_uniform\",\n",
    "                  input_length=1))\n",
    "context_model.add(Reshape((embed_size,)))\n",
    "\n",
    "#model = Sequential()\n",
    "#model.add(Merge([word_model, context_model], mode=\"dot\"))\n",
    "model_concat = concatenate([word_model.output, context_model.output], axis=-1)\n",
    "#model.add(Dense(1, kernel_initializer=\"glorot_uniform\", activation=\"sigmoid\"))\n",
    "model_concat = Dense(1, kernel_initializer=\"glorot_uniform\", activation=\"sigmoid\")(model_concat)\n",
    "model = Model(inputs=[word_model.input, context_model.input], outputs=model_concat)\n",
    "model.compile(loss=\"mean_squared_error\", optimizer=\"rmsprop\")\n",
    "\n",
    "# view model summary\n",
    "print(model.summary())\n",
    "\n",
    "# visualize model structure\n",
    "from IPython.display import SVG\n",
    "from keras.utils.vis_utils import model_to_dot\n",
    "\n",
    "SVG(model_to_dot(model, show_shapes=True, show_layer_names=False, \n",
    "                 rankdir='TB').create(prog='dot', format='svg'))"
   ]
  },
  {
   "cell_type": "code",
   "execution_count": null,
   "id": "e25b505a",
   "metadata": {},
   "outputs": [],
   "source": []
  },
  {
   "cell_type": "markdown",
   "id": "36d3107e",
   "metadata": {},
   "source": [
    "### Train the Model\n",
    "Running the model on our complete corpus takes a fair bit of time but lesser than the CBOW model. Hence I just ran it for 5 epochs. You can leverage the following code and increase it for more epochs if necessary."
   ]
  },
  {
   "cell_type": "code",
   "execution_count": 55,
   "id": "6710ecdc",
   "metadata": {},
   "outputs": [
    {
     "name": "stdout",
     "output_type": "stream",
     "text": [
      "Processed 0 (skip_first, skip_second, relevance) pairs\n",
      "Processed 10000 (skip_first, skip_second, relevance) pairs\n",
      "Processed 20000 (skip_first, skip_second, relevance) pairs\n",
      "Epoch: 1 Loss: 3678.167196952272\n",
      "Processed 0 (skip_first, skip_second, relevance) pairs\n",
      "Processed 10000 (skip_first, skip_second, relevance) pairs\n",
      "Processed 20000 (skip_first, skip_second, relevance) pairs\n",
      "Epoch: 2 Loss: 3205.3910378175788\n",
      "Processed 0 (skip_first, skip_second, relevance) pairs\n",
      "Processed 10000 (skip_first, skip_second, relevance) pairs\n",
      "Processed 20000 (skip_first, skip_second, relevance) pairs\n",
      "Epoch: 3 Loss: 3122.073724834714\n",
      "Processed 0 (skip_first, skip_second, relevance) pairs\n",
      "Processed 10000 (skip_first, skip_second, relevance) pairs\n",
      "Processed 20000 (skip_first, skip_second, relevance) pairs\n",
      "Epoch: 4 Loss: 3092.8543725128984\n",
      "Processed 0 (skip_first, skip_second, relevance) pairs\n",
      "Processed 10000 (skip_first, skip_second, relevance) pairs\n",
      "Processed 20000 (skip_first, skip_second, relevance) pairs\n",
      "Epoch: 5 Loss: 3079.510030247853\n"
     ]
    }
   ],
   "source": [
    "for epoch in range(1, 6):\n",
    "    loss = 0\n",
    "    for i, elem in enumerate(skip_grams):\n",
    "        pair_first_elem = np.array(list(zip(*elem[0]))[0], dtype='int32')\n",
    "        pair_second_elem = np.array(list(zip(*elem[0]))[1], dtype='int32')\n",
    "        labels = np.array(elem[1], dtype='int32')\n",
    "        X = [pair_first_elem, pair_second_elem]\n",
    "        Y = labels\n",
    "        if i % 10000 == 0:\n",
    "            print('Processed {} (skip_first, skip_second, relevance) pairs'.format(i))\n",
    "        loss += model.train_on_batch(X,Y)  \n",
    "\n",
    "    print('Epoch:', epoch, 'Loss:', loss)"
   ]
  },
  {
   "cell_type": "markdown",
   "id": "5b5fcfc1",
   "metadata": {},
   "source": [
    "Once this model is trained, similar words should have similar weights based off the embedding layer and we can test out the same."
   ]
  },
  {
   "cell_type": "markdown",
   "id": "3f001831",
   "metadata": {},
   "source": [
    "### Get Word Embeddings\n",
    "To get word embeddings for our entire vocabulary, we can extract out the same from our embedding layer by leveraging the following code.\n",
    "\n",
    "Do note that we are only interested in the target word embedding layer, hence we will extract the embeddings from our `word_model` embedding layer.\n",
    "\n",
    "We don’t take the embedding at position 0 since none of our words in the vocabulary have a numeric identifier of 0 and we ignore it."
   ]
  },
  {
   "cell_type": "code",
   "execution_count": 56,
   "id": "754f136e",
   "metadata": {},
   "outputs": [
    {
     "ename": "AttributeError",
     "evalue": "'InputLayer' object has no attribute 'layers'",
     "output_type": "error",
     "traceback": [
      "\u001b[0;31m---------------------------------------------------------------------------\u001b[0m",
      "\u001b[0;31mAttributeError\u001b[0m                            Traceback (most recent call last)",
      "Input \u001b[0;32mIn [56]\u001b[0m, in \u001b[0;36m<cell line: 2>\u001b[0;34m()\u001b[0m\n\u001b[1;32m      1\u001b[0m merge_layer \u001b[38;5;241m=\u001b[39m model\u001b[38;5;241m.\u001b[39mlayers[\u001b[38;5;241m0\u001b[39m]\n\u001b[0;32m----> 2\u001b[0m word_model \u001b[38;5;241m=\u001b[39m \u001b[43mmerge_layer\u001b[49m\u001b[38;5;241;43m.\u001b[39;49m\u001b[43mlayers\u001b[49m[\u001b[38;5;241m0\u001b[39m]\n\u001b[1;32m      3\u001b[0m word_embed_layer \u001b[38;5;241m=\u001b[39m word_model\u001b[38;5;241m.\u001b[39mlayers[\u001b[38;5;241m0\u001b[39m]\n\u001b[1;32m      4\u001b[0m weights \u001b[38;5;241m=\u001b[39m word_embed_layer\u001b[38;5;241m.\u001b[39mget_weights()[\u001b[38;5;241m0\u001b[39m][\u001b[38;5;241m1\u001b[39m:]\n",
      "\u001b[0;31mAttributeError\u001b[0m: 'InputLayer' object has no attribute 'layers'"
     ]
    }
   ],
   "source": [
    "merge_layer = model.layers[0]\n",
    "word_model = merge_layer.layers[0]\n",
    "word_embed_layer = word_model.layers[0]\n",
    "weights = word_embed_layer.get_weights()[0][1:]\n",
    "\n",
    "print(weights.shape)\n",
    "pd.DataFrame(weights, index=id2word.values()).head()"
   ]
  },
  {
   "cell_type": "code",
   "execution_count": null,
   "id": "44f82522",
   "metadata": {},
   "outputs": [],
   "source": []
  },
  {
   "cell_type": "code",
   "execution_count": null,
   "id": "9ce5d1f1",
   "metadata": {},
   "outputs": [],
   "source": []
  },
  {
   "cell_type": "code",
   "execution_count": null,
   "id": "da559515",
   "metadata": {},
   "outputs": [],
   "source": []
  },
  {
   "cell_type": "code",
   "execution_count": null,
   "id": "6c6d147e",
   "metadata": {},
   "outputs": [],
   "source": []
  }
 ],
 "metadata": {
  "kernelspec": {
   "display_name": "Python 3 (ipykernel)",
   "language": "python",
   "name": "python3"
  },
  "language_info": {
   "codemirror_mode": {
    "name": "ipython",
    "version": 3
   },
   "file_extension": ".py",
   "mimetype": "text/x-python",
   "name": "python",
   "nbconvert_exporter": "python",
   "pygments_lexer": "ipython3",
   "version": "3.10.5"
  }
 },
 "nbformat": 4,
 "nbformat_minor": 5
}
