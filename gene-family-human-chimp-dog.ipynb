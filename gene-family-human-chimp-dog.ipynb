{
 "cells": [
  {
   "cell_type": "markdown",
   "id": "3d49f554",
   "metadata": {},
   "source": [
    "# Gene family\n",
    "## human - chimpanzee - dog\n",
    "\n",
    "* https://www.kaggle.com/code/nageshsingh/demystify-dna-sequencing-with-machine-learning/notebook\n"
   ]
  },
  {
   "cell_type": "markdown",
   "id": "374e0db8",
   "metadata": {},
   "source": [
    "|Gene family                |Number |Class Label|\n",
    "|---------------------------|------:|----------:|\n",
    "|G protein coupled receptors|    531|          0|\n",
    "|Tyrosine kinase            |    534|          1|\n",
    "|Tyrosine phospotase        |    349|          2|\n",
    "|Synthetase                 |    632|          3|\n",
    "|Synthase                   |    711|          4|\n",
    "|Ion channel                |    240|          5|\n",
    "|Transcription factor       |   1341|          6|"
   ]
  },
  {
   "cell_type": "code",
   "execution_count": 74,
   "id": "caea8be6",
   "metadata": {},
   "outputs": [
    {
     "data": {
      "text/plain": [
       "'Tyrosine kinase'"
      ]
     },
     "execution_count": 74,
     "metadata": {},
     "output_type": "execute_result"
    }
   ],
   "source": [
    "dict = {\n",
    "    1: \"G protein coupled receptors\",\n",
    "    2: \"Tyrosine kinase\",\n",
    "    3: \"Tyrosine phospotase\",\n",
    "    4: \"Synthetase\",\n",
    "    5: \"Synthase\",\n",
    "    6: \"Ion channel\",\n",
    "    7: \"Transcription factor\"\n",
    "}\n",
    "\n",
    "dict[2]"
   ]
  },
  {
   "cell_type": "markdown",
   "id": "f88a153a",
   "metadata": {},
   "source": [
    "```\n",
    "% cd human/\n",
    "% awk '{ if ($2 == 0) { print } }' human.txt > human_0.txt\n",
    "% awk '{ if ($2 == 1) { print } }' human.txt > human_1.txt\n",
    "% awk '{ if ($2 == 2) { print } }' human.txt > human_2.txt\n",
    "% awk '{ if ($2 == 3) { print } }' human.txt > human_3.txt\n",
    "% awk '{ if ($2 == 4) { print } }' human.txt > human_4.txt\n",
    "% awk '{ if ($2 == 5) { print } }' human.txt > human_5.txt\n",
    "% awk '{ if ($2 == 6) { print } }' human.txt > human_6.txt\n",
    "\n",
    "% nl human_0.txt > human_0.txt.nl\n",
    "% nl human_1.txt > human_1.txt.nl\n",
    "% nl human_2.txt > human_2.txt.nl\n",
    "% nl human_3.txt > human_3.txt.nl\n",
    "% nl human_4.txt > human_4.txt.nl\n",
    "% nl human_5.txt > human_5.txt.nl\n",
    "% nl human_6.txt > human_6.txt.nl\n",
    "% \n",
    "% perl -p -e 's/^\\s+(\\d+)\\s+(\\S+).+$/>SEQUENCE-$1: G protein coupled receptors % - $1\\n$2/g' human_0.txt.nl > human_G-protein-coupled-receptors.fa\n",
    "% perl -p -e 's/^\\s+(\\d+)\\s+(\\S+).+$/>SEQUENCE-$1: Tyrosine kinase - $1\\n$2/g' human_1.txt.nl > human_Tyrosine-kinase.fa\n",
    "% perl -p -e 's/^\\s+(\\d+)\\s+(\\S+).+$/>SEQUENCE-$1: Tyrosine phospotase - $1\\n$2/g' human_2.txt.nl > human_Tyrosine-phospotase.fa\n",
    "% perl -p -e 's/^\\s+(\\d+)\\s+(\\S+).+$/>SEQUENCE-$1: Synthetase - $1\\n$2/g' human_3.txt.nl > human_Synthetase.fa\n",
    "% perl -p -e 's/^\\s+(\\d+)\\s+(\\S+).+$/>SEQUENCE-$1: Synthase - $1\\n$2/g' human_4.txt.nl > human_Synthase.fa\n",
    "% perl -p -e 's/^\\s+(\\d+)\\s+(\\S+).+$/>SEQUENCE-$1: Ion channel - $1\\n$2/g' human_5.txt.nl > human_Ion-channel.fa\n",
    "% perl -p -e 's/^\\s+(\\d+)\\s+(\\S+).+$/>SEQUENCE-$1: Transcription factor - $1\\n$2/g' human_6.txt.nl > human_Transcription-factor.fa\n",
    "```"
   ]
  },
  {
   "cell_type": "markdown",
   "id": "b26f16ea",
   "metadata": {},
   "source": [
    "```\n",
    "cd chimpanzee/\n",
    "awk '{ if ($2 == 0) { print } }' chimpanzee.txt > chimpanzee_0.txt\n",
    "awk '{ if ($2 == 1) { print } }' chimpanzee.txt > chimpanzee_1.txt\n",
    "awk '{ if ($2 == 2) { print } }' chimpanzee.txt > chimpanzee_2.txt\n",
    "awk '{ if ($2 == 3) { print } }' chimpanzee.txt > chimpanzee_3.txt\n",
    "awk '{ if ($2 == 4) { print } }' chimpanzee.txt > chimpanzee_4.txt\n",
    "awk '{ if ($2 == 5) { print } }' chimpanzee.txt > chimpanzee_5.txt\n",
    "awk '{ if ($2 == 6) { print } }' chimpanzee.txt > chimpanzee_6.txt\n",
    "\n",
    "nl chimpanzee_0.txt > chimpanzee_0.txt.nl\n",
    "nl chimpanzee_1.txt > chimpanzee_1.txt.nl\n",
    "nl chimpanzee_2.txt > chimpanzee_2.txt.nl\n",
    "nl chimpanzee_3.txt > chimpanzee_3.txt.nl\n",
    "nl chimpanzee_4.txt > chimpanzee_4.txt.nl\n",
    "nl chimpanzee_5.txt > chimpanzee_5.txt.nl\n",
    "nl chimpanzee_6.txt > chimpanzee_6.txt.nl\n",
    "\n",
    "perl -p -e 's/^\\s+(\\d+)\\s+(\\S+).+$/>SEQUENCE-$1: G protein coupled receptors - $1\\n$2/g' chimpanzee_0.txt.nl > chimpanzee_G-protein-coupled-receptors.fa\n",
    "perl -p -e 's/^\\s+(\\d+)\\s+(\\S+).+$/>SEQUENCE-$1: Tyrosine kinase - $1\\n$2/g' chimpanzee_1.txt.nl > chimpanzee_Tyrosine-kinase.fa\n",
    "perl -p -e 's/^\\s+(\\d+)\\s+(\\S+).+$/>SEQUENCE-$1: Tyrosine phospotase - $1\\n$2/g' chimpanzee_2.txt.nl > chimpanzee_Tyrosine-phospotase.fa\n",
    "perl -p -e 's/^\\s+(\\d+)\\s+(\\S+).+$/>SEQUENCE-$1: Synthetase - $1\\n$2/g' chimpanzee_3.txt.nl > chimpanzee_Synthetase.fa\n",
    "perl -p -e 's/^\\s+(\\d+)\\s+(\\S+).+$/>SEQUENCE-$1: Synthase - $1\\n$2/g' chimpanzee_4.txt.nl > chimpanzee_Synthase.fa\n",
    "perl -p -e 's/^\\s+(\\d+)\\s+(\\S+).+$/>SEQUENCE-$1: Ion channel - $1\\n$2/g' chimpanzee_5.txt.nl > chimpanzee_Ion-channel.fa\n",
    "perl -p -e 's/^\\s+(\\d+)\\s+(\\S+).+$/>SEQUENCE-$1: Transcription factor - $1\\n$2/g' chimpanzee_6.txt.nl > chimpanzee_Transcription-factor.fa\n",
    "```"
   ]
  },
  {
   "cell_type": "markdown",
   "id": "b8002294",
   "metadata": {},
   "source": [
    "```\n",
    "cd dog/\n",
    "awk '{ if ($2 == 0) { print } }' dog.txt > dog_0.txt\n",
    "awk '{ if ($2 == 1) { print } }' dog.txt > dog_1.txt\n",
    "awk '{ if ($2 == 2) { print } }' dog.txt > dog_2.txt\n",
    "awk '{ if ($2 == 3) { print } }' dog.txt > dog_3.txt\n",
    "awk '{ if ($2 == 4) { print } }' dog.txt > dog_4.txt\n",
    "awk '{ if ($2 == 5) { print } }' dog.txt > dog_5.txt\n",
    "awk '{ if ($2 == 6) { print } }' dog.txt > dog_6.txt\n",
    "\n",
    "nl dog_0.txt > dog_0.txt.nl\n",
    "nl dog_1.txt > dog_1.txt.nl\n",
    "nl dog_2.txt > dog_2.txt.nl\n",
    "nl dog_3.txt > dog_3.txt.nl\n",
    "nl dog_4.txt > dog_4.txt.nl\n",
    "nl dog_5.txt > dog_5.txt.nl\n",
    "nl dog_6.txt > dog_6.txt.nl\n",
    "\n",
    "perl -p -e 's/^\\s+(\\d+)\\s+(\\S+).+$/>SEQUENCE-$1: G protein coupled receptors - $1\\n$2/g' dog_0.txt.nl > dog_G-protein-coupled-receptors.fa\n",
    "perl -p -e 's/^\\s+(\\d+)\\s+(\\S+).+$/>SEQUENCE-$1: Tyrosine kinase - $1\\n$2/g' dog_1.txt.nl > dog_Tyrosine-kinase.fa\n",
    "perl -p -e 's/^\\s+(\\d+)\\s+(\\S+).+$/>SEQUENCE-$1: Tyrosine phospotase - $1\\n$2/g' dog_2.txt.nl > dog_Tyrosine-phospotase.fa\n",
    "perl -p -e 's/^\\s+(\\d+)\\s+(\\S+).+$/>SEQUENCE-$1: Synthetase - $1\\n$2/g' dog_3.txt.nl > dog_Synthetase.fa\n",
    "perl -p -e 's/^\\s+(\\d+)\\s+(\\S+).+$/>SEQUENCE-$1: Synthase - $1\\n$2/g' dog_4.txt.nl > dog_Synthase.fa\n",
    "perl -p -e 's/^\\s+(\\d+)\\s+(\\S+).+$/>SEQUENCE-$1: Ion channel - $1\\n$2/g' dog_5.txt.nl > dog_Ion-channel.fa\n",
    "perl -p -e 's/^\\s+(\\d+)\\s+(\\S+).+$/>SEQUENCE-$1: Transcription factor - $1\\n$2/g' dog_6.txt.nl > dog_Transcription-factor.fa\n",
    "\n",
    "\n",
    "$ wc -l *.txt\n",
    "    1682 chimpanzee.txt\n",
    "     820 dog.txt\n",
    "    4380 human.txt\n",
    "    6882 total\n",
    "```"
   ]
  },
  {
   "cell_type": "markdown",
   "id": "5acf42cd",
   "metadata": {},
   "source": [
    "## Iris test"
   ]
  },
  {
   "cell_type": "code",
   "execution_count": 1,
   "id": "35b10f32",
   "metadata": {},
   "outputs": [
    {
     "name": "stdout",
     "output_type": "stream",
     "text": [
      "Number of mislabeled points out of a total 75 points : 4\n"
     ]
    }
   ],
   "source": [
    "from sklearn.datasets import load_iris\n",
    "from sklearn.model_selection import train_test_split\n",
    "from sklearn.naive_bayes import GaussianNB\n",
    "\n",
    "X, y = load_iris(return_X_y=True)\n",
    "X_train, X_test, y_train, y_test = train_test_split(X, y, test_size=0.5, random_state=0)\n",
    "gnb = GaussianNB()\n",
    "y_pred = gnb.fit(X_train, y_train).predict(X_test)\n",
    "print(\"Number of mislabeled points out of a total %d points : %d\"\n",
    "      % (X_test.shape[0], (y_test != y_pred).sum()))\n"
   ]
  },
  {
   "cell_type": "markdown",
   "id": "d9eaa334",
   "metadata": {},
   "source": [
    "## human, chimpanzee, dog Gene Classes"
   ]
  },
  {
   "cell_type": "code",
   "execution_count": 2,
   "id": "74b52d8c",
   "metadata": {},
   "outputs": [],
   "source": [
    "from bioinformatics import na_read\n",
    "from bioinformatics import KmerVectors as kvec\n",
    "from bioinformatics import FASTADataset as fads"
   ]
  },
  {
   "cell_type": "code",
   "execution_count": 3,
   "id": "44d0b396",
   "metadata": {},
   "outputs": [],
   "source": [
    "import numpy as np\n",
    "import pandas as pd\n",
    "from sklearn.metrics import accuracy_score, f1_score, precision_score, recall_score\n",
    "from sklearn.model_selection import train_test_split\n",
    "from sklearn.feature_extraction.text import CountVectorizer\n",
    "from sklearn.naive_bayes import MultinomialNB\n",
    "from sklearn.naive_bayes import GaussianNB\n",
    "import matplotlib.pyplot as plt\n",
    "import seaborn as sns\n",
    "import pickle"
   ]
  },
  {
   "cell_type": "code",
   "execution_count": 4,
   "id": "709955a9",
   "metadata": {},
   "outputs": [
    {
     "name": "stdout",
     "output_type": "stream",
     "text": [
      "total 24\r\n",
      "drwxrwxr-x 5 dave dave 4096 Sep  4 19:30 \u001b[0m\u001b[38;5;5m.\u001b[0m/\r\n",
      "drwxrwxr-x 3 dave dave 4096 Sep  4 19:48 \u001b[38;5;5m..\u001b[0m/\r\n",
      "drwxrwxr-x 2 dave dave 4096 Sep  4 17:41 \u001b[38;5;5mchimpanzee\u001b[0m/\r\n",
      "drwxrwxr-x 2 dave dave 4096 Sep  4 17:46 \u001b[38;5;5mdog\u001b[0m/\r\n",
      "drwxrwxr-x 2 dave dave 4096 Sep  4 19:58 \u001b[38;5;5mhuman\u001b[0m/\r\n",
      "-rw-rw-r-- 1 dave dave  451 Sep  4 17:00 notes\r\n"
     ]
    }
   ],
   "source": [
    "PATH = \"../data/bioinformatics/kaggle/human-chimpanzee-dog/fa/\"\n",
    "%ls -al $PATH\n",
    "human_files = PATH + \"human/\"\n",
    "chimpanzee_files = PATH + \"chimpanzee/\"\n",
    "dog_files = PATH + \"dog/\"\n",
    "\n",
    "human_0 = human_files + \"human_G-protein-coupled-receptors.fa\"\n",
    "human_1 = human_files + \"human_Tyrosine-kinase.fa\"\n",
    "human_2 = human_files + \"human_Tyrosine-phospotase.fa\"\n",
    "human_3 = human_files + \"human_Synthetase.fa\"\n",
    "human_4 = human_files + \"human_Synthase.fa\"\n",
    "human_5 = human_files + \"human_Ion-channel.fa\"\n",
    "human_6 = human_files + \"human_Transcription-factor.fa\"\n",
    "\n",
    "chimp_0 = chimpanzee_files + \"chimpanzee_G-protein-coupled-receptors.fa\"\n",
    "chimp_1 = chimpanzee_files + \"chimpanzee_Tyrosine-kinase.fa\"\n",
    "chimp_2 = chimpanzee_files + \"chimpanzee_Tyrosine-phospotase.fa\"\n",
    "chimp_3 = chimpanzee_files + \"chimpanzee_Synthetase.fa\"\n",
    "chimp_4 = chimpanzee_files + \"chimpanzee_Synthase.fa\"\n",
    "chimp_5 = chimpanzee_files + \"chimpanzee_Ion-channel.fa\"\n",
    "chimp_6 = chimpanzee_files + \"chimpanzee_Transcription-factor.fa\"\n",
    "\n",
    "dog_0 = dog_files + \"dog_G-protein-coupled-receptors.fa\"\n",
    "dog_1 = dog_files + \"dog_Tyrosine-kinase.fa\"\n",
    "dog_2 = dog_files + \"dog_Tyrosine-phospotase.fa\"\n",
    "dog_3 = dog_files + \"dog_Synthetase.fa\"\n",
    "dog_4 = dog_files + \"dog_Synthase.fa\"\n",
    "dog_5 = dog_files + \"dog_Ion-channel.fa\"\n",
    "dog_6 = dog_files + \"dog_Transcription-factor.fa\"\n"
   ]
  },
  {
   "cell_type": "code",
   "execution_count": 5,
   "id": "9990f48d",
   "metadata": {},
   "outputs": [
    {
     "name": "stdout",
     "output_type": "stream",
     "text": [
      "../data/bioinformatics/kaggle/human-chimpanzee-dog/fa/human/human_G-protein-coupled-receptors.fa\n",
      "human-0: [531]\n",
      "human-1: [534]\n",
      "human-2: [349]\n",
      "human-3: [672]\n",
      "human-4: [711]\n",
      "human-5: [240]\n",
      "human-6: [1343]\n"
     ]
    }
   ],
   "source": [
    "print(human_0)\n",
    "human_0_fads = fads.FASTADataset('human-0', human_0, limit=0, lowercase=True)\n",
    "print(f'human-0: [{len(human_0_fads.fasta_dataset)}]')\n",
    "#print(f'human-0: [{human_0_fads.fasta_dataset}]')\n",
    "human_1_fads = fads.FASTADataset('human-1', human_1, limit=0, lowercase=True)\n",
    "print(f'human-1: [{len(human_1_fads.fasta_dataset)}]')\n",
    "#print(f'human-1: [{len(human_1_fads.fasta_dataset)}]')\n",
    "human_2_fads = fads.FASTADataset('human-2', human_2, limit=0, lowercase=True)\n",
    "print(f'human-2: [{len(human_2_fads.fasta_dataset)}]')\n",
    "#print(f'human-2: [{len(human_2_fads.fasta_dataset)}]')\n",
    "human_3_fads = fads.FASTADataset('human-3', human_3, limit=0, lowercase=True)\n",
    "print(f'human-3: [{len(human_3_fads.fasta_dataset)}]')\n",
    "#print(f'human-3: [{len(human_3_fads.fasta_dataset)}]')\n",
    "human_4_fads = fads.FASTADataset('human-4', human_4, limit=0, lowercase=True)\n",
    "print(f'human-4: [{len(human_4_fads.fasta_dataset)}]')\n",
    "#print(f'human-4: [{len(human_4_fads.fasta_dataset)}]')\n",
    "human_5_fads = fads.FASTADataset('human-5', human_5, limit=0, lowercase=True)\n",
    "print(f'human-5: [{len(human_5_fads.fasta_dataset)}]')\n",
    "#print(f'human-5: [{len(human_5_fads.fasta_dataset)}]')\n",
    "human_6_fads = fads.FASTADataset('human-6', human_6, limit=0, lowercase=True)\n",
    "print(f'human-6: [{len(human_6_fads.fasta_dataset)}]')\n",
    "#print(f'human-6: [{len(human_6_fads.fasta_dataset)}]')"
   ]
  },
  {
   "cell_type": "code",
   "execution_count": 96,
   "id": "f242548b",
   "metadata": {},
   "outputs": [],
   "source": [
    "#human_5_fads.fasta_dataset"
   ]
  },
  {
   "cell_type": "code",
   "execution_count": 6,
   "id": "78aa6891",
   "metadata": {},
   "outputs": [
    {
     "name": "stdout",
     "output_type": "stream",
     "text": [
      "../data/bioinformatics/kaggle/human-chimpanzee-dog/fa/chimpanzee/chimpanzee_G-protein-coupled-receptors.fa\n",
      "chimp-0: [234]\n",
      "chimp-1: [185]\n",
      "chimp-2: [144]\n",
      "chimp-3: [228]\n",
      "chimp-4: [261]\n",
      "chimp-5: [109]\n",
      "chimp-6: [521]\n"
     ]
    }
   ],
   "source": [
    "print(chimp_0)\n",
    "chimp_0_fads = fads.FASTADataset('chimp-0', chimp_0, limit=0, lowercase=True)\n",
    "print(f'chimp-0: [{len(chimp_0_fads.fasta_dataset)}]')\n",
    "#print(f'chimp-0: [{chimp_0_fads.fasta_dataset}]')\n",
    "chimp_1_fads = fads.FASTADataset('chimp-1', chimp_1, limit=0, lowercase=True)\n",
    "print(f'chimp-1: [{len(chimp_1_fads.fasta_dataset)}]')\n",
    "#print(f'chimp-1: [{len(chimp_1_fads.fasta_dataset)}]')\n",
    "chimp_2_fads = fads.FASTADataset('chimp-2', chimp_2, limit=0, lowercase=True)\n",
    "print(f'chimp-2: [{len(chimp_2_fads.fasta_dataset)}]')\n",
    "#print(f'chimp-2: [{len(chimp_2_fads.fasta_dataset)}]')\n",
    "chimp_3_fads = fads.FASTADataset('chimp-3', chimp_3, limit=0, lowercase=True)\n",
    "print(f'chimp-3: [{len(chimp_3_fads.fasta_dataset)}]')\n",
    "#print(f'chimp-3: [{len(chimp_3_fads.fasta_dataset)}]')\n",
    "chimp_4_fads = fads.FASTADataset('chimp-4', chimp_4, limit=0, lowercase=True)\n",
    "print(f'chimp-4: [{len(chimp_4_fads.fasta_dataset)}]')\n",
    "#print(f'chimp-4: [{len(chimp_4_fads.fasta_dataset)}]')\n",
    "chimp_5_fads = fads.FASTADataset('chimp-5', chimp_5, limit=0, lowercase=True)\n",
    "print(f'chimp-5: [{len(chimp_5_fads.fasta_dataset)}]')\n",
    "#print(f'chimp-5: [{len(chimp_5_fads.fasta_dataset)}]')\n",
    "chimp_6_fads = fads.FASTADataset('chimp-6', chimp_6, limit=0, lowercase=True)\n",
    "print(f'chimp-6: [{len(chimp_6_fads.fasta_dataset)}]')\n",
    "#print(f'chimp-6: [{len(chimp_6_fads.fasta_dataset)}]')"
   ]
  },
  {
   "cell_type": "code",
   "execution_count": 97,
   "id": "6bf58388",
   "metadata": {
    "scrolled": false
   },
   "outputs": [],
   "source": [
    "#chimp_6_fads.fasta_dataset"
   ]
  },
  {
   "cell_type": "code",
   "execution_count": 7,
   "id": "a77850e0",
   "metadata": {},
   "outputs": [
    {
     "name": "stdout",
     "output_type": "stream",
     "text": [
      "../data/bioinformatics/kaggle/human-chimpanzee-dog/fa/dog/dog_G-protein-coupled-receptors.fa\n",
      "dog-0: [131]\n",
      "dog-1: [75]\n",
      "dog-2: [64]\n",
      "dog-3: [95]\n",
      "dog-4: [135]\n",
      "dog-5: [60]\n",
      "dog-6: [260]\n"
     ]
    }
   ],
   "source": [
    "print(dog_0)\n",
    "dog_0_fads = fads.FASTADataset('dog-0', dog_0, limit=0, lowercase=True)\n",
    "print(f'dog-0: [{len(dog_0_fads.fasta_dataset)}]')\n",
    "#print(f'dog-0: [{dog_0_fads.fasta_dataset}]')\n",
    "dog_1_fads = fads.FASTADataset('dog-1', dog_1, limit=0, lowercase=True)\n",
    "print(f'dog-1: [{len(dog_1_fads.fasta_dataset)}]')\n",
    "#print(f'dog-1: [{len(dog_1_fads.fasta_dataset)}]')\n",
    "dog_2_fads = fads.FASTADataset('dog-2', dog_2, limit=0, lowercase=True)\n",
    "print(f'dog-2: [{len(dog_2_fads.fasta_dataset)}]')\n",
    "#print(f'dog-2: [{len(dog_2_fads.fasta_dataset)}]')\n",
    "dog_3_fads = fads.FASTADataset('dog-3', dog_3, limit=0, lowercase=True)\n",
    "print(f'dog-3: [{len(dog_3_fads.fasta_dataset)}]')\n",
    "#print(f'dog-3: [{len(dog_3_fads.fasta_dataset)}]')\n",
    "dog_4_fads = fads.FASTADataset('dog-4', dog_4, limit=0, lowercase=True)\n",
    "print(f'dog-4: [{len(dog_4_fads.fasta_dataset)}]')\n",
    "#print(f'dog-4: [{len(dog_4_fads.fasta_dataset)}]')\n",
    "dog_5_fads = fads.FASTADataset('dog-5', dog_5, limit=0, lowercase=True)\n",
    "print(f'dog-5: [{len(dog_5_fads.fasta_dataset)}]')\n",
    "#print(f'dog-5: [{len(dog_5_fads.fasta_dataset)}]')\n",
    "dog_6_fads = fads.FASTADataset('dog-6', dog_6, limit=0, lowercase=True)\n",
    "print(f'dog-6: [{len(dog_6_fads.fasta_dataset)}]')\n",
    "#print(f'dog-6: [{len(dog_6_fads.fasta_dataset)}]')"
   ]
  },
  {
   "cell_type": "markdown",
   "id": "6e571978",
   "metadata": {},
   "source": [
    "## Multinomial Naive Bayes - 7 classes"
   ]
  },
  {
   "cell_type": "code",
   "execution_count": 8,
   "id": "b6f26d05",
   "metadata": {
    "scrolled": true
   },
   "outputs": [
    {
     "name": "stdout",
     "output_type": "stream",
     "text": [
      "{'human-0': 1, 'human-1': 2, 'human-2': 3, 'human-3': 4, 'human-4': 5, 'human-5': 6, 'human-6': 7}\n"
     ]
    }
   ],
   "source": [
    "kv_human = kvec.KmerVectors(['a','g','c','t'], 6, fastadatasets=[human_0_fads,human_1_fads,human_2_fads,human_3_fads,human_4_fads,human_5_fads,human_6_fads])\n",
    "print(kv_human.labels)"
   ]
  },
  {
   "cell_type": "code",
   "execution_count": 9,
   "id": "4db8d044",
   "metadata": {},
   "outputs": [],
   "source": [
    "#for dataset in kv.fastadatasets:\n",
    "#    print(dataset.dataset_name)\n",
    "#    \n",
    "#print(kv.fastadatasets[0].fasta_dataset)"
   ]
  },
  {
   "cell_type": "code",
   "execution_count": 10,
   "id": "ab8ab77c",
   "metadata": {
    "scrolled": true
   },
   "outputs": [
    {
     "name": "stdout",
     "output_type": "stream",
     "text": [
      "seq2KmerSentencesFASTA\n",
      "fasta dataset: [human-0]\n",
      "fasta dataset: [human-1]\n",
      "fasta dataset: [human-2]\n",
      "fasta dataset: [human-3]\n",
      "fasta dataset: [human-4]\n",
      "fasta dataset: [human-5]\n",
      "fasta dataset: [human-6]\n"
     ]
    }
   ],
   "source": [
    "d_human = kv_human.seq2KmerSentencesFASTA(base_count_max=4, length_min=0, dataset_limit=3000)"
   ]
  },
  {
   "cell_type": "code",
   "execution_count": 11,
   "id": "45e6e63c",
   "metadata": {},
   "outputs": [],
   "source": [
    "df_human=pd.DataFrame(data=d_human)\n",
    "df_human = df_human.replace({\"v1\": kv_human.labels})\n",
    "#df_human"
   ]
  },
  {
   "cell_type": "code",
   "execution_count": 12,
   "id": "55980200",
   "metadata": {},
   "outputs": [
    {
     "data": {
      "text/html": [
       "<div>\n",
       "<style scoped>\n",
       "    .dataframe tbody tr th:only-of-type {\n",
       "        vertical-align: middle;\n",
       "    }\n",
       "\n",
       "    .dataframe tbody tr th {\n",
       "        vertical-align: top;\n",
       "    }\n",
       "\n",
       "    .dataframe thead th {\n",
       "        text-align: right;\n",
       "    }\n",
       "</style>\n",
       "<table border=\"1\" class=\"dataframe\">\n",
       "  <thead>\n",
       "    <tr style=\"text-align: right;\">\n",
       "      <th></th>\n",
       "      <th>v2</th>\n",
       "    </tr>\n",
       "    <tr>\n",
       "      <th>v1</th>\n",
       "      <th></th>\n",
       "    </tr>\n",
       "  </thead>\n",
       "  <tbody>\n",
       "    <tr>\n",
       "      <th>1</th>\n",
       "      <td>498</td>\n",
       "    </tr>\n",
       "    <tr>\n",
       "      <th>2</th>\n",
       "      <td>499</td>\n",
       "    </tr>\n",
       "    <tr>\n",
       "      <th>3</th>\n",
       "      <td>320</td>\n",
       "    </tr>\n",
       "    <tr>\n",
       "      <th>4</th>\n",
       "      <td>611</td>\n",
       "    </tr>\n",
       "    <tr>\n",
       "      <th>5</th>\n",
       "      <td>636</td>\n",
       "    </tr>\n",
       "    <tr>\n",
       "      <th>6</th>\n",
       "      <td>218</td>\n",
       "    </tr>\n",
       "    <tr>\n",
       "      <th>7</th>\n",
       "      <td>1238</td>\n",
       "    </tr>\n",
       "  </tbody>\n",
       "</table>\n",
       "</div>"
      ],
      "text/plain": [
       "      v2\n",
       "v1      \n",
       "1    498\n",
       "2    499\n",
       "3    320\n",
       "4    611\n",
       "5    636\n",
       "6    218\n",
       "7   1238"
      ]
     },
     "execution_count": 12,
     "metadata": {},
     "output_type": "execute_result"
    }
   ],
   "source": [
    "df_human.groupby('v1').count()"
   ]
  },
  {
   "cell_type": "code",
   "execution_count": 13,
   "id": "292711c7",
   "metadata": {},
   "outputs": [
    {
     "name": "stdout",
     "output_type": "stream",
     "text": [
      "seq2KmerSentencesFASTA\n",
      "fasta dataset: [chimp-0]\n",
      "fasta dataset: [chimp-1]\n",
      "fasta dataset: [chimp-2]\n",
      "fasta dataset: [chimp-3]\n",
      "fasta dataset: [chimp-4]\n",
      "fasta dataset: [chimp-5]\n",
      "fasta dataset: [chimp-6]\n"
     ]
    },
    {
     "data": {
      "text/html": [
       "<div>\n",
       "<style scoped>\n",
       "    .dataframe tbody tr th:only-of-type {\n",
       "        vertical-align: middle;\n",
       "    }\n",
       "\n",
       "    .dataframe tbody tr th {\n",
       "        vertical-align: top;\n",
       "    }\n",
       "\n",
       "    .dataframe thead th {\n",
       "        text-align: right;\n",
       "    }\n",
       "</style>\n",
       "<table border=\"1\" class=\"dataframe\">\n",
       "  <thead>\n",
       "    <tr style=\"text-align: right;\">\n",
       "      <th></th>\n",
       "      <th>v2</th>\n",
       "    </tr>\n",
       "    <tr>\n",
       "      <th>v1</th>\n",
       "      <th></th>\n",
       "    </tr>\n",
       "  </thead>\n",
       "  <tbody>\n",
       "    <tr>\n",
       "      <th>1</th>\n",
       "      <td>233</td>\n",
       "    </tr>\n",
       "    <tr>\n",
       "      <th>2</th>\n",
       "      <td>185</td>\n",
       "    </tr>\n",
       "    <tr>\n",
       "      <th>3</th>\n",
       "      <td>144</td>\n",
       "    </tr>\n",
       "    <tr>\n",
       "      <th>4</th>\n",
       "      <td>227</td>\n",
       "    </tr>\n",
       "    <tr>\n",
       "      <th>5</th>\n",
       "      <td>261</td>\n",
       "    </tr>\n",
       "    <tr>\n",
       "      <th>6</th>\n",
       "      <td>109</td>\n",
       "    </tr>\n",
       "    <tr>\n",
       "      <th>7</th>\n",
       "      <td>521</td>\n",
       "    </tr>\n",
       "  </tbody>\n",
       "</table>\n",
       "</div>"
      ],
      "text/plain": [
       "     v2\n",
       "v1     \n",
       "1   233\n",
       "2   185\n",
       "3   144\n",
       "4   227\n",
       "5   261\n",
       "6   109\n",
       "7   521"
      ]
     },
     "execution_count": 13,
     "metadata": {},
     "output_type": "execute_result"
    }
   ],
   "source": [
    "kv_chimpanzee = kvec.KmerVectors(['a','g','c','t'], 6, fastadatasets=[chimp_0_fads,chimp_1_fads,chimp_2_fads,chimp_3_fads,chimp_4_fads,chimp_5_fads,chimp_6_fads])\n",
    "d_chimp = kv_chimpanzee.seq2KmerSentencesFASTA(base_count_max=4, length_min=0, dataset_limit=10000)\n",
    "df_chimp=pd.DataFrame(data=d_chimp)\n",
    "df_chimp = df_chimp.replace({\"v1\": kv_chimpanzee.labels})\n",
    "df_chimp.groupby('v1').count()"
   ]
  },
  {
   "cell_type": "code",
   "execution_count": 14,
   "id": "e966b3c9",
   "metadata": {},
   "outputs": [
    {
     "name": "stdout",
     "output_type": "stream",
     "text": [
      "seq2KmerSentencesFASTA\n",
      "fasta dataset: [dog-0]\n",
      "fasta dataset: [dog-1]\n",
      "fasta dataset: [dog-2]\n",
      "fasta dataset: [dog-3]\n",
      "fasta dataset: [dog-4]\n",
      "fasta dataset: [dog-5]\n",
      "fasta dataset: [dog-6]\n"
     ]
    },
    {
     "data": {
      "text/html": [
       "<div>\n",
       "<style scoped>\n",
       "    .dataframe tbody tr th:only-of-type {\n",
       "        vertical-align: middle;\n",
       "    }\n",
       "\n",
       "    .dataframe tbody tr th {\n",
       "        vertical-align: top;\n",
       "    }\n",
       "\n",
       "    .dataframe thead th {\n",
       "        text-align: right;\n",
       "    }\n",
       "</style>\n",
       "<table border=\"1\" class=\"dataframe\">\n",
       "  <thead>\n",
       "    <tr style=\"text-align: right;\">\n",
       "      <th></th>\n",
       "      <th>v2</th>\n",
       "    </tr>\n",
       "    <tr>\n",
       "      <th>v1</th>\n",
       "      <th></th>\n",
       "    </tr>\n",
       "  </thead>\n",
       "  <tbody>\n",
       "    <tr>\n",
       "      <th>1</th>\n",
       "      <td>127</td>\n",
       "    </tr>\n",
       "    <tr>\n",
       "      <th>2</th>\n",
       "      <td>74</td>\n",
       "    </tr>\n",
       "    <tr>\n",
       "      <th>3</th>\n",
       "      <td>62</td>\n",
       "    </tr>\n",
       "    <tr>\n",
       "      <th>4</th>\n",
       "      <td>95</td>\n",
       "    </tr>\n",
       "    <tr>\n",
       "      <th>5</th>\n",
       "      <td>131</td>\n",
       "    </tr>\n",
       "    <tr>\n",
       "      <th>6</th>\n",
       "      <td>60</td>\n",
       "    </tr>\n",
       "    <tr>\n",
       "      <th>7</th>\n",
       "      <td>254</td>\n",
       "    </tr>\n",
       "  </tbody>\n",
       "</table>\n",
       "</div>"
      ],
      "text/plain": [
       "     v2\n",
       "v1     \n",
       "1   127\n",
       "2    74\n",
       "3    62\n",
       "4    95\n",
       "5   131\n",
       "6    60\n",
       "7   254"
      ]
     },
     "execution_count": 14,
     "metadata": {},
     "output_type": "execute_result"
    }
   ],
   "source": [
    "kv_dog = kvec.KmerVectors(['a','g','c','t'], 6, fastadatasets=[dog_0_fads,dog_1_fads,dog_2_fads,dog_3_fads,dog_4_fads,dog_5_fads,dog_6_fads])\n",
    "d_dog = kv_dog.seq2KmerSentencesFASTA(base_count_max=4, length_min=0, dataset_limit=10000)\n",
    "df_dog=pd.DataFrame(data=d_dog)\n",
    "df_dog = df_dog.replace({\"v1\": kv_dog.labels})\n",
    "df_dog.groupby('v1').count()"
   ]
  },
  {
   "cell_type": "code",
   "execution_count": 15,
   "id": "8ad3e711",
   "metadata": {},
   "outputs": [
    {
     "name": "stderr",
     "output_type": "stream",
     "text": [
      "/home/dave/anaconda3/envs/capstone/lib/python3.10/site-packages/seaborn/_decorators.py:36: FutureWarning: Pass the following variable as a keyword arg: x. From version 0.12, the only valid positional argument will be `data`, and passing other arguments without an explicit keyword will result in an error or misinterpretation.\n",
      "  warnings.warn(\n"
     ]
    },
    {
     "data": {
      "text/plain": [
       "Text(0.5, 1.0, 'Class distribution of Human DNA')"
      ]
     },
     "execution_count": 15,
     "metadata": {},
     "output_type": "execute_result"
    },
    {
     "data": {
      "image/png": "[encoded data removed]",
      "text/plain": [
       "<Figure size 432x288 with 1 Axes>"
      ]
     },
     "metadata": {
      "needs_background": "light"
     },
     "output_type": "display_data"
    }
   ],
   "source": [
    "sns.countplot(df_human.v1)\n",
    "plt.xlabel('Class Label')\n",
    "plt.title('Class distribution of Human DNA')"
   ]
  },
  {
   "cell_type": "code",
   "execution_count": 16,
   "id": "90170c0a",
   "metadata": {},
   "outputs": [
    {
     "name": "stderr",
     "output_type": "stream",
     "text": [
      "/home/dave/anaconda3/envs/capstone/lib/python3.10/site-packages/seaborn/_decorators.py:36: FutureWarning: Pass the following variable as a keyword arg: x. From version 0.12, the only valid positional argument will be `data`, and passing other arguments without an explicit keyword will result in an error or misinterpretation.\n",
      "  warnings.warn(\n"
     ]
    },
    {
     "data": {
      "text/plain": [
       "Text(0.5, 1.0, 'Class distribution of Chimpanzee DNA')"
      ]
     },
     "execution_count": 16,
     "metadata": {},
     "output_type": "execute_result"
    },
    {
     "data": {
      "image/png": "[encoded data removed]",
      "text/plain": [
       "<Figure size 432x288 with 1 Axes>"
      ]
     },
     "metadata": {
      "needs_background": "light"
     },
     "output_type": "display_data"
    }
   ],
   "source": [
    "sns.countplot(df_chimp.v1)\n",
    "plt.xlabel('Class Label')\n",
    "plt.title('Class distribution of Chimpanzee DNA')"
   ]
  },
  {
   "cell_type": "code",
   "execution_count": 17,
   "id": "bb9c21bc",
   "metadata": {},
   "outputs": [
    {
     "name": "stderr",
     "output_type": "stream",
     "text": [
      "/home/dave/anaconda3/envs/capstone/lib/python3.10/site-packages/seaborn/_decorators.py:36: FutureWarning: Pass the following variable as a keyword arg: x. From version 0.12, the only valid positional argument will be `data`, and passing other arguments without an explicit keyword will result in an error or misinterpretation.\n",
      "  warnings.warn(\n"
     ]
    },
    {
     "data": {
      "text/plain": [
       "Text(0.5, 1.0, 'Class distribution of Dog DNA')"
      ]
     },
     "execution_count": 17,
     "metadata": {},
     "output_type": "execute_result"
    },
    {
     "data": {
      "image/png": "[encoded data removed]",
      "text/plain": [
       "<Figure size 432x288 with 1 Axes>"
      ]
     },
     "metadata": {
      "needs_background": "light"
     },
     "output_type": "display_data"
    }
   ],
   "source": [
    "sns.countplot(df_dog.v1)\n",
    "plt.xlabel('Class Label')\n",
    "plt.title('Class distribution of Dog DNA')"
   ]
  },
  {
   "cell_type": "code",
   "execution_count": 18,
   "id": "4d48a8db",
   "metadata": {},
   "outputs": [],
   "source": [
    "#df_human.describe"
   ]
  },
  {
   "cell_type": "code",
   "execution_count": 19,
   "id": "459941ab",
   "metadata": {},
   "outputs": [],
   "source": [
    "#Creating the Bag of Words model:\n",
    "cv_seed = CountVectorizer(ngram_range=(4,4), lowercase=False) #The n-gram size of 4 is previously determined by testing\n",
    "X = cv_seed.fit_transform([\" \".join(kv_human.dict)])\n"
   ]
  },
  {
   "cell_type": "code",
   "execution_count": 20,
   "id": "a0d4155b",
   "metadata": {},
   "outputs": [],
   "source": [
    "data2 = {\n",
    "  \"v1\": 8,\n",
    "#  \"v2\": \" \".join(kv_human.dict)\n",
    "  \"v2\": \" \".join(cv_seed.get_feature_names_out())\n",
    "}\n",
    "\n",
    "df2 = pd.DataFrame(data2, index=[0])\n",
    "df_human = pd.concat([df_human, df2], ignore_index=True)"
   ]
  },
  {
   "cell_type": "code",
   "execution_count": 21,
   "id": "0408d30c",
   "metadata": {},
   "outputs": [],
   "source": [
    "#df_human.describe"
   ]
  },
  {
   "cell_type": "code",
   "execution_count": 22,
   "id": "4ac1a901",
   "metadata": {},
   "outputs": [],
   "source": [
    "#df_chimp.describe"
   ]
  },
  {
   "cell_type": "code",
   "execution_count": 23,
   "id": "34ac6a4a",
   "metadata": {},
   "outputs": [],
   "source": [
    "#df_dog.describe"
   ]
  },
  {
   "cell_type": "code",
   "execution_count": 24,
   "id": "27672f0d",
   "metadata": {
    "scrolled": false
   },
   "outputs": [],
   "source": [
    "human_texts=df_human['v2']\n",
    "#print(human_texts[0])\n",
    "chimp_texts=df_chimp['v2']\n",
    "dog_texts=df_dog['v2']"
   ]
  },
  {
   "cell_type": "code",
   "execution_count": 75,
   "id": "3f40d2ce",
   "metadata": {},
   "outputs": [
    {
     "data": {
      "text/plain": [
       "4020    aaaaaa aaaaag aaaaac aaaaat aaaaac aaaaat aaaa...\n",
       "Name: v2, dtype: object"
      ]
     },
     "execution_count": 75,
     "metadata": {},
     "output_type": "execute_result"
    }
   ],
   "source": [
    "df_human['v2'][-1:]"
   ]
  },
  {
   "cell_type": "code",
   "execution_count": 26,
   "id": "fe3fc311",
   "metadata": {},
   "outputs": [],
   "source": [
    "#df_human"
   ]
  },
  {
   "cell_type": "code",
   "execution_count": 27,
   "id": "a0cdcd60",
   "metadata": {},
   "outputs": [],
   "source": [
    "#human_texts[0]"
   ]
  },
  {
   "cell_type": "code",
   "execution_count": 28,
   "id": "56b81dea",
   "metadata": {},
   "outputs": [
    {
     "data": {
      "text/plain": [
       "pandas.core.series.Series"
      ]
     },
     "execution_count": 28,
     "metadata": {},
     "output_type": "execute_result"
    }
   ],
   "source": [
    "#type(human_texts[0]) # str\n",
    "type(human_texts[-1:])"
   ]
  },
  {
   "cell_type": "code",
   "execution_count": 29,
   "id": "59d7980b",
   "metadata": {},
   "outputs": [],
   "source": [
    "y_human=df_human['v1'].values\n",
    "y_chimp=df_chimp['v1']\n",
    "y_dog=df_dog['v1']"
   ]
  },
  {
   "cell_type": "code",
   "execution_count": 30,
   "id": "164868ee",
   "metadata": {},
   "outputs": [],
   "source": [
    "#y_human"
   ]
  },
  {
   "cell_type": "code",
   "execution_count": 31,
   "id": "c3c321ee",
   "metadata": {
    "scrolled": true
   },
   "outputs": [
    {
     "name": "stdout",
     "output_type": "stream",
     "text": [
      "[1] : [atgag]...[ttaa ]\n",
      "[2] : [atggt]...[ttaa ]\n",
      "[3] : [atgcc]...[acag ]\n",
      "[4] : [atgtc]...[gtga ]\n",
      "[5] : [atgga]...[ctga ]\n",
      "[6] : [atgga]...[tact ]\n",
      "[7] : [atgca]...[atga ]\n",
      "[8] : [aaaaa]...[ttttt]\n"
     ]
    }
   ],
   "source": [
    "print(f'[{y_human[0]}] : [{human_texts[0][0:5]}]...[{human_texts[0][-5:]}]')\n",
    "print(f'[{y_human[800]}] : [{human_texts[800][0:5]}]...[{human_texts[800][-5:]}]')\n",
    "print(f'[{y_human[1000]}] : [{human_texts[1000][0:5]}]...[{human_texts[1000][-5:]}]')\n",
    "print(f'[{y_human[1500]}] : [{human_texts[1500][0:5]}]...[{human_texts[1500][-5:]}]')\n",
    "print(f'[{y_human[2000]}] : [{human_texts[2000][0:5]}]...[{human_texts[2000][-5:]}]')\n",
    "print(f'[{y_human[2600]}] : [{human_texts[2600][0:5]}]...[{human_texts[2600][-5:]}]')\n",
    "print(f'[{y_human[4000]}] : [{human_texts[4000][0:5]}]...[{human_texts[4000][-5:]}]')\n",
    "print(f'[{y_human[4020]}] : [{human_texts[4020][0:5]}]...[{human_texts[4020][-5:]}]')"
   ]
  },
  {
   "cell_type": "markdown",
   "id": "e8d7efb5",
   "metadata": {},
   "source": [
    "**Creating the Bag of Words model:**"
   ]
  },
  {
   "cell_type": "code",
   "execution_count": 32,
   "id": "fb860b2d",
   "metadata": {},
   "outputs": [],
   "source": [
    "#Creating the Bag of Words model:\n",
    "cv = CountVectorizer(ngram_range=(4,4), lowercase=False) #The n-gram size of 4 is previously determined by testing\n",
    "X = cv.fit_transform(human_texts)\n",
    "X_chimp = cv.transform(chimp_texts)\n",
    "X_dog = cv.transform(dog_texts)\n",
    "\n",
    "pickle.dump(cv, open('CountVectorizer-human.pkl','wb'))"
   ]
  },
  {
   "cell_type": "code",
   "execution_count": 33,
   "id": "ded5475a",
   "metadata": {},
   "outputs": [],
   "source": [
    "#X.toarray()"
   ]
  },
  {
   "cell_type": "code",
   "execution_count": 34,
   "id": "4d9c9010",
   "metadata": {},
   "outputs": [],
   "source": [
    "#X.shape           # (997, 163584)\n",
    "# X.toarray().shape # (997, 163584)"
   ]
  },
  {
   "cell_type": "code",
   "execution_count": 35,
   "id": "9e857417",
   "metadata": {},
   "outputs": [],
   "source": [
    "#X_chimp.shape           # (1680, 231536)\n",
    "# X_chimp.toarray().shape # (1680, 231536)"
   ]
  },
  {
   "cell_type": "code",
   "execution_count": 36,
   "id": "f7ac1c7b",
   "metadata": {},
   "outputs": [],
   "source": [
    "#X_dog.shape           # (803, 231536)\n",
    "# X_dog.toarray().shape # (803, 231536)"
   ]
  },
  {
   "cell_type": "code",
   "execution_count": 37,
   "id": "cec1ac24",
   "metadata": {},
   "outputs": [],
   "source": [
    "#X[0]"
   ]
  },
  {
   "cell_type": "code",
   "execution_count": 38,
   "id": "db4653f5",
   "metadata": {},
   "outputs": [],
   "source": [
    "#print(X.shape)\n",
    "#print(X_chimp.shape)\n",
    "#print(X_dog.shape)\n",
    "\n",
    "#print(y_human.shape)\n",
    "#print(y_chimp.shape)\n",
    "#print(y_dog.shape)"
   ]
  },
  {
   "cell_type": "code",
   "execution_count": 39,
   "id": "86b5bb9a",
   "metadata": {},
   "outputs": [],
   "source": [
    "#X.toarray()"
   ]
  },
  {
   "cell_type": "code",
   "execution_count": 40,
   "id": "8d4bbf86",
   "metadata": {},
   "outputs": [],
   "source": [
    "#X[0].toarray().size"
   ]
  },
  {
   "cell_type": "code",
   "execution_count": 41,
   "id": "b35fd5ec",
   "metadata": {},
   "outputs": [],
   "source": [
    "#print(f'X: [{X[0]}]')"
   ]
  },
  {
   "cell_type": "code",
   "execution_count": 42,
   "id": "10c4d477",
   "metadata": {},
   "outputs": [],
   "source": [
    "#print(f'X: [{X}]')"
   ]
  },
  {
   "cell_type": "code",
   "execution_count": 43,
   "id": "7d1fcf3b",
   "metadata": {},
   "outputs": [],
   "source": [
    "#y_human[4020]"
   ]
  },
  {
   "cell_type": "code",
   "execution_count": 44,
   "id": "44eb7ad5",
   "metadata": {},
   "outputs": [],
   "source": [
    "X_train, X_test, y_train, y_test = train_test_split(X, y_human, test_size=0.2, random_state=42)"
   ]
  },
  {
   "cell_type": "code",
   "execution_count": 45,
   "id": "1116df92",
   "metadata": {},
   "outputs": [],
   "source": [
    "#print(f'X_train len: [{X_train}]')\n",
    "#print(f'y_train len: [{len(y_train)}]')\n",
    "#print(f'y_train: [{y_train}]')\n",
    "\n",
    "#print(f'X_test : [{X_test}]')\n",
    "##print(f'X_test len: [{len(X_test)}]')\n",
    "#print(f'y_test len: [{len(y_test)}]')\n",
    "#print(f'y_test: [{y_test}]')\n",
    "#print(f'y_test.shape: [{y_test.shape}]')"
   ]
  },
  {
   "cell_type": "code",
   "execution_count": 46,
   "id": "70fabaa6",
   "metadata": {},
   "outputs": [],
   "source": [
    "classifier = MultinomialNB(alpha=0.1)\n",
    "classifier.fit(X_train, y_train)\n",
    "pickle.dump(classifier, open('model-human.pkl','wb'))"
   ]
  },
  {
   "cell_type": "code",
   "execution_count": 47,
   "id": "c38428a4",
   "metadata": {},
   "outputs": [],
   "source": [
    "#y_test"
   ]
  },
  {
   "cell_type": "code",
   "execution_count": 48,
   "id": "4f8f0afc",
   "metadata": {},
   "outputs": [],
   "source": [
    "def get_metrics(y_test, y_predicted):\n",
    "    accuracy = accuracy_score(y_test, y_predicted)\n",
    "    precision = precision_score(y_test, y_predicted, average='weighted')\n",
    "    recall = recall_score(y_test, y_predicted, average='weighted')\n",
    "    f1 = f1_score(y_test, y_predicted, average='weighted')\n",
    "    return accuracy, precision, recall, f1"
   ]
  },
  {
   "cell_type": "code",
   "execution_count": 49,
   "id": "a04d19ec",
   "metadata": {},
   "outputs": [],
   "source": [
    "y_pred = classifier.predict(X_test)"
   ]
  },
  {
   "cell_type": "code",
   "execution_count": 50,
   "id": "806dc8fb",
   "metadata": {
    "scrolled": false
   },
   "outputs": [
    {
     "name": "stdout",
     "output_type": "stream",
     "text": [
      "Confusion matrix for predictions on human test DNA sequence\n",
      "\n",
      "Predicted    1   2   3    4    5   6    7  8\n",
      "Actual                                      \n",
      "1          112   0   0    0    2   0    7  3\n",
      "2            0  82   0    0    0   0    0  3\n",
      "3            0   0  62    0    0   0    2  5\n",
      "4            0   0   0  125    2   0    1  0\n",
      "5            0   0   0    0  119   0    0  5\n",
      "6            0   0   0    0    0  38    0  1\n",
      "7            1   0   0    0    0   0  233  2\n",
      "accuracy = 0.958 \n",
      "precision = 0.982 \n",
      "recall = 0.958 \n",
      "f1 = 0.969\n"
     ]
    },
    {
     "name": "stderr",
     "output_type": "stream",
     "text": [
      "/home/dave/anaconda3/envs/capstone/lib/python3.10/site-packages/sklearn/metrics/_classification.py:1327: UndefinedMetricWarning: Recall is ill-defined and being set to 0.0 in labels with no true samples. Use `zero_division` parameter to control this behavior.\n",
      "  _warn_prf(average, modifier, msg_start, len(result))\n"
     ]
    }
   ],
   "source": [
    "print(\"Confusion matrix for predictions on human test DNA sequence\\n\")\n",
    "print(pd.crosstab(pd.Series(y_test, name='Actual'), pd.Series(y_pred, name='Predicted')))\n",
    "\n",
    "accuracy, precision, recall, f1 = get_metrics(y_test, y_pred)\n",
    "print(\"accuracy = %.3f \\nprecision = %.3f \\nrecall = %.3f \\nf1 = %.3f\" % (accuracy, precision, recall, f1))"
   ]
  },
  {
   "cell_type": "code",
   "execution_count": 51,
   "id": "ba437f74",
   "metadata": {},
   "outputs": [],
   "source": [
    "#X_test_single = X_test[0]\n",
    "#print(X_test_single.shape)\n",
    "#print(X_test_single)"
   ]
  },
  {
   "cell_type": "code",
   "execution_count": 52,
   "id": "323ef701",
   "metadata": {},
   "outputs": [
    {
     "name": "stdout",
     "output_type": "stream",
     "text": [
      "Confusion matrix for predictions on human test DNA sequence\n",
      "\n",
      "Predicted  7\n",
      "Actual      \n",
      "7          1\n",
      "accuracy = 1.000 \n",
      "precision = 1.000 \n",
      "recall = 1.000 \n",
      "f1 = 1.000\n"
     ]
    }
   ],
   "source": [
    "X_test_single = X_test[0]\n",
    "X_test_single\n",
    "y_test_single = np.array([y_test[0]])\n",
    "y_pred = classifier.predict(X_test_single)\n",
    "\n",
    "print(\"Confusion matrix for predictions on human test DNA sequence\\n\")\n",
    "print(pd.crosstab(pd.Series(y_test_single, name='Actual'), pd.Series(y_pred, name='Predicted')))\n",
    "\n",
    "accuracy, precision, recall, f1 = get_metrics(y_test_single, y_pred)\n",
    "print(\"accuracy = %.3f \\nprecision = %.3f \\nrecall = %.3f \\nf1 = %.3f\" % (accuracy, precision, recall, f1))"
   ]
  },
  {
   "cell_type": "code",
   "execution_count": 53,
   "id": "0822d702",
   "metadata": {},
   "outputs": [
    {
     "name": "stdout",
     "output_type": "stream",
     "text": [
      "Confusion matrix for predictions on human test DNA sequence\n",
      "\n",
      "Predicted  1  2  3  4  5  6  7\n",
      "Actual                        \n",
      "1          1  0  0  0  0  0  0\n",
      "2          0  2  0  0  0  0  0\n",
      "3          0  0  2  0  0  0  0\n",
      "4          0  0  0  1  0  0  0\n",
      "5          0  0  0  0  2  0  0\n",
      "6          0  0  0  0  0  1  0\n",
      "7          0  0  0  0  0  0  1\n",
      "accuracy = 1.000 \n",
      "precision = 1.000 \n",
      "recall = 1.000 \n",
      "f1 = 1.000\n"
     ]
    }
   ],
   "source": [
    "X_test_subset = X_test[0:10]\n",
    "y_test_subset = y_test[0:10]\n",
    "y_pred = classifier.predict(X_test_subset)\n",
    "\n",
    "y_test_subset\n",
    "#y_pred\n",
    "\n",
    "print(\"Confusion matrix for predictions on human test DNA sequence\\n\")\n",
    "print(pd.crosstab(pd.Series(y_test_subset, name='Actual'), pd.Series(y_pred, name='Predicted')))\n",
    "\n",
    "accuracy, precision, recall, f1 = get_metrics(y_test_subset, y_pred)\n",
    "print(\"accuracy = %.3f \\nprecision = %.3f \\nrecall = %.3f \\nf1 = %.3f\" % (accuracy, precision, recall, f1))"
   ]
  },
  {
   "cell_type": "code",
   "execution_count": 54,
   "id": "cb94a2d2",
   "metadata": {},
   "outputs": [],
   "source": [
    "# 1: human_texts[0]\n",
    "# 2: human_texts[800]\n",
    "# 3: human_texts[1000]\n",
    "# 4: human_texts[1500]\n",
    "# 5: human_texts[2000]\n",
    "# 6: human_texts[2600]\n",
    "# 7: human_texts[4000]\n",
    "\n",
    "#print(human_texts[0])\n"
   ]
  },
  {
   "cell_type": "code",
   "execution_count": 55,
   "id": "e7f70091",
   "metadata": {},
   "outputs": [],
   "source": [
    "#df_human['v2']"
   ]
  },
  {
   "cell_type": "code",
   "execution_count": 56,
   "id": "361bb148",
   "metadata": {
    "scrolled": true
   },
   "outputs": [
    {
     "name": "stdout",
     "output_type": "stream",
     "text": [
      "Confusion matrix for predictions on human test DNA sequence\n",
      "\n",
      "Predicted  1\n",
      "Actual      \n",
      "4          1\n",
      "accuracy = 0.000 \n",
      "precision = 0.000 \n",
      "recall = 0.000 \n",
      "f1 = 0.000\n"
     ]
    },
    {
     "name": "stderr",
     "output_type": "stream",
     "text": [
      "/home/dave/anaconda3/envs/capstone/lib/python3.10/site-packages/sklearn/metrics/_classification.py:1327: UndefinedMetricWarning: Precision is ill-defined and being set to 0.0 in labels with no predicted samples. Use `zero_division` parameter to control this behavior.\n",
      "  _warn_prf(average, modifier, msg_start, len(result))\n",
      "/home/dave/anaconda3/envs/capstone/lib/python3.10/site-packages/sklearn/metrics/_classification.py:1327: UndefinedMetricWarning: Recall is ill-defined and being set to 0.0 in labels with no true samples. Use `zero_division` parameter to control this behavior.\n",
      "  _warn_prf(average, modifier, msg_start, len(result))\n"
     ]
    }
   ],
   "source": [
    "text=\"atgagg tgaggc gaggcc aggccc ggcccg gcccga cccg\"\n",
    "X_all = cv.transform([text])\n",
    "#cv.get_feature_names_out()\n",
    "\n",
    "y_pred = classifier.predict(X_all)\n",
    "\n",
    "y_test_single = [4]\n",
    "\n",
    "print(\"Confusion matrix for predictions on human test DNA sequence\\n\")\n",
    "print(pd.crosstab(pd.Series(y_test_single, name='Actual'), pd.Series(y_pred, name='Predicted')))\n",
    "\n",
    "accuracy, precision, recall, f1 = get_metrics(y_test_single, y_pred)\n",
    "print(\"accuracy = %.3f \\nprecision = %.3f \\nrecall = %.3f \\nf1 = %.3f\" % (accuracy, precision, recall, f1))"
   ]
  },
  {
   "cell_type": "code",
   "execution_count": 61,
   "id": "ffcaf096",
   "metadata": {},
   "outputs": [],
   "source": [
    "#pickle.dump(classifier, open('model-human.pkl','wb'))\n",
    "#pickle.dump(cv, open('CountVectorizer-human.pkl','wb'))\n",
    "\n",
    "cl = pickle.load(open('model-human.pkl','rb'))\n",
    "cvr = pickle.load(open('CountVectorizer-human.pkl','rb'))"
   ]
  },
  {
   "cell_type": "code",
   "execution_count": 72,
   "id": "c30f22a5",
   "metadata": {},
   "outputs": [
    {
     "data": {
      "text/plain": [
       "14412"
      ]
     },
     "execution_count": 72,
     "metadata": {},
     "output_type": "execute_result"
    }
   ],
   "source": [
    "text = \"atggtc tggtca ggtcag gtcagc tcagct cagcta agctac gctact ctactg tactgg actggg ctggga tgggac gggaca ggacac gacacc acaccg caccgg accggg ccgggg cggggt ggggtc gggtcc ggtcct gtcctg tcctgc cctgct ctgctg tgctgt gctgtg ctgtgc tgtgcg gtgcgc tgcgcg gcgcgc cgcgct gcgctg cgctgc gctgct ctgctc tgctca gctcag ctcagc tcagct cagctg agctgt gctgtc ctgtct tgtctg gtctgc tctgct ctgctt tgcttc gcttct cttctc ttctca tctcac ctcaca tcacag cacagg acagga caggat aggatc ggatct gatcta atctag tctagt ctagtt tagttc agttca gttcag ttcagg tcaggt caggtt aggttc ggttca gttcaa ttcaaa tcaaaa caaaat aaaatt aaatta aattaa attaaa ttaaaa taaaag aaaaga aaagat aagatc agatcc gatcct atcctg tcctga cctgaa ctgaac tgaact gaactg aactga actgag ctgagt tgagtt gagttt agttta gtttaa tttaaa ttaaaa taaaag aaaagg aaaggc aaggca aggcac ggcacc gcaccc caccca acccag cccagc ccagca cagcac agcaca gcacat cacatc acatca catcat atcatg tcatgc catgca atgcaa tgcaag gcaagc caagca aagcag agcagg gcaggc caggcc aggcca ggccag gccaga ccagac cagaca agacac gacact acactg cactgc actgca ctgcat tgcatc gcatct catctc atctcc tctcca ctccaa tccaat ccaatg caatgc aatgca atgcag tgcagg gcaggg cagggg aggggg gggggg ggggga ggggaa gggaag ggaagc gaagca aagcag agcagc gcagcc cagccc agccca gcccat cccata ccataa cataaa ataaat taaatg aaatgg aatggt atggtc tggtct ggtctt gtcttt tctttg ctttgc tttgcc ttgcct tgcctg gcctga cctgaa ctgaaa tgaaat gaaatg aaatgg aatggt atggtg tggtga ggtgag gtgagt tgagta gagtaa agtaag gtaagg taagga aaggaa aggaaa ggaaag gaaagc aaagcg aagcga agcgaa gcgaaa cgaaag gaaagg aaaggc aaggct aggctg ggctga gctgag ctgagc tgagca gagcat agcata gcataa cataac ataact taacta aactaa actaaa ctaaat taaatc aaatct aatctg atctgc tctgcc ctgcct tgcctg gcctgt cctgtg ctgtgg tgtgga gtggaa tggaag ggaaga gaagaa aagaaa agaaat gaaatg aaatgg aatggc atggca tggcaa ggcaaa gcaaac caaaca aaacaa aacaat acaatt caattc aattct attctg ttctgc tctgca ctgcag tgcagt gcagta cagtac agtact gtactt tacttt acttta ctttaa tttaac ttaacc taacct aacctt accttg ccttga cttgaa ttgaac tgaaca gaacac aacaca acacag cacagc acagct cagctc agctca gctcaa ctcaag tcaagc caagca aagcaa agcaaa gcaaac caaacc aaacca aaccac accaca ccacac cacact acactg cactgg actggc ctggct tggctt ggcttc gcttct cttcta ttctac tctaca ctacag tacagc acagct cagctg agctgc gctgca ctgcaa tgcaaa gcaaat caaata aaatat aatatc atatct tatcta atctag tctagc ctagct tagctg agctgt gctgta ctgtac tgtacc gtacct taccta acctac cctact ctactt tacttc acttca cttcaa ttcaaa tcaaag caaaga aaagaa aagaag agaaga gaagaa aagaag agaagg gaagga aaggaa aggaaa ggaaac gaaaca aaacag aacaga acagaa cagaat agaatc gaatct aatctg atctgc tctgca ctgcaa tgcaat gcaatc caatct aatcta atctat tctata ctatat tatata atatat tatatt atattt tattta atttat tttatt ttatta tattag attagt ttagtg tagtga agtgat gtgata tgatac gataca atacag tacagg acaggt caggta aggtag ggtaga gtagac tagacc agacct gacctt accttt cctttc ctttcg tttcgt ttcgta tcgtag cgtaga gtagag tagaga agagat gagatg agatgt gatgta atgtac tgtaca gtacag tacagt acagtg cagtga agtgaa gtgaaa tgaaat gaaatc aaatcc aatccc atcccc tccccg ccccga cccgaa ccgaaa cgaaat gaaatt aaatta aattat attata ttatac tataca atacac tacaca acacat cacatg acatga catgac atgact tgactg gactga actgaa ctgaag tgaagg gaagga aaggaa aggaag ggaagg gaaggg aaggga agggag gggagc ggagct gagctc agctcg gctcgt ctcgtc tcgtca cgtcat gtcatt tcattc cattcc attccc ttccct tccctg ccctgc cctgcc ctgccg tgccgg gccggg ccgggt cgggtt gggtta ggttac gttacg ttacgt tacgtc acgtca cgtcac gtcacc tcacct caccta acctaa cctaac ctaaca taacat aacatc acatca catcac atcact tcactg cactgt actgtt ctgtta tgttac gttact ttactt tacttt acttta ctttaa tttaaa ttaaaa taaaaa aaaaaa aaaaag aaaagt aaagtt aagttt agtttc gtttcc tttcca ttccac tccact ccactt cacttg acttga cttgac ttgaca tgacac gacact acactt cacttt actttg ctttga tttgat ttgatc tgatcc gatccc atccct tccctg ccctga cctgat ctgatg tgatgg gatgga atggaa tggaaa ggaaaa gaaaac aaaacg aaacgc aacgca acgcat cgcata gcataa cataat ataatc taatct aatctg atctgg tctggg ctggga tgggac gggaca ggacag gacagt acagta cagtag agtaga gtagaa tagaaa agaaag gaaagg aaaggg aagggc agggct gggctt ggcttc gcttca cttcat ttcatc tcatca catcat atcata tcatat catatc atatca tatcaa atcaaa tcaaat caaatg aaatgc aatgca atgcaa tgcaac gcaacg caacgt aacgta acgtac cgtaca gtacaa tacaaa acaaag caaaga aaagaa aagaaa agaaat gaaata aaatag aatagg ataggg tagggc agggct gggctt ggcttc gcttct cttctg ttctga tctgac ctgacc tgacct gacctg acctgt cctgtg ctgtga tgtgaa gtgaag tgaagc gaagca aagcaa agcaac gcaaca caacag aacagt acagtc cagtca agtcaa gtcaat tcaatg caatgg aatggg atgggc tgggca gggcat ggcatt gcattt catttg atttgt tttgta ttgtat tgtata gtataa tataag ataaga taagac aagaca agacaa gacaaa acaaac caaact aaacta aactat actatc ctatct tatctc atctca tctcac ctcaca tcacac cacaca acacat cacatc acatcg catcga atcgac tcgaca cgacaa gacaaa acaaac caaacc aaacca aaccaa accaat ccaata caatac aataca atacaa tacaat acaatc caatca aatcat atcata tcatag cataga atagat tagatg agatgt gatgtc atgtcc tgtcca gtccaa tccaaa ccaaat caaata aaataa aataag ataagc taagca aagcac agcaca gcacac cacacc acacca caccac accacg ccacgc cacgcc acgccc cgccca gcccag cccagt ccagtc cagtca agtcaa gtcaaa tcaaat caaatt aaatta aattac attact ttactt tactta acttag cttaga ttagag tagagg agaggc gaggcc aggcca ggccat gccata ccatac catact atactc tactct actctt ctcttg tcttgt cttgtc ttgtcc tgtcct gtcctc tcctca cctcaa ctcaat tcaatt caattg aattgt attgta ttgtac tgtact gtactg tactgc actgct ctgcta tgctac gctacc ctacca taccac accact ccactc cactcc actccc ctccct tccctt cccttg ccttga cttgaa ttgaac tgaaca gaacac aacacg acacga cacgag acgaga cgagag gagagt agagtt gagttc agttca gttcaa ttcaaa tcaaat caaatg aaatga aatgac atgacc tgacct gacctg acctgg cctgga ctggag tggagt ggagtt gagtta agttac gttacc ttaccc taccct accctg ccctga cctgat ctgatg tgatga gatgaa atgaaa tgaaaa gaaaaa aaaaaa aaaaaa aaaaat aaaata aaataa aataag ataaga taagag aagaga agagag gagagc agagct gagctt agcttc gcttcc cttccg ttccgt tccgta ccgtaa cgtaag gtaagg taaggc aaggcg aggcga ggcgac gcgacg cgacga gacgaa acgaat cgaatt gaattg aattga attgac ttgacc tgacca gaccaa accaaa ccaaag caaagc aaagca aagcaa agcaat gcaatt caattc aattcc attccc ttccca tcccat cccatg ccatgc catgcc atgcca tgccaa gccaac ccaaca caacat aacata acatat catatt atattc tattct attcta ttctac tctaca ctacag tacagt acagtg cagtgt agtgtt gtgttc tgttct gttctt ttctta tcttac cttact ttacta tactat actatt ctattg tattga attgac ttgaca tgacaa gacaaa acaaaa caaaat aaaatg aaatgc aatgca atgcag tgcaga gcagaa cagaac agaaca gaacaa aacaaa acaaag caaaga aaagac aagaca agacaa gacaaa acaaag caaagg aaagga aaggac aggact ggactt gacttt acttta ctttat tttata ttatac tatact atactt tacttg acttgt cttgtc ttgtcg tgtcgt gtcgtg tcgtgt cgtgta gtgtaa tgtaag gtaagg taagga aaggag aggagt ggagtg gagtgg agtgga gtggac tggacc ggacca gaccat accatc ccatca catcat atcatt tcattc cattca attcaa ttcaaa tcaaat caaatc aaatct aatctg atctgt tctgtt ctgtta tgttaa gttaac ttaaca taacac aacacc acacct cacctc acctca cctcag ctcagt tcagtg cagtgc agtgca gtgcat tgcata gcatat catata atatat tatata atatat tatatg atatga tatgat atgata tgataa gataaa ataaag taaagc aaagca aagcat agcatt gcattc cattca attcat ttcatc tcatca catcac atcact tcactg cactgt actgtg ctgtga tgtgaa gtgaaa tgaaac gaaaca aaacat aacatc acatcg catcga atcgaa tcgaaa cgaaaa gaaaac aaaaca aaacag aacagc acagca cagcag agcagg gcaggt caggtg aggtgc ggtgct gtgctt tgcttg gcttga cttgaa ttgaaa tgaaac gaaacc aaaccg aaccgt accgta ccgtag cgtagc gtagct tagctg agctgg gctggc ctggca tggcaa ggcaag gcaagc caagcg aagcgg agcggt gcggtc cggtct ggtctt gtctta tcttac cttacc ttaccg taccgg accggc ccggct cggctc ggctct gctctc ctctct tctcta ctctat tctatg ctatga tatgaa atgaaa tgaaag gaaagt aaagtg aagtga agtgaa gtgaag tgaagg gaaggc aaggca aggcat ggcatt gcattt catttc atttcc tttccc ttccct tccctc ccctcg cctcgc ctcgcc tcgccg cgccgg gccgga ccggaa cggaag ggaagt gaagtt aagttg agttgt gttgta ttgtat tgtatg gtatgg tatggt atggtt tggtta ggttaa gttaaa ttaaaa taaaag aaaaga aaagat aagatg agatgg gatggg atgggt tgggtt gggtta ggttac gttacc ttacct tacctg acctgc cctgcg ctgcga tgcgac gcgact cgactg gactga actgag ctgaga tgagaa gagaaa agaaat gaaatc aaatct aatctg atctgc tctgct ctgctc tgctcg gctcgc ctcgct tcgcta cgctat gctatt ctattt tatttg atttga tttgac ttgact tgactc gactcg actcgt ctcgtg tcgtgg cgtggc gtggct tggcta ggctac gctact ctactc tactcg actcgt ctcgtt tcgtta cgttaa gttaat ttaatt taatta aattat attatc ttatca tatcaa atcaag tcaagg caagga aaggac aggacg ggacgt gacgta acgtaa cgtaac gtaact taactg aactga actgaa ctgaag tgaaga gaagag aagagg agagga gaggat aggatg ggatgc gatgca atgcag tgcagg gcaggg caggga agggaa gggaat ggaatt gaatta aattat attata ttatac tataca atacaa tacaat acaatc caatct aatctt atcttg tcttgc cttgct ttgctg tgctga gctgag ctgagc tgagca gagcat agcata gcataa cataaa ataaaa taaaac aaaaca aaacag aacagt acagtc cagtca agtcaa gtcaaa tcaaat caaatg aaatgt aatgtg atgtgt tgtgtt gtgttt tgttta gtttaa tttaaa ttaaaa taaaaa aaaaac aaaacc aaacct aacctc acctca cctcac ctcact tcactg cactgc actgcc ctgcca tgccac gccact ccactc cactct actcta ctctaa tctaat ctaatt taattg aattgt attgtc ttgtca tgtcaa gtcaat tcaatg caatgt aatgtg atgtga tgtgaa gtgaaa tgaaac gaaacc aaaccc aacccc acccca ccccag cccaga ccagat cagatt agattt gattta atttac tttacg ttacga tacgaa acgaaa cgaaaa gaaaag aaaagg aaaggc aaggcc aggccg ggccgt gccgtg ccgtgt cgtgtc gtgtca tgtcat gtcatc tcatcg catcgt atcgtt tcgttt cgtttc gtttcc tttcca ttccag tccaga ccagac cagacc agaccc gacccg acccgg cccggc ccggct cggctc ggctct gctctc ctctct tctcta ctctac tctacc ctaccc taccca acccac cccact ccactg cactgg actggg ctgggc tgggca gggcag ggcagc gcagca cagcag agcaga gcagac cagaca agacaa gacaaa acaaat caaatc aaatcc aatcct atcctg tcctga cctgac ctgact tgactt gacttg acttgt cttgta ttgtac tgtacc gtaccg taccgc accgca ccgcat cgcata gcatat catatg atatgg tatggt atggta tggtat ggtatc gtatcc tatccc atccct tccctc ccctca cctcaa ctcaac tcaacc caacct aaccta acctac cctaca ctacaa tacaat acaatc caatca aatcaa atcaag tcaagt caagtg aagtgg agtggt gtggtt tggttc ggttct gttctg ttctgg tctggc ctggca tggcac ggcacc gcaccc cacccc acccct cccctg ccctgt cctgta ctgtaa tgtaac gtaacc taacca aaccat accata ccataa cataat ataatc taatca aatcat atcatt tcattc cattcc attccg ttccga tccgaa ccgaag cgaagc gaagca aagcaa agcaag gcaagg caaggt aaggtg aggtgt ggtgtg gtgtga tgtgac gtgact tgactt gacttt actttt cttttg ttttgt tttgtt ttgttc tgttcc gttcca ttccaa tccaat ccaata caataa aataat ataatg taatga aatgaa atgaag tgaaga gaagag aagagt agagtc gagtcc agtcct gtcctt tccttt ccttta ctttat tttatc ttatcc tatcct atcctg tcctgg cctgga ctggat tggatg ggatgc gatgct atgctg tgctga gctgac ctgaca tgacag gacagc acagca cagcaa agcaac gcaaca caacat aacatg acatgg catggg atggga tgggaa gggaaa ggaaac gaaaca aaacag aacaga acagaa cagaat agaatt gaattg aattga attgag ttgaga tgagag gagagc agagca gagcat agcatc gcatca catcac atcact tcactc cactca actcag ctcagc tcagcg cagcgc agcgca gcgcat cgcatg gcatgg catggc atggca tggcaa ggcaat gcaata caataa aataat ataata taatag aataga atagaa tagaag agaagg gaagga aaggaa aggaaa ggaaag gaaaga aaagaa aagaat agaata gaataa aataag ataaga taagat aagatg agatgg gatggc atggct tggcta ggctag gctagc ctagca tagcac agcacc gcacct cacctt accttg ccttgg cttggt ttggtt tggttg ggttgt gttgtg ttgtgg tgtggc gtggct tggctg ggctga gctgac ctgact tgactc gactct actcta ctctag tctaga ctagaa tagaat agaatt gaattt aatttc atttct tttctg ttctgg tctgga ctggaa tggaat ggaatc gaatct aatcta atctac tctaca ctacat tacatt acattt catttg atttgc tttgca ttgcat tgcata gcatag catagc atagct tagctt agcttc gcttcc cttcca ttccaa tccaat ccaata caataa aataaa ataaag taaagt aaagtt aagttg agttgg gttggg ttggga tgggac gggact ggactg gactgt actgtg ctgtgg tgtggg gtggga tgggaa gggaag ggaaga gaagaa aagaaa agaaac gaaaca aaacat aacata acataa cataag ataagc taagct aagctt agcttt gctttt ctttta ttttat tttata ttatat tatatc atatca tatcac atcaca tcacag cacaga acagat cagatg agatgt gatgtg atgtgc tgtgcc gtgcca tgccaa gccaaa ccaaat caaatg aaatgg aatggg atgggt tgggtt gggttt ggtttc gtttca tttcat ttcatg tcatgt catgtt atgtta tgttaa gttaac ttaact taactt aacttg acttgg cttgga ttggaa tggaaa ggaaaa gaaaaa aaaaaa aaaaat aaaatg aaatgc aatgcc atgccg tgccga gccgac ccgacg cgacgg gacgga acggaa cggaag ggaagg gaagga aaggag aggaga ggagag gagagg agagga gaggac aggacc ggacct gacctg acctga cctgaa ctgaaa tgaaac gaaact aaactg aactgt actgtc ctgtct tgtctt gtcttg tcttgc cttgca ttgcac tgcaca gcacag cacagt acagtt cagtta agttaa gttaac ttaaca taacaa aacaag acaagt caagtt aagttc agttct gttctt ttctta tcttat cttata ttatac tataca atacag tacaga acagag cagaga agagac gagacg agacgt gacgtt acgtta cgttac gttact ttactt tacttg acttgg cttgga ttggat tggatt ggattt gatttt atttta ttttac tttact ttactg tactgc actgcg ctgcgg tgcgga gcggac cggaca ggacag gacagt acagtt cagtta agttaa gttaat ttaata taataa aataac ataaca taacag aacaga acagaa cagaac agaaca gaacaa aacaat acaatg caatgc aatgca atgcac tgcact gcacta cactac actaca ctacag tacagt acagta cagtat agtatt gtatta tattag attagc ttagca tagcaa agcaag gcaagc caagca aagcaa agcaaa gcaaaa caaaaa aaaaaa aaaaat aaaatg aaatgg aatggc atggcc tggcca ggccat gccatc ccatca catcac atcact tcacta cactaa actaag ctaagg taagga aaggag aggagc ggagca gagcac agcact gcactc cactcc actcca ctccat tccatc ccatca catcac atcact tcactc cactct actctt ctctta tcttaa cttaat ttaatc taatct aatctt atctta tcttac cttacc ttacca taccat accatc ccatca catcat atcatg tcatga catgaa atgaat tgaatg gaatgt aatgtt atgttt tgtttc gtttcc tttccc ttccct tccctg ccctgc cctgca ctgcaa tgcaag gcaaga caagat aagatt agattc gattca attcag ttcagg tcaggc caggca aggcac ggcacc gcacct caccta acctat cctatg ctatgc tatgcc atgcct tgcctg gcctgc cctgca ctgcag tgcaga gcagag cagagc agagcc gagcca agccag gccagg ccagga caggaa aggaat ggaatg gaatgt aatgta atgtat tgtata gtatac tataca atacac tacaca acacag cacagg acaggg cagggg agggga ggggaa gggaag ggaaga gaagaa aagaaa agaaat gaaatc aaatcc aatcct atcctc tcctcc cctcca ctccag tccaga ccagaa cagaag agaaga gaagaa aagaaa agaaag gaaaga aaagaa aagaaa agaaat gaaatt aaatta aattac attaca ttacaa tacaat acaatc caatca aatcag atcaga tcagag cagagg agaggt gaggtg aggtga ggtgag gtgagc tgagca gagcac agcact gcactg cactgc actgca ctgcaa tgcaac gcaaca caacaa aacaaa acaaaa caaaaa aaaaag aaaagg aaaggc aaggct aggctg ggctgt gctgtt ctgttt tgtttt gttttc ttttct tttctc ttctct tctctc ctctcg tctcgg ctcgga tcggat cggatc ggatct gatctc atctcc tctcca ctccaa tccaaa ccaaat caaatt aaattt aattta atttaa tttaaa ttaaaa taaaag aaaagc aaagca aagcac agcaca gcacaa cacaag acaagg caagga aaggaa aggaat ggaatg gaatga aatgat atgatt tgattg gattgt attgta ttgtac tgtacc gtacca taccac accaca ccacac cacaca acacaa cacaaa acaaag caaagt aaagta aagtaa agtaat gtaatg taatgt aatgta atgtaa tgtaaa gtaaaa taaaac aaaaca aaacat aacatt acatta cattaa\"\n",
    "len(text)"
   ]
  },
  {
   "cell_type": "code",
   "execution_count": 71,
   "id": "63a001ab",
   "metadata": {
    "scrolled": true
   },
   "outputs": [
    {
     "name": "stdout",
     "output_type": "stream",
     "text": [
      "Confusion matrix for predictions on human test DNA sequence\n",
      "\n",
      "Predicted  2\n",
      "Actual      \n",
      "1          1\n",
      "accuracy = 0.000 \n",
      "precision = 0.000 \n",
      "recall = 0.000 \n",
      "f1 = 0.000\n"
     ]
    },
    {
     "name": "stderr",
     "output_type": "stream",
     "text": [
      "/home/dave/anaconda3/envs/capstone/lib/python3.10/site-packages/sklearn/metrics/_classification.py:1327: UndefinedMetricWarning: Precision is ill-defined and being set to 0.0 in labels with no predicted samples. Use `zero_division` parameter to control this behavior.\n",
      "  _warn_prf(average, modifier, msg_start, len(result))\n",
      "/home/dave/anaconda3/envs/capstone/lib/python3.10/site-packages/sklearn/metrics/_classification.py:1327: UndefinedMetricWarning: Recall is ill-defined and being set to 0.0 in labels with no true samples. Use `zero_division` parameter to control this behavior.\n",
      "  _warn_prf(average, modifier, msg_start, len(result))\n"
     ]
    }
   ],
   "source": [
    "index = 1\n",
    "#print(f'[{y_human[index]}] : [{human_texts[index][0:5]}]...[{human_texts[4index020][-5:]}]')\n",
    "#text = human_texts[index]\n",
    "text = \"atggtc tggtca ggtcag gtcagc tcagct cagcta agctac gctact ctactg tactgg actggg ctggga tgggac gggaca ggacac gacacc acaccg caccgg accggg ccgggg cggggt ggggtc gggtcc ggtcct gtcctg tcctgc cctgct ctgctg tgctgt gctgtg ctgtgc tgtgcg gtgcgc tgcgcg gcgcgc cgcgct gcgctg cgctgc gctgct ctgctc tgctca gctcag ctcagc tcagct cagctg agctgt gctgtc ctgtct tgtctg gtctgc tctgct ctgctt tgcttc gcttct cttctc ttctca tctcac ctcaca tcacag cacagg acagga caggat aggatc ggatct gatcta atctag tctagt ctagtt tagttc agttca gttcag ttcagg tcaggt caggtt aggttc ggttca gttcaa ttcaaa tcaaaa caaaat aaaatt aaatta aattaa attaaa ttaaaa taaaag aaaaga aaagat aagatc agatcc gatcct atcctg tcctga cctgaa ctgaac tgaact gaactg aactga actgag ctgagt tgagtt gagttt agttta gtttaa tttaaa ttaaaa taaaag aaaagg aaaggc aaggca aggcac ggcacc gcaccc caccca acccag cccagc ccagca cagcac agcaca gcacat cacatc acatca catcat atcatg tcatgc catgca atgcaa tgcaag gcaagc caagca aagcag agcagg gcaggc caggcc aggcca ggccag gccaga ccagac cagaca agacac gacact acactg cactgc actgca ctgcat tgcatc gcatct catctc atctcc tctcca ctccaa tccaat ccaatg caatgc aatgca atgcag tgcagg gcaggg cagggg aggggg gggggg ggggga ggggaa gggaag ggaagc gaagca aagcag agcagc gcagcc cagccc agccca gcccat cccata ccataa cataaa ataaat taaatg aaatgg aatggt atggtc tggtct ggtctt gtcttt tctttg ctttgc tttgcc ttgcct tgcctg gcctga cctgaa ctgaaa tgaaat gaaatg aaatgg aatggt atggtg tggtga ggtgag gtgagt tgagta gagtaa agtaag gtaagg taagga aaggaa aggaaa ggaaag gaaagc aaagcg aagcga agcgaa gcgaaa cgaaag gaaagg aaaggc aaggct aggctg ggctga gctgag ctgagc tgagca gagcat agcata gcataa cataac ataact taacta aactaa actaaa ctaaat taaatc aaatct aatctg atctgc tctgcc ctgcct tgcctg gcctgt cctgtg ctgtgg tgtgga gtggaa tggaag ggaaga gaagaa aagaaa agaaat gaaatg aaatgg aatggc atggca tggcaa ggcaaa gcaaac caaaca aaacaa aacaat acaatt caattc aattct attctg ttctgc tctgca ctgcag tgcagt gcagta cagtac agtact gtactt tacttt acttta ctttaa tttaac ttaacc taacct aacctt accttg ccttga cttgaa ttgaac tgaaca gaacac aacaca acacag cacagc acagct cagctc agctca gctcaa ctcaag tcaagc caagca aagcaa agcaaa gcaaac caaacc aaacca aaccac accaca ccacac cacact acactg cactgg actggc ctggct tggctt ggcttc gcttct cttcta ttctac tctaca ctacag tacagc acagct cagctg agctgc gctgca ctgcaa tgcaaa gcaaat caaata aaatat aatatc atatct tatcta atctag tctagc ctagct tagctg agctgt gctgta ctgtac tgtacc gtacct taccta acctac cctact ctactt tacttc acttca cttcaa ttcaaa tcaaag caaaga aaagaa aagaag agaaga gaagaa aagaag agaagg gaagga aaggaa aggaaa ggaaac gaaaca aaacag aacaga acagaa cagaat agaatc gaatct aatctg atctgc tctgca ctgcaa tgcaat gcaatc caatct aatcta atctat tctata ctatat tatata atatat tatatt atattt tattta atttat tttatt ttatta tattag attagt ttagtg tagtga agtgat gtgata tgatac gataca atacag tacagg acaggt caggta aggtag ggtaga gtagac tagacc agacct gacctt accttt cctttc ctttcg tttcgt ttcgta tcgtag cgtaga gtagag tagaga agagat gagatg agatgt gatgta atgtac tgtaca gtacag tacagt acagtg cagtga agtgaa gtgaaa tgaaat gaaatc aaatcc aatccc atcccc tccccg ccccga cccgaa ccgaaa cgaaat gaaatt aaatta aattat attata ttatac tataca atacac tacaca acacat cacatg acatga catgac atgact tgactg gactga actgaa ctgaag tgaagg gaagga aaggaa aggaag ggaagg gaaggg aaggga agggag gggagc ggagct gagctc agctcg gctcgt ctcgtc tcgtca cgtcat gtcatt tcattc cattcc attccc ttccct tccctg ccctgc cctgcc ctgccg tgccgg gccggg ccgggt cgggtt gggtta ggttac gttacg ttacgt tacgtc acgtca cgtcac gtcacc tcacct caccta acctaa cctaac ctaaca taacat aacatc acatca catcac atcact tcactg cactgt actgtt ctgtta tgttac gttact ttactt tacttt acttta ctttaa tttaaa ttaaaa taaaaa aaaaaa aaaaag aaaagt aaagtt aagttt agtttc gtttcc tttcca ttccac tccact ccactt cacttg acttga cttgac ttgaca tgacac gacact acactt cacttt actttg ctttga tttgat ttgatc tgatcc gatccc atccct tccctg ccctga cctgat ctgatg tgatgg gatgga atggaa tggaaa ggaaaa gaaaac aaaacg aaacgc aacgca acgcat cgcata gcataa cataat ataatc taatct aatctg atctgg tctggg ctggga tgggac gggaca ggacag gacagt acagta cagtag agtaga gtagaa tagaaa agaaag gaaagg aaaggg aagggc agggct gggctt ggcttc gcttca cttcat ttcatc tcatca catcat atcata tcatat catatc atatca tatcaa atcaaa tcaaat caaatg aaatgc aatgca atgcaa tgcaac gcaacg caacgt aacgta acgtac cgtaca gtacaa tacaaa acaaag caaaga aaagaa aagaaa agaaat gaaata aaatag aatagg ataggg tagggc agggct gggctt ggcttc gcttct cttctg ttctga tctgac ctgacc tgacct gacctg acctgt cctgtg ctgtga tgtgaa gtgaag tgaagc gaagca aagcaa agcaac gcaaca caacag aacagt acagtc cagtca agtcaa gtcaat tcaatg caatgg aatggg atgggc tgggca gggcat ggcatt gcattt catttg atttgt tttgta ttgtat tgtata gtataa tataag ataaga taagac aagaca agacaa gacaaa acaaac caaact aaacta aactat actatc ctatct tatctc atctca tctcac ctcaca tcacac cacaca acacat cacatc acatcg catcga atcgac tcgaca cgacaa gacaaa acaaac caaacc aaacca aaccaa accaat ccaata caatac aataca atacaa tacaat acaatc caatca aatcat atcata tcatag cataga atagat tagatg agatgt gatgtc atgtcc tgtcca gtccaa tccaaa ccaaat caaata aaataa aataag ataagc taagca aagcac agcaca gcacac cacacc acacca caccac accacg ccacgc cacgcc acgccc cgccca gcccag cccagt ccagtc cagtca agtcaa gtcaaa tcaaat caaatt aaatta aattac attact ttactt tactta acttag cttaga ttagag tagagg agaggc gaggcc aggcca ggccat gccata ccatac catact atactc tactct actctt ctcttg tcttgt cttgtc ttgtcc tgtcct gtcctc tcctca cctcaa ctcaat tcaatt caattg aattgt attgta ttgtac tgtact gtactg tactgc actgct ctgcta tgctac gctacc ctacca taccac accact ccactc cactcc actccc ctccct tccctt cccttg ccttga cttgaa ttgaac tgaaca gaacac aacacg acacga cacgag acgaga cgagag gagagt agagtt gagttc agttca gttcaa ttcaaa tcaaat caaatg aaatga aatgac atgacc tgacct gacctg acctgg cctgga ctggag tggagt ggagtt gagtta agttac gttacc ttaccc taccct accctg ccctga cctgat ctgatg tgatga gatgaa atgaaa tgaaaa gaaaaa aaaaaa aaaaaa aaaaat aaaata aaataa aataag ataaga taagag aagaga agagag gagagc agagct gagctt agcttc gcttcc cttccg ttccgt tccgta ccgtaa cgtaag gtaagg taaggc aaggcg aggcga ggcgac gcgacg cgacga gacgaa acgaat cgaatt gaattg aattga attgac ttgacc tgacca gaccaa accaaa ccaaag caaagc aaagca aagcaa agcaat gcaatt caattc aattcc attccc ttccca tcccat cccatg ccatgc catgcc atgcca tgccaa gccaac ccaaca caacat aacata acatat catatt atattc tattct attcta ttctac tctaca ctacag tacagt acagtg cagtgt agtgtt gtgttc tgttct gttctt ttctta tcttac cttact ttacta tactat actatt ctattg tattga attgac ttgaca tgacaa gacaaa acaaaa caaaat aaaatg aaatgc aatgca atgcag tgcaga gcagaa cagaac agaaca gaacaa aacaaa acaaag caaaga aaagac aagaca agacaa gacaaa acaaag caaagg aaagga aaggac aggact ggactt gacttt acttta ctttat tttata ttatac tatact atactt tacttg acttgt cttgtc ttgtcg tgtcgt gtcgtg tcgtgt cgtgta gtgtaa tgtaag gtaagg taagga aaggag aggagt ggagtg gagtgg agtgga gtggac tggacc ggacca gaccat accatc ccatca catcat atcatt tcattc cattca attcaa ttcaaa tcaaat caaatc aaatct aatctg atctgt tctgtt ctgtta tgttaa gttaac ttaaca taacac aacacc acacct cacctc acctca cctcag ctcagt tcagtg cagtgc agtgca gtgcat tgcata gcatat catata atatat tatata atatat tatatg atatga tatgat atgata tgataa gataaa ataaag taaagc aaagca aagcat agcatt gcattc cattca attcat ttcatc tcatca catcac atcact tcactg cactgt actgtg ctgtga tgtgaa gtgaaa tgaaac gaaaca aaacat aacatc acatcg catcga atcgaa tcgaaa cgaaaa gaaaac aaaaca aaacag aacagc acagca cagcag agcagg gcaggt caggtg aggtgc ggtgct gtgctt tgcttg gcttga cttgaa ttgaaa tgaaac gaaacc aaaccg aaccgt accgta ccgtag cgtagc gtagct tagctg agctgg gctggc ctggca tggcaa ggcaag gcaagc caagcg aagcgg agcggt gcggtc cggtct ggtctt gtctta tcttac cttacc ttaccg taccgg accggc ccggct cggctc ggctct gctctc ctctct tctcta ctctat tctatg ctatga tatgaa atgaaa tgaaag gaaagt aaagtg aagtga agtgaa gtgaag tgaagg gaaggc aaggca aggcat ggcatt gcattt catttc atttcc tttccc ttccct tccctc ccctcg cctcgc ctcgcc tcgccg cgccgg gccgga ccggaa cggaag ggaagt gaagtt aagttg agttgt gttgta ttgtat tgtatg gtatgg tatggt atggtt tggtta ggttaa gttaaa ttaaaa taaaag aaaaga aaagat aagatg agatgg gatggg atgggt tgggtt gggtta ggttac gttacc ttacct tacctg acctgc cctgcg ctgcga tgcgac gcgact cgactg gactga actgag ctgaga tgagaa gagaaa agaaat gaaatc aaatct aatctg atctgc tctgct ctgctc tgctcg gctcgc ctcgct tcgcta cgctat gctatt ctattt tatttg atttga tttgac ttgact tgactc gactcg actcgt ctcgtg tcgtgg cgtggc gtggct tggcta ggctac gctact ctactc tactcg actcgt ctcgtt tcgtta cgttaa gttaat ttaatt taatta aattat attatc ttatca tatcaa atcaag tcaagg caagga aaggac aggacg ggacgt gacgta acgtaa cgtaac gtaact taactg aactga actgaa ctgaag tgaaga gaagag aagagg agagga gaggat aggatg ggatgc gatgca atgcag tgcagg gcaggg caggga agggaa gggaat ggaatt gaatta aattat attata ttatac tataca atacaa tacaat acaatc caatct aatctt atcttg tcttgc cttgct ttgctg tgctga gctgag ctgagc tgagca gagcat agcata gcataa cataaa ataaaa taaaac aaaaca aaacag aacagt acagtc cagtca agtcaa gtcaaa tcaaat caaatg aaatgt aatgtg atgtgt tgtgtt gtgttt tgttta gtttaa tttaaa ttaaaa taaaaa aaaaac aaaacc aaacct aacctc acctca cctcac ctcact tcactg cactgc actgcc ctgcca tgccac gccact ccactc cactct actcta ctctaa tctaat ctaatt taattg aattgt attgtc ttgtca tgtcaa gtcaat tcaatg caatgt aatgtg atgtga tgtgaa gtgaaa tgaaac gaaacc aaaccc aacccc acccca ccccag cccaga ccagat cagatt agattt gattta atttac tttacg ttacga tacgaa acgaaa cgaaaa gaaaag aaaagg aaaggc aaggcc aggccg ggccgt gccgtg ccgtgt cgtgtc gtgtca tgtcat gtcatc tcatcg catcgt atcgtt tcgttt cgtttc gtttcc tttcca ttccag tccaga ccagac cagacc agaccc gacccg acccgg cccggc ccggct cggctc ggctct gctctc ctctct tctcta ctctac tctacc ctaccc taccca acccac cccact ccactg cactgg actggg ctgggc tgggca gggcag ggcagc gcagca cagcag agcaga gcagac cagaca agacaa gacaaa acaaat caaatc aaatcc aatcct atcctg tcctga cctgac ctgact tgactt gacttg acttgt cttgta ttgtac tgtacc gtaccg taccgc accgca ccgcat cgcata gcatat catatg atatgg tatggt atggta tggtat ggtatc gtatcc tatccc atccct tccctc ccctca cctcaa ctcaac tcaacc caacct aaccta acctac cctaca ctacaa tacaat acaatc caatca aatcaa atcaag tcaagt caagtg aagtgg agtggt gtggtt tggttc ggttct gttctg ttctgg tctggc ctggca tggcac ggcacc gcaccc cacccc acccct cccctg ccctgt cctgta ctgtaa tgtaac gtaacc taacca aaccat accata ccataa cataat ataatc taatca aatcat atcatt tcattc cattcc attccg ttccga tccgaa ccgaag cgaagc gaagca aagcaa agcaag gcaagg caaggt aaggtg aggtgt ggtgtg gtgtga tgtgac gtgact tgactt gacttt actttt cttttg ttttgt tttgtt ttgttc tgttcc gttcca ttccaa tccaat ccaata caataa aataat ataatg taatga aatgaa atgaag tgaaga gaagag aagagt agagtc gagtcc agtcct gtcctt tccttt ccttta ctttat tttatc ttatcc tatcct atcctg tcctgg cctgga ctggat tggatg ggatgc gatgct atgctg tgctga gctgac ctgaca tgacag gacagc acagca cagcaa agcaac gcaaca caacat aacatg acatgg catggg atggga tgggaa gggaaa ggaaac gaaaca aaacag aacaga acagaa cagaat agaatt gaattg aattga attgag ttgaga tgagag gagagc agagca gagcat agcatc gcatca catcac atcact tcactc cactca actcag ctcagc tcagcg cagcgc agcgca gcgcat cgcatg gcatgg catggc atggca tggcaa ggcaat gcaata caataa aataat ataata taatag aataga atagaa tagaag agaagg gaagga aaggaa aggaaa ggaaag gaaaga aaagaa aagaat agaata gaataa aataag ataaga taagat aagatg agatgg gatggc atggct tggcta ggctag gctagc ctagca tagcac agcacc gcacct cacctt accttg ccttgg cttggt ttggtt tggttg ggttgt gttgtg ttgtgg tgtggc gtggct tggctg ggctga gctgac ctgact tgactc gactct actcta ctctag tctaga ctagaa tagaat agaatt gaattt aatttc atttct tttctg ttctgg tctgga ctggaa tggaat ggaatc gaatct aatcta atctac tctaca ctacat tacatt acattt catttg atttgc tttgca ttgcat tgcata gcatag catagc atagct tagctt agcttc gcttcc cttcca ttccaa tccaat ccaata caataa aataaa ataaag taaagt aaagtt aagttg agttgg gttggg ttggga tgggac gggact ggactg gactgt actgtg ctgtgg tgtggg gtggga tgggaa gggaag ggaaga gaagaa aagaaa agaaac gaaaca aaacat aacata acataa cataag ataagc taagct aagctt agcttt gctttt ctttta ttttat tttata ttatat tatatc atatca tatcac atcaca tcacag cacaga acagat cagatg agatgt gatgtg atgtgc tgtgcc gtgcca tgccaa gccaaa ccaaat caaatg aaatgg aatggg atgggt tgggtt gggttt ggtttc gtttca tttcat ttcatg tcatgt catgtt atgtta tgttaa gttaac ttaact taactt aacttg acttgg cttgga ttggaa tggaaa ggaaaa gaaaaa aaaaaa aaaaat aaaatg aaatgc aatgcc atgccg tgccga gccgac ccgacg cgacgg gacgga acggaa cggaag ggaagg gaagga aaggag aggaga ggagag gagagg agagga gaggac aggacc ggacct gacctg acctga cctgaa ctgaaa tgaaac gaaact aaactg aactgt actgtc ctgtct tgtctt gtcttg tcttgc cttgca ttgcac tgcaca gcacag cacagt acagtt cagtta agttaa gttaac ttaaca taacaa aacaag acaagt caagtt aagttc agttct gttctt ttctta tcttat cttata ttatac tataca atacag tacaga acagag cagaga agagac gagacg agacgt gacgtt acgtta cgttac gttact ttactt tacttg acttgg cttgga ttggat tggatt ggattt gatttt atttta ttttac tttact ttactg tactgc actgcg ctgcgg tgcgga gcggac cggaca ggacag gacagt acagtt cagtta agttaa gttaat ttaata taataa aataac ataaca taacag aacaga acagaa cagaac agaaca gaacaa aacaat acaatg caatgc aatgca atgcac tgcact gcacta cactac actaca ctacag tacagt acagta cagtat agtatt gtatta tattag attagc ttagca tagcaa agcaag gcaagc caagca aagcaa agcaaa gcaaaa caaaaa aaaaaa aaaaat aaaatg aaatgg aatggc atggcc tggcca ggccat gccatc ccatca catcac atcact tcacta cactaa actaag ctaagg taagga aaggag aggagc ggagca gagcac agcact gcactc cactcc actcca ctccat tccatc ccatca catcac atcact tcactc cactct actctt ctctta tcttaa cttaat ttaatc taatct aatctt atctta tcttac cttacc ttacca taccat accatc ccatca catcat atcatg tcatga catgaa atgaat tgaatg gaatgt aatgtt atgttt tgtttc gtttcc tttccc ttccct tccctg ccctgc cctgca ctgcaa tgcaag gcaaga caagat aagatt agattc gattca attcag ttcagg tcaggc caggca aggcac ggcacc gcacct caccta acctat cctatg ctatgc tatgcc atgcct tgcctg gcctgc cctgca ctgcag tgcaga gcagag cagagc agagcc gagcca agccag gccagg ccagga caggaa aggaat ggaatg gaatgt aatgta atgtat tgtata gtatac tataca atacac tacaca acacag cacagg acaggg cagggg agggga ggggaa gggaag ggaaga gaagaa aagaaa agaaat gaaatc aaatcc aatcct atcctc tcctcc cctcca ctccag tccaga ccagaa cagaag agaaga gaagaa aagaaa agaaag gaaaga aaagaa aagaaa agaaat gaaatt aaatta aattac attaca ttacaa tacaat acaatc caatca aatcag atcaga tcagag cagagg agaggt gaggtg aggtga ggtgag gtgagc tgagca gagcac agcact gcactg cactgc actgca ctgcaa tgcaac gcaaca caacaa aacaaa acaaaa caaaaa aaaaag aaaagg aaaggc aaggct aggctg ggctgt gctgtt ctgttt tgtttt gttttc ttttct tttctc ttctct tctctc ctctcg tctcgg ctcgga tcggat cggatc ggatct gatctc atctcc tctcca ctccaa tccaaa ccaaat caaatt aaattt aattta atttaa tttaaa ttaaaa taaaag aaaagc aaagca aagcac agcaca gcacaa cacaag acaagg caagga aaggaa aggaat ggaatg gaatga aatgat atgatt tgattg gattgt attgta ttgtac tgtacc gtacca taccac accaca ccacac cacaca acacaa cacaaa acaaag caaagt aaagta aagtaa agtaat gtaatg taatgt aatgta atgtaa tgtaaa gtaaaa taaaac aaaaca aaacat aacatt acatta cattaa\"\n",
    "X_all = cvr.transform([text])\n",
    "\n",
    "y_pred = cl.predict(X_all)\n",
    "\n",
    "y_test_single = [y_human[index]]\n",
    "\n",
    "print(\"Confusion matrix for predictions on human test DNA sequence\\n\")\n",
    "print(pd.crosstab(pd.Series(y_test_single, name='Actual'), pd.Series(y_pred, name='Predicted')))\n",
    "\n",
    "accuracy, precision, recall, f1 = get_metrics(y_test_single, y_pred)\n",
    "print(\"accuracy = %.3f \\nprecision = %.3f \\nrecall = %.3f \\nf1 = %.3f\" % (accuracy, precision, recall, f1))\n"
   ]
  },
  {
   "cell_type": "code",
   "execution_count": 58,
   "id": "876998f4",
   "metadata": {},
   "outputs": [
    {
     "data": {
      "text/plain": [
       "array([7])"
      ]
     },
     "execution_count": 58,
     "metadata": {},
     "output_type": "execute_result"
    }
   ],
   "source": [
    "X_test_denovo = X_test[0]\n",
    "y_test_denovo = y_test[0]\n",
    "y_pred = classifier.predict(X_test_denovo)\n",
    "\n",
    "\n",
    "y_pred"
   ]
  },
  {
   "cell_type": "code",
   "execution_count": 70,
   "id": "f25a1a06",
   "metadata": {
    "scrolled": true
   },
   "outputs": [
    {
     "name": "stdout",
     "output_type": "stream",
     "text": [
      "2\n",
      "atggtc tggtca ggtcag gtcagc tcagct cagcta agctac gctact ctactg tactgg actggg ctggga tgggac gggaca ggacac gacacc acaccg caccgg accggg ccgggg cggggt ggggtc gggtcc ggtcct gtcctg tcctgc cctgct ctgctg tgctgt gctgtg ctgtgc tgtgcg gtgcgc tgcgcg gcgcgc cgcgct gcgctg cgctgc gctgct ctgctc tgctca gctcag ctcagc tcagct cagctg agctgt gctgtc ctgtct tgtctg gtctgc tctgct ctgctt tgcttc gcttct cttctc ttctca tctcac ctcaca tcacag cacagg acagga caggat aggatc ggatct gatcta atctag tctagt ctagtt tagttc agttca gttcag ttcagg tcaggt caggtt aggttc ggttca gttcaa ttcaaa tcaaaa caaaat aaaatt aaatta aattaa attaaa ttaaaa taaaag aaaaga aaagat aagatc agatcc gatcct atcctg tcctga cctgaa ctgaac tgaact gaactg aactga actgag ctgagt tgagtt gagttt agttta gtttaa tttaaa ttaaaa taaaag aaaagg aaaggc aaggca aggcac ggcacc gcaccc caccca acccag cccagc ccagca cagcac agcaca gcacat cacatc acatca catcat atcatg tcatgc catgca atgcaa tgcaag gcaagc caagca aagcag agcagg gcaggc caggcc aggcca ggccag gccaga ccagac cagaca agacac gacact acactg cactgc actgca ctgcat tgcatc gcatct catctc atctcc tctcca ctccaa tccaat ccaatg caatgc aatgca atgcag tgcagg gcaggg cagggg aggggg gggggg ggggga ggggaa gggaag ggaagc gaagca aagcag agcagc gcagcc cagccc agccca gcccat cccata ccataa cataaa ataaat taaatg aaatgg aatggt atggtc tggtct ggtctt gtcttt tctttg ctttgc tttgcc ttgcct tgcctg gcctga cctgaa ctgaaa tgaaat gaaatg aaatgg aatggt atggtg tggtga ggtgag gtgagt tgagta gagtaa agtaag gtaagg taagga aaggaa aggaaa ggaaag gaaagc aaagcg aagcga agcgaa gcgaaa cgaaag gaaagg aaaggc aaggct aggctg ggctga gctgag ctgagc tgagca gagcat agcata gcataa cataac ataact taacta aactaa actaaa ctaaat taaatc aaatct aatctg atctgc tctgcc ctgcct tgcctg gcctgt cctgtg ctgtgg tgtgga gtggaa tggaag ggaaga gaagaa aagaaa agaaat gaaatg aaatgg aatggc atggca tggcaa ggcaaa gcaaac caaaca aaacaa aacaat acaatt caattc aattct attctg ttctgc tctgca ctgcag tgcagt gcagta cagtac agtact gtactt tacttt acttta ctttaa tttaac ttaacc taacct aacctt accttg ccttga cttgaa ttgaac tgaaca gaacac aacaca acacag cacagc acagct cagctc agctca gctcaa ctcaag tcaagc caagca aagcaa agcaaa gcaaac caaacc aaacca aaccac accaca ccacac cacact acactg cactgg actggc ctggct tggctt ggcttc gcttct cttcta ttctac tctaca ctacag tacagc acagct cagctg agctgc gctgca ctgcaa tgcaaa gcaaat caaata aaatat aatatc atatct tatcta atctag tctagc ctagct tagctg agctgt gctgta ctgtac tgtacc gtacct taccta acctac cctact ctactt tacttc acttca cttcaa ttcaaa tcaaag caaaga aaagaa aagaag agaaga gaagaa aagaag agaagg gaagga aaggaa aggaaa ggaaac gaaaca aaacag aacaga acagaa cagaat agaatc gaatct aatctg atctgc tctgca ctgcaa tgcaat gcaatc caatct aatcta atctat tctata ctatat tatata atatat tatatt atattt tattta atttat tttatt ttatta tattag attagt ttagtg tagtga agtgat gtgata tgatac gataca atacag tacagg acaggt caggta aggtag ggtaga gtagac tagacc agacct gacctt accttt cctttc ctttcg tttcgt ttcgta tcgtag cgtaga gtagag tagaga agagat gagatg agatgt gatgta atgtac tgtaca gtacag tacagt acagtg cagtga agtgaa gtgaaa tgaaat gaaatc aaatcc aatccc atcccc tccccg ccccga cccgaa ccgaaa cgaaat gaaatt aaatta aattat attata ttatac tataca atacac tacaca acacat cacatg acatga catgac atgact tgactg gactga actgaa ctgaag tgaagg gaagga aaggaa aggaag ggaagg gaaggg aaggga agggag gggagc ggagct gagctc agctcg gctcgt ctcgtc tcgtca cgtcat gtcatt tcattc cattcc attccc ttccct tccctg ccctgc cctgcc ctgccg tgccgg gccggg ccgggt cgggtt gggtta ggttac gttacg ttacgt tacgtc acgtca cgtcac gtcacc tcacct caccta acctaa cctaac ctaaca taacat aacatc acatca catcac atcact tcactg cactgt actgtt ctgtta tgttac gttact ttactt tacttt acttta ctttaa tttaaa ttaaaa taaaaa aaaaaa aaaaag aaaagt aaagtt aagttt agtttc gtttcc tttcca ttccac tccact ccactt cacttg acttga cttgac ttgaca tgacac gacact acactt cacttt actttg ctttga tttgat ttgatc tgatcc gatccc atccct tccctg ccctga cctgat ctgatg tgatgg gatgga atggaa tggaaa ggaaaa gaaaac aaaacg aaacgc aacgca acgcat cgcata gcataa cataat ataatc taatct aatctg atctgg tctggg ctggga tgggac gggaca ggacag gacagt acagta cagtag agtaga gtagaa tagaaa agaaag gaaagg aaaggg aagggc agggct gggctt ggcttc gcttca cttcat ttcatc tcatca catcat atcata tcatat catatc atatca tatcaa atcaaa tcaaat caaatg aaatgc aatgca atgcaa tgcaac gcaacg caacgt aacgta acgtac cgtaca gtacaa tacaaa acaaag caaaga aaagaa aagaaa agaaat gaaata aaatag aatagg ataggg tagggc agggct gggctt ggcttc gcttct cttctg ttctga tctgac ctgacc tgacct gacctg acctgt cctgtg ctgtga tgtgaa gtgaag tgaagc gaagca aagcaa agcaac gcaaca caacag aacagt acagtc cagtca agtcaa gtcaat tcaatg caatgg aatggg atgggc tgggca gggcat ggcatt gcattt catttg atttgt tttgta ttgtat tgtata gtataa tataag ataaga taagac aagaca agacaa gacaaa acaaac caaact aaacta aactat actatc ctatct tatctc atctca tctcac ctcaca tcacac cacaca acacat cacatc acatcg catcga atcgac tcgaca cgacaa gacaaa acaaac caaacc aaacca aaccaa accaat ccaata caatac aataca atacaa tacaat acaatc caatca aatcat atcata tcatag cataga atagat tagatg agatgt gatgtc atgtcc tgtcca gtccaa tccaaa ccaaat caaata aaataa aataag ataagc taagca aagcac agcaca gcacac cacacc acacca caccac accacg ccacgc cacgcc acgccc cgccca gcccag cccagt ccagtc cagtca agtcaa gtcaaa tcaaat caaatt aaatta aattac attact ttactt tactta acttag cttaga ttagag tagagg agaggc gaggcc aggcca ggccat gccata ccatac catact atactc tactct actctt ctcttg tcttgt cttgtc ttgtcc tgtcct gtcctc tcctca cctcaa ctcaat tcaatt caattg aattgt attgta ttgtac tgtact gtactg tactgc actgct ctgcta tgctac gctacc ctacca taccac accact ccactc cactcc actccc ctccct tccctt cccttg ccttga cttgaa ttgaac tgaaca gaacac aacacg acacga cacgag acgaga cgagag gagagt agagtt gagttc agttca gttcaa ttcaaa tcaaat caaatg aaatga aatgac atgacc tgacct gacctg acctgg cctgga ctggag tggagt ggagtt gagtta agttac gttacc ttaccc taccct accctg ccctga cctgat ctgatg tgatga gatgaa atgaaa tgaaaa gaaaaa aaaaaa aaaaaa aaaaat aaaata aaataa aataag ataaga taagag aagaga agagag gagagc agagct gagctt agcttc gcttcc cttccg ttccgt tccgta ccgtaa cgtaag gtaagg taaggc aaggcg aggcga ggcgac gcgacg cgacga gacgaa acgaat cgaatt gaattg aattga attgac ttgacc tgacca gaccaa accaaa ccaaag caaagc aaagca aagcaa agcaat gcaatt caattc aattcc attccc ttccca tcccat cccatg ccatgc catgcc atgcca tgccaa gccaac ccaaca caacat aacata acatat catatt atattc tattct attcta ttctac tctaca ctacag tacagt acagtg cagtgt agtgtt gtgttc tgttct gttctt ttctta tcttac cttact ttacta tactat actatt ctattg tattga attgac ttgaca tgacaa gacaaa acaaaa caaaat aaaatg aaatgc aatgca atgcag tgcaga gcagaa cagaac agaaca gaacaa aacaaa acaaag caaaga aaagac aagaca agacaa gacaaa acaaag caaagg aaagga aaggac aggact ggactt gacttt acttta ctttat tttata ttatac tatact atactt tacttg acttgt cttgtc ttgtcg tgtcgt gtcgtg tcgtgt cgtgta gtgtaa tgtaag gtaagg taagga aaggag aggagt ggagtg gagtgg agtgga gtggac tggacc ggacca gaccat accatc ccatca catcat atcatt tcattc cattca attcaa ttcaaa tcaaat caaatc aaatct aatctg atctgt tctgtt ctgtta tgttaa gttaac ttaaca taacac aacacc acacct cacctc acctca cctcag ctcagt tcagtg cagtgc agtgca gtgcat tgcata gcatat catata atatat tatata atatat tatatg atatga tatgat atgata tgataa gataaa ataaag taaagc aaagca aagcat agcatt gcattc cattca attcat ttcatc tcatca catcac atcact tcactg cactgt actgtg ctgtga tgtgaa gtgaaa tgaaac gaaaca aaacat aacatc acatcg catcga atcgaa tcgaaa cgaaaa gaaaac aaaaca aaacag aacagc acagca cagcag agcagg gcaggt caggtg aggtgc ggtgct gtgctt tgcttg gcttga cttgaa ttgaaa tgaaac gaaacc aaaccg aaccgt accgta ccgtag cgtagc gtagct tagctg agctgg gctggc ctggca tggcaa ggcaag gcaagc caagcg aagcgg agcggt gcggtc cggtct ggtctt gtctta tcttac cttacc ttaccg taccgg accggc ccggct cggctc ggctct gctctc ctctct tctcta ctctat tctatg ctatga tatgaa atgaaa tgaaag gaaagt aaagtg aagtga agtgaa gtgaag tgaagg gaaggc aaggca aggcat ggcatt gcattt catttc atttcc tttccc ttccct tccctc ccctcg cctcgc ctcgcc tcgccg cgccgg gccgga ccggaa cggaag ggaagt gaagtt aagttg agttgt gttgta ttgtat tgtatg gtatgg tatggt atggtt tggtta ggttaa gttaaa ttaaaa taaaag aaaaga aaagat aagatg agatgg gatggg atgggt tgggtt gggtta ggttac gttacc ttacct tacctg acctgc cctgcg ctgcga tgcgac gcgact cgactg gactga actgag ctgaga tgagaa gagaaa agaaat gaaatc aaatct aatctg atctgc tctgct ctgctc tgctcg gctcgc ctcgct tcgcta cgctat gctatt ctattt tatttg atttga tttgac ttgact tgactc gactcg actcgt ctcgtg tcgtgg cgtggc gtggct tggcta ggctac gctact ctactc tactcg actcgt ctcgtt tcgtta cgttaa gttaat ttaatt taatta aattat attatc ttatca tatcaa atcaag tcaagg caagga aaggac aggacg ggacgt gacgta acgtaa cgtaac gtaact taactg aactga actgaa ctgaag tgaaga gaagag aagagg agagga gaggat aggatg ggatgc gatgca atgcag tgcagg gcaggg caggga agggaa gggaat ggaatt gaatta aattat attata ttatac tataca atacaa tacaat acaatc caatct aatctt atcttg tcttgc cttgct ttgctg tgctga gctgag ctgagc tgagca gagcat agcata gcataa cataaa ataaaa taaaac aaaaca aaacag aacagt acagtc cagtca agtcaa gtcaaa tcaaat caaatg aaatgt aatgtg atgtgt tgtgtt gtgttt tgttta gtttaa tttaaa ttaaaa taaaaa aaaaac aaaacc aaacct aacctc acctca cctcac ctcact tcactg cactgc actgcc ctgcca tgccac gccact ccactc cactct actcta ctctaa tctaat ctaatt taattg aattgt attgtc ttgtca tgtcaa gtcaat tcaatg caatgt aatgtg atgtga tgtgaa gtgaaa tgaaac gaaacc aaaccc aacccc acccca ccccag cccaga ccagat cagatt agattt gattta atttac tttacg ttacga tacgaa acgaaa cgaaaa gaaaag aaaagg aaaggc aaggcc aggccg ggccgt gccgtg ccgtgt cgtgtc gtgtca tgtcat gtcatc tcatcg catcgt atcgtt tcgttt cgtttc gtttcc tttcca ttccag tccaga ccagac cagacc agaccc gacccg acccgg cccggc ccggct cggctc ggctct gctctc ctctct tctcta ctctac tctacc ctaccc taccca acccac cccact ccactg cactgg actggg ctgggc tgggca gggcag ggcagc gcagca cagcag agcaga gcagac cagaca agacaa gacaaa acaaat caaatc aaatcc aatcct atcctg tcctga cctgac ctgact tgactt gacttg acttgt cttgta ttgtac tgtacc gtaccg taccgc accgca ccgcat cgcata gcatat catatg atatgg tatggt atggta tggtat ggtatc gtatcc tatccc atccct tccctc ccctca cctcaa ctcaac tcaacc caacct aaccta acctac cctaca ctacaa tacaat acaatc caatca aatcaa atcaag tcaagt caagtg aagtgg agtggt gtggtt tggttc ggttct gttctg ttctgg tctggc ctggca tggcac ggcacc gcaccc cacccc acccct cccctg ccctgt cctgta ctgtaa tgtaac gtaacc taacca aaccat accata ccataa cataat ataatc taatca aatcat atcatt tcattc cattcc attccg ttccga tccgaa ccgaag cgaagc gaagca aagcaa agcaag gcaagg caaggt aaggtg aggtgt ggtgtg gtgtga tgtgac gtgact tgactt gacttt actttt cttttg ttttgt tttgtt ttgttc tgttcc gttcca ttccaa tccaat ccaata caataa aataat ataatg taatga aatgaa atgaag tgaaga gaagag aagagt agagtc gagtcc agtcct gtcctt tccttt ccttta ctttat tttatc ttatcc tatcct atcctg tcctgg cctgga ctggat tggatg ggatgc gatgct atgctg tgctga gctgac ctgaca tgacag gacagc acagca cagcaa agcaac gcaaca caacat aacatg acatgg catggg atggga tgggaa gggaaa ggaaac gaaaca aaacag aacaga acagaa cagaat agaatt gaattg aattga attgag ttgaga tgagag gagagc agagca gagcat agcatc gcatca catcac atcact tcactc cactca actcag ctcagc tcagcg cagcgc agcgca gcgcat cgcatg gcatgg catggc atggca tggcaa ggcaat gcaata caataa aataat ataata taatag aataga atagaa tagaag agaagg gaagga aaggaa aggaaa ggaaag gaaaga aaagaa aagaat agaata gaataa aataag ataaga taagat aagatg agatgg gatggc atggct tggcta ggctag gctagc ctagca tagcac agcacc gcacct cacctt accttg ccttgg cttggt ttggtt tggttg ggttgt gttgtg ttgtgg tgtggc gtggct tggctg ggctga gctgac ctgact tgactc gactct actcta ctctag tctaga ctagaa tagaat agaatt gaattt aatttc atttct tttctg ttctgg tctgga ctggaa tggaat ggaatc gaatct aatcta atctac tctaca ctacat tacatt acattt catttg atttgc tttgca ttgcat tgcata gcatag catagc atagct tagctt agcttc gcttcc cttcca ttccaa tccaat ccaata caataa aataaa ataaag taaagt aaagtt aagttg agttgg gttggg ttggga tgggac gggact ggactg gactgt actgtg ctgtgg tgtggg gtggga tgggaa gggaag ggaaga gaagaa aagaaa agaaac gaaaca aaacat aacata acataa cataag ataagc taagct aagctt agcttt gctttt ctttta ttttat tttata ttatat tatatc atatca tatcac atcaca tcacag cacaga acagat cagatg agatgt gatgtg atgtgc tgtgcc gtgcca tgccaa gccaaa ccaaat caaatg aaatgg aatggg atgggt tgggtt gggttt ggtttc gtttca tttcat ttcatg tcatgt catgtt atgtta tgttaa gttaac ttaact taactt aacttg acttgg cttgga ttggaa tggaaa ggaaaa gaaaaa aaaaaa aaaaat aaaatg aaatgc aatgcc atgccg tgccga gccgac ccgacg cgacgg gacgga acggaa cggaag ggaagg gaagga aaggag aggaga ggagag gagagg agagga gaggac aggacc ggacct gacctg acctga cctgaa ctgaaa tgaaac gaaact aaactg aactgt actgtc ctgtct tgtctt gtcttg tcttgc cttgca ttgcac tgcaca gcacag cacagt acagtt cagtta agttaa gttaac ttaaca taacaa aacaag acaagt caagtt aagttc agttct gttctt ttctta tcttat cttata ttatac tataca atacag tacaga acagag cagaga agagac gagacg agacgt gacgtt acgtta cgttac gttact ttactt tacttg acttgg cttgga ttggat tggatt ggattt gatttt atttta ttttac tttact ttactg tactgc actgcg ctgcgg tgcgga gcggac cggaca ggacag gacagt acagtt cagtta agttaa gttaat ttaata taataa aataac ataaca taacag aacaga acagaa cagaac agaaca gaacaa aacaat acaatg caatgc aatgca atgcac tgcact gcacta cactac actaca ctacag tacagt acagta cagtat agtatt gtatta tattag attagc ttagca tagcaa agcaag gcaagc caagca aagcaa agcaaa gcaaaa caaaaa aaaaaa aaaaat aaaatg aaatgg aatggc atggcc tggcca ggccat gccatc ccatca catcac atcact tcacta cactaa actaag ctaagg taagga aaggag aggagc ggagca gagcac agcact gcactc cactcc actcca ctccat tccatc ccatca catcac atcact tcactc cactct actctt ctctta tcttaa cttaat ttaatc taatct aatctt atctta tcttac cttacc ttacca taccat accatc ccatca catcat atcatg tcatga catgaa atgaat tgaatg gaatgt aatgtt atgttt tgtttc gtttcc tttccc ttccct tccctg ccctgc cctgca ctgcaa tgcaag gcaaga caagat aagatt agattc gattca attcag ttcagg tcaggc caggca aggcac ggcacc gcacct caccta acctat cctatg ctatgc tatgcc atgcct tgcctg gcctgc cctgca ctgcag tgcaga gcagag cagagc agagcc gagcca agccag gccagg ccagga caggaa aggaat ggaatg gaatgt aatgta atgtat tgtata gtatac tataca atacac tacaca acacag cacagg acaggg cagggg agggga ggggaa gggaag ggaaga gaagaa aagaaa agaaat gaaatc aaatcc aatcct atcctc tcctcc cctcca ctccag tccaga ccagaa cagaag agaaga gaagaa aagaaa agaaag gaaaga aaagaa aagaaa agaaat gaaatt aaatta aattac attaca ttacaa tacaat acaatc caatca aatcag atcaga tcagag cagagg agaggt gaggtg aggtga ggtgag gtgagc tgagca gagcac agcact gcactg cactgc actgca ctgcaa tgcaac gcaaca caacaa aacaaa acaaaa caaaaa aaaaag aaaagg aaaggc aaggct aggctg ggctgt gctgtt ctgttt tgtttt gttttc ttttct tttctc ttctct tctctc ctctcg tctcgg ctcgga tcggat cggatc ggatct gatctc atctcc tctcca ctccaa tccaaa ccaaat caaatt aaattt aattta atttaa tttaaa ttaaaa taaaag aaaagc aaagca aagcac agcaca gcacaa cacaag acaagg caagga aaggaa aggaat ggaatg gaatga aatgat atgatt tgattg gattgt attgta ttgtac tgtacc gtacca taccac accaca ccacac cacaca acacaa cacaaa acaaag caaagt aaagta aagtaa agtaat gtaatg taatgt aatgta atgtaa tgtaaa gtaaaa taaaac aaaaca aaacat aacatt acatta cattaa \n"
     ]
    }
   ],
   "source": [
    "#print(f'[{y_human[0]}] : [{human_texts[0][0:5]}]...[{human_texts[0][-5:]}]')\n",
    "#print(f'[{y_human[800]}] : [{human_texts[800][0:5]}]...[{human_texts[800][-5:]}]')\n",
    "#print(f'[{y_human[1000]}] : [{human_texts[1000][0:5]}]...[{human_texts[1000][-5:]}]')\n",
    "#print(f'[{y_human[1500]}] : [{human_texts[1500][0:5]}]...[{human_texts[1500][-5:]}]')\n",
    "#print(f'[{y_human[2000]}] : [{human_texts[2000][0:5]}]...[{human_texts[2000][-5:]}]')\n",
    "#print(f'[{y_human[2600]}] : [{human_texts[2600][0:5]}]...[{human_texts[2600][-5:]}]')\n",
    "#print(f'[{y_human[4000]}] : [{human_texts[4000][0:5]}]...[{human_texts[4000][-5:]}]')\n",
    "#print(f'[{y_human[4020]}] : [{human_texts[4020][0:5]}]...[{human_texts[4020][-5:]}]')\n",
    "\n",
    "index=800\n",
    "print(y_human[index])\n",
    "print(human_texts[index])"
   ]
  },
  {
   "cell_type": "markdown",
   "id": "1e4bb638",
   "metadata": {},
   "source": [
    "### Predicting the chimp, dog sequences"
   ]
  },
  {
   "cell_type": "code",
   "execution_count": null,
   "id": "8b186306",
   "metadata": {},
   "outputs": [],
   "source": [
    "# Predicting the chimp sequences\n",
    "y_pred_chimp = classifier.predict(X_chimp)\n",
    "\n",
    "# performance on chimpanzee genes\n",
    "print(\"Confusion matrix for predictions on Chimpanzee test DNA sequence\\n\")\n",
    "print(pd.crosstab(pd.Series(y_chimp, name='Actual'), pd.Series(y_pred_chimp, name='Predicted')))\n",
    "accuracy, precision, recall, f1 = get_metrics(y_chimp, y_pred_chimp)\n",
    "print(\"accuracy = %.3f \\nprecision = %.3f \\nrecall = %.3f \\nf1 = %.3f\" % (accuracy, precision, recall, f1))"
   ]
  },
  {
   "cell_type": "code",
   "execution_count": null,
   "id": "34aa9390",
   "metadata": {},
   "outputs": [],
   "source": [
    "# Predicting the dog sequences\n",
    "y_pred_dog = classifier.predict(X_dog)\n",
    "\n",
    "# performance on dog genes\n",
    "print(\"Confusion matrix for predictions on Dog test DNA sequence\\n\")\n",
    "print(pd.crosstab(pd.Series(y_dog, name='Actual'), pd.Series(y_pred_dog, name='Predicted')))\n",
    "accuracy, precision, recall, f1 = get_metrics(y_dog, y_pred_dog)\n",
    "print(\"accuracy = %.3f \\nprecision = %.3f \\nrecall = %.3f \\nf1 = %.3f\" % (accuracy, precision, recall, f1))"
   ]
  },
  {
   "cell_type": "markdown",
   "id": "83a4488f",
   "metadata": {},
   "source": [
    "## Gaussian Naive Bayes - classes"
   ]
  },
  {
   "cell_type": "code",
   "execution_count": null,
   "id": "fd4eabb9",
   "metadata": {},
   "outputs": [],
   "source": [
    "kv = kvec.KmerVectors(['a','g','c','t'], 6, fastadatasets=[human_0_fads,human_1_fads])\n",
    "print(kv.labels)"
   ]
  },
  {
   "cell_type": "code",
   "execution_count": null,
   "id": "f8ee97a5",
   "metadata": {},
   "outputs": [],
   "source": [
    "e = kv.seq2KmerSentencesFASTA(base_count_max=4, length_min=0, dataset_limit=10000)"
   ]
  },
  {
   "cell_type": "code",
   "execution_count": null,
   "id": "57fadb8a",
   "metadata": {},
   "outputs": [],
   "source": [
    "human_texts=e['v2']\n",
    "#print(human_texts[0])\n",
    "#y_human=e['v1']"
   ]
  },
  {
   "cell_type": "code",
   "execution_count": null,
   "id": "2ba0db9a",
   "metadata": {},
   "outputs": [],
   "source": [
    "df=pd.DataFrame(data=e)\n",
    "df = df.replace({\"v1\": kv_human.labels})\n",
    "\n",
    "df"
   ]
  },
  {
   "cell_type": "code",
   "execution_count": null,
   "id": "dcfd2481",
   "metadata": {},
   "outputs": [],
   "source": [
    "df.groupby('v1').count()"
   ]
  },
  {
   "cell_type": "code",
   "execution_count": null,
   "id": "0c376f09",
   "metadata": {},
   "outputs": [],
   "source": [
    "y_human=df['v1'].values\n",
    "y"
   ]
  },
  {
   "cell_type": "code",
   "execution_count": null,
   "id": "c1eb24ca",
   "metadata": {},
   "outputs": [],
   "source": [
    "sns.countplot(df.v1)\n",
    "plt.xlabel('Class Label')\n",
    "plt.title('Class distribution of Human DNA')"
   ]
  },
  {
   "cell_type": "markdown",
   "id": "3b3a466b",
   "metadata": {},
   "source": [
    "**Creating the Bag of Words model:**"
   ]
  },
  {
   "cell_type": "code",
   "execution_count": null,
   "id": "fb472e9f",
   "metadata": {},
   "outputs": [],
   "source": [
    "# Creating the Bag of Words model:\n",
    "cv = CountVectorizer(ngram_range=(4,4), lowercase=False) #The n-gram size of 4 is previously determined by testing\n",
    "X = cv.fit_transform(human_texts)"
   ]
  },
  {
   "cell_type": "code",
   "execution_count": null,
   "id": "8a189315",
   "metadata": {},
   "outputs": [],
   "source": [
    "X_train, X_test, y_train, y_test = train_test_split(X, y_human, test_size=0.333, random_state=42)"
   ]
  },
  {
   "cell_type": "code",
   "execution_count": null,
   "id": "4d701eb1",
   "metadata": {},
   "outputs": [],
   "source": [
    "from sklearn.naive_bayes import GaussianNB\n",
    "\n",
    "print(f'X_train.shape: [{X_train.shape}]')\n",
    "print(f'len(y_train): [{len(y_train)}]')\n",
    "print(f'X_test.shape: [{X_test.shape}]')\n",
    "gnb = GaussianNB()\n",
    "gnb.fit(X_train.toarray(), y_train)\n",
    "y_pred = gnb.predict(X_test.toarray())\n",
    "\n",
    "print(\"Confusion matrix for predictions on human test DNA sequence\\n\")\n",
    "print(pd.crosstab(pd.Series(y_test, name='Actual'), pd.Series(y_pred, name='Predicted')))\n",
    "\n",
    "print(\"Number of mislabeled points out of a total %d points : %d\"\n",
    "      % (X_test.shape[0], (y_test != y_pred).sum()))\n",
    "accuracy, precision, recall, f1 = get_metrics(y_test, y_pred)\n",
    "print(\"accuracy = %.3f \\nprecision = %.3f \\nrecall = %.3f \\nf1 = %.3f\" % (accuracy, precision, recall, f1))\n"
   ]
  },
  {
   "cell_type": "code",
   "execution_count": null,
   "id": "29492864",
   "metadata": {},
   "outputs": [],
   "source": []
  }
 ],
 "metadata": {
  "kernelspec": {
   "display_name": "Python 3 (ipykernel)",
   "language": "python",
   "name": "python3"
  },
  "language_info": {
   "codemirror_mode": {
    "name": "ipython",
    "version": 3
   },
   "file_extension": ".py",
   "mimetype": "text/x-python",
   "name": "python",
   "nbconvert_exporter": "python",
   "pygments_lexer": "ipython3",
   "version": "3.10.5"
  }
 },
 "nbformat": 4,
 "nbformat_minor": 5
}
